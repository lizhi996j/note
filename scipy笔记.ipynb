{
 "cells": [
  {
   "cell_type": "markdown",
   "metadata": {},
   "source": [
    "## Scipy笔记"
   ]
  },
  {
   "cell_type": "markdown",
   "metadata": {},
   "source": [
    "### 稀疏矩阵\n",
    "scipy.sparse 提供了多种稀疏矩阵格式和操作方法，常见的稀疏矩阵格式包括：\n",
    "- CSR (Compressed Sparse Row)：行压缩稀疏矩阵格式\n",
    "- CSC (Compressed Sparse Column)：列压缩稀疏矩阵格式\n",
    "- COO (Coordinate)：坐标格式，适用于矩阵构建\n",
    "- LIL (List of Lists)：行列表格式，适用于增量添加\n",
    "- DOK (Dictionary of Keys)：字典格式，适用于动态修改矩阵"
   ]
  },
  {
   "cell_type": "markdown",
   "metadata": {},
   "source": [
    "#### DOK矩阵\n",
    "- DOK 是 Dictionary Of Keys（键的字典）的缩写。\n",
    "- 它是一种稀疏矩阵格式，用字典来存储非零元素，字典的键是矩阵中的 (行索引, 列索引)，值是对应位置的元素值。\n",
    "- 适合矩阵的构建与修改，不适合矩阵计算"
   ]
  },
  {
   "cell_type": "markdown",
   "metadata": {},
   "source": [
    "##### 矩阵构建与修改"
   ]
  },
  {
   "cell_type": "code",
   "execution_count": 1,
   "metadata": {},
   "outputs": [],
   "source": [
    "import scipy.sparse as sp\n",
    "\n",
    "dok_matrix = sp.dok_matrix((5, 5)) \n",
    "\n",
    "dok_matrix[0, 0] = 1\n"
   ]
  },
  {
   "cell_type": "markdown",
   "metadata": {},
   "source": [
    "##### 从numpy数组创建稀疏矩阵"
   ]
  },
  {
   "cell_type": "code",
   "execution_count": 4,
   "metadata": {},
   "outputs": [
    {
     "name": "stdout",
     "output_type": "stream",
     "text": [
      "  (0, 0)\t1\n",
      "  (0, 2)\t3\n",
      "  (2, 0)\t2\n",
      "  (2, 2)\t4\n",
      "修改值后：\n",
      "  (0, 2)\t3\n",
      "  (2, 0)\t2\n",
      "  (2, 2)\t4\n"
     ]
    }
   ],
   "source": [
    "import numpy as np\n",
    "import scipy.sparse as sp\n",
    "\n",
    "dense_matrix = np.array([[1, 0, 3], [0, 0, 0], [2, 0, 4]])\n",
    "dok = sp.dok_matrix(dense_matrix)\n",
    "\n",
    "print(dok)\n",
    "\n",
    "dok[0, 0] = 0\n",
    "print(f\"修改值后：\\n{dok}\")\n"
   ]
  },
  {
   "cell_type": "markdown",
   "metadata": {},
   "source": [
    "##### 从DOK转为numpy数组"
   ]
  },
  {
   "cell_type": "code",
   "execution_count": 5,
   "metadata": {},
   "outputs": [
    {
     "name": "stdout",
     "output_type": "stream",
     "text": [
      "numpy:\n",
      "[[1 0 3]\n",
      " [0 0 0]\n",
      " [2 0 4]]\n"
     ]
    }
   ],
   "source": [
    "import numpy as np\n",
    "import scipy.sparse as sp\n",
    "\n",
    "dense_matrix = np.array([[1, 0, 3], [0, 0, 0], [2, 0, 4]])\n",
    "dok = sp.dok_matrix(dense_matrix)\n",
    "numpy = dok.toarray()\n",
    "print(f\"numpy:\\n{numpy}\")"
   ]
  },
  {
   "cell_type": "markdown",
   "metadata": {},
   "source": [
    "##### 遍历所有数组元素"
   ]
  },
  {
   "cell_type": "code",
   "execution_count": 6,
   "metadata": {},
   "outputs": [
    {
     "name": "stdout",
     "output_type": "stream",
     "text": [
      "位置 (0, 0): 1\n",
      "位置 (0, 2): 3\n",
      "位置 (2, 0): 2\n",
      "位置 (2, 2): 4\n"
     ]
    }
   ],
   "source": [
    "import numpy as np\n",
    "import scipy.sparse as sp\n",
    "\n",
    "dense_matrix = np.array([[1, 0, 3], [0, 0, 0], [2, 0, 4]])\n",
    "dok = sp.dok_matrix(dense_matrix)\n",
    "\n",
    "# 遍历非零元素\n",
    "for (row, col), value in dok.items():\n",
    "    print(f\"位置 ({row}, {col}): {value}\")"
   ]
  },
  {
   "cell_type": "markdown",
   "metadata": {},
   "source": [
    "##### 从DOK矩阵转换为其他格式"
   ]
  },
  {
   "cell_type": "code",
   "execution_count": 8,
   "metadata": {},
   "outputs": [
    {
     "name": "stdout",
     "output_type": "stream",
     "text": [
      "csr:\n",
      "  (0, 0)\t1\n",
      "  (0, 2)\t3\n",
      "  (2, 0)\t2\n",
      "  (2, 2)\t4\n",
      "csc:\n",
      "  (0, 0)\t1\n",
      "  (2, 0)\t2\n",
      "  (0, 2)\t3\n",
      "  (2, 2)\t4\n",
      "coo:\n",
      "  (0, 0)\t1\n",
      "  (0, 2)\t3\n",
      "  (2, 0)\t2\n",
      "  (2, 2)\t4\n"
     ]
    }
   ],
   "source": [
    "import numpy as np\n",
    "import scipy.sparse as sp\n",
    "\n",
    "dense_matrix = np.array([[1, 0, 3], [0, 0, 0], [2, 0, 4]])\n",
    "dok = sp.dok_matrix(dense_matrix)\n",
    "\n",
    "csr = dok.tocsr()\n",
    "print(f\"csr:\\n{csr}\")\n",
    "csc = dok.tocsc()\n",
    "print(f\"csc:\\n{csc}\")\n",
    "coo = dok.tocoo()\n",
    "print(f\"coo:\\n{coo}\")"
   ]
  },
  {
   "cell_type": "markdown",
   "metadata": {},
   "source": [
    "#### CSR矩阵"
   ]
  },
  {
   "cell_type": "markdown",
   "metadata": {},
   "source": [
    "压缩稀疏行矩阵（CSR)，有三个核心元素：\n",
    "- data：所有非零元素的值\n",
    "- indices：每个非零元素对应的列索引\n",
    "- indptr：每一行开始非零数据在 data 和 indices 中的起始位置\n"
   ]
  },
  {
   "cell_type": "markdown",
   "metadata": {},
   "source": [
    "##### 矩阵构建与修改\n",
    "法一：从numpy数组构建  \n",
    "法二：从data,indices,indptr构建  \n",
    "法三：按coo格式构建"
   ]
  },
  {
   "cell_type": "code",
   "execution_count": 4,
   "metadata": {},
   "outputs": [
    {
     "name": "stdout",
     "output_type": "stream",
     "text": [
      "sparse1:\n",
      "  (0, 2)\t1\n",
      "  (1, 0)\t1\n",
      "  (2, 1)\t2\n"
     ]
    },
    {
     "name": "stderr",
     "output_type": "stream",
     "text": [
      "a:\\program files\\anaconda3\\envs\\pytorch\\lib\\site-packages\\IPython\\core\\interactiveshell.py:3550: SparseEfficiencyWarning: Comparing sparse matrices using == is inefficient, try using != instead.\n",
      "  exec(code_obj, self.user_global_ns, self.user_ns)\n"
     ]
    },
    {
     "data": {
      "text/plain": [
       "<3x3 sparse matrix of type '<class 'numpy.bool_'>'\n",
       "\twith 9 stored elements in Compressed Sparse Row format>"
      ]
     },
     "execution_count": 4,
     "metadata": {},
     "output_type": "execute_result"
    }
   ],
   "source": [
    "import numpy as np\n",
    "from scipy.sparse import csr_matrix\n",
    "\n",
    "# 从numpy数组构建\n",
    "dense = np.array([[0, 0, 1], [1, 0, 0], [0, 2, 0]])\n",
    "sparse1 = csr_matrix(dense)\n",
    "print(f\"sparse1:\\n{sparse1}\")\n",
    "\n",
    "# 从data,indices,indptr构建\n",
    "data = np.array([1, 1, 2])\n",
    "indices = np.array([2, 0, 1])\n",
    "indptr = np.array([0, 1, 2, 3])\n",
    "sparse2 = csr_matrix((data, indices, indptr), shape=(3, 3))\n",
    "\n",
    "# 按coo格式构建\n",
    "data = np.array([1, 1, 2])\n",
    "row = np.array([0, 1, 2])\n",
    "col = np.array([2, 0, 1])\n",
    "sparse3 = csr_matrix((data, (row, col)), shape=(3, 3))\n",
    "\n",
    "sparse1 == sparse2 "
   ]
  }
 ],
 "metadata": {
  "kernelspec": {
   "display_name": "pytorch",
   "language": "python",
   "name": "python3"
  },
  "language_info": {
   "codemirror_mode": {
    "name": "ipython",
    "version": 3
   },
   "file_extension": ".py",
   "mimetype": "text/x-python",
   "name": "python",
   "nbconvert_exporter": "python",
   "pygments_lexer": "ipython3",
   "version": "3.9.18"
  }
 },
 "nbformat": 4,
 "nbformat_minor": 2
}
