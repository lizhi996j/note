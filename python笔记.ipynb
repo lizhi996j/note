{
 "cells": [
  {
   "cell_type": "markdown",
   "metadata": {},
   "source": [
    "## 各类模块"
   ]
  },
  {
   "cell_type": "markdown",
   "metadata": {},
   "source": [
    "### json模块\n",
    "- 目前认为处理josnl(json line)文件时需要一行一行读取；"
   ]
  },
  {
   "cell_type": "markdown",
   "metadata": {},
   "source": [
    "#### json.dumps(obj)与json.dump(obj,file)\n",
    "- dump 通常指将数据从一个地方传输到另一个地方，通常是将内存中的数据存储到文件、数据库或其他持久化存储介质中;  \n",
    "- 在json模块中，dump是将数据转换为json字符串，并写入文件中；  \n",
    "- dumps是dump string的缩写；\n",
    "- json.dumps的完整参数：  \n",
    "json.dumps(obj, skipkeys=False, ensure_ascii=True, check_circular=True, allow_nan=True, cls=None, indent=None, separators=None, default=None, sort_keys=False, **kw)\n",
    "- json.dump的完整参数：  \n",
    "json.dump(obj, fp, skipkeys=False, ensure_ascii=True, check_circular=True, allow_nan=True, cls=None, indent=None, separators=None, default=None, sort_keys=False, **kw)\n",
    "\n",
    "\n",
    "\n",
    "\n",
    "\n",
    "\n",
    "\n",
    "\n",
    "\n",
    "\n"
   ]
  },
  {
   "cell_type": "code",
   "execution_count": 3,
   "metadata": {},
   "outputs": [
    {
     "name": "stdout",
     "output_type": "stream",
     "text": [
      "\"Hello\"\n",
      "{\"name\": \"Alice\", \"age\": 25, \"is_student\": false, \"scores\": [95, 88, 92]}\n",
      "{'name': 'Alice', 'age': 25, 'is_student': False, 'scores': [95, 88, 92]}\n"
     ]
    }
   ],
   "source": [
    "import json\n",
    "print(json.dumps(\"Hello\"))\n",
    "data = {\n",
    "    \"name\": \"Alice\",\n",
    "    \"age\": 25,\n",
    "    \"is_student\": False,\n",
    "    \"scores\": [95, 88, 92]\n",
    "}\n",
    "print(json.dumps(data))\n",
    "print(data) # json的字符串必须是双引号"
   ]
  },
  {
   "cell_type": "code",
   "execution_count": 4,
   "metadata": {},
   "outputs": [],
   "source": [
    "import json\n",
    "data = {\n",
    "    \"name\": \"Alice\",\n",
    "    \"age\": 25,\n",
    "    \"is_student\": False,\n",
    "    \"scores\": [95, 88, 92]\n",
    "}\n",
    "with open(\"data.json\", \"w\") as f:\n",
    "    json.dump(data, f)"
   ]
  },
  {
   "cell_type": "markdown",
   "metadata": {},
   "source": [
    "#### json.loads()与json.load()\n",
    "- 完整代码：  \n",
    "    - json.loads(s, *, cls=None, object_hook=None, parse_float=None,\n",
    "           parse_int=None, parse_constant=None, object_pairs_hook=None, **kw)  \n",
    "    - json.load(fp, *, cls=None, object_hook=None, parse_float=None,\n",
    "          parse_int=None, parse_constant=None, object_pairs_hook=None, **kw)\n",
    "- 参数：\n",
    "    - s: 字符串或字节序列\n",
    "    - fp: 文件对象. 注意是文件对象，不是文件路径\n",
    "\n",
    "\n",
    "\n",
    "\n",
    "\n",
    "\n",
    "\n",
    "\n",
    "\n",
    "\n"
   ]
  },
  {
   "cell_type": "code",
   "execution_count": 27,
   "metadata": {},
   "outputs": [
    {
     "name": "stdout",
     "output_type": "stream",
     "text": [
      "{'name': 'Alice', 'age': 25, 'is_student': False}\n",
      "<class 'dict'>\n"
     ]
    }
   ],
   "source": [
    "import json\n",
    "\n",
    "json_string = '{\"name\": \"Alice\", \"age\": 25, \"is_student\": false}'\n",
    "data = json.loads(json_string)\n",
    "print(data)\n",
    "print(type(data))"
   ]
  },
  {
   "cell_type": "code",
   "execution_count": 26,
   "metadata": {},
   "outputs": [
    {
     "name": "stdout",
     "output_type": "stream",
     "text": [
      "[{'name': 'Alice', 'age': 25, 'is_student': False, 'scores': [95, 88, 92]}, {'name': 'Bob', 'age': 30, 'is_student': True, 'scores': [85, 90, 88]}]\n"
     ]
    }
   ],
   "source": [
    "import json\n",
    "with open(\"data.json\", \"r\") as f:\n",
    "    data = []\n",
    "    for line in f:\n",
    "        data.append(json.loads(line))\n",
    "print(data)"
   ]
  },
  {
   "cell_type": "markdown",
   "metadata": {},
   "source": [
    "### os 模块\n",
    "Python 的 os 模块是标准库中用于 与操作系统交互 的模块，提供了非常丰富的功能来处理文件和目录、执行系统命令、获取环境变量等。"
   ]
  },
  {
   "cell_type": "markdown",
   "metadata": {},
   "source": [
    "#### 文件和目录操作\n",
    "- os.getcwd()         ： 获取当前工作目录\n",
    "- os.chdir(path)      ： 改变当前工作目录\n",
    "- os.listdir(path)    ： 列出指定目录下的文件和文件夹\n",
    "- os.mkdir(path)      ： 创建单层目录\n",
    "- os.makedirs(path)   ： 创建多层目录\n",
    "- os.remove(path)     ： 删除文件\n",
    "- os.rmdir(path)      ： 删除空目录\n",
    "- os.removedirs(path) ： 递归删除空目录\n",
    "\n",
    "- os.rename(src, dst) ： 重命名文件或目录\n",
    "- os.stat(path)        ： 获取文件状态信息（如大小、修改时间）\n"
   ]
  },
  {
   "cell_type": "markdown",
   "metadata": {},
   "source": [
    "#### 路径操作 (os.path模块)\n",
    "- os.path.join(a, b)          ： 合并路径\n",
    "- os.path.exists(path)        ： 判断路径是否存在(可以输入相对路径)\n",
    "- os.path.isfile(path)        ： 判断是否为文件\n",
    "- os.path.isdir(path)         ： 判断是否为目录\n",
    "- os.path.abspath(path)       ： 返回绝对路径\n",
    "- os.path.basename(path)      ： 获取文件名\n",
    "- os.path.dirname(path)       ： 获取目录名\n",
    "- **os.path.split(path)**         ： 拆分路径为 (目录, 文件名)\n",
    "- os.path.splitext(path)      ： 拆分路径为 (文件名, 扩展名)\n",
    "- os.path.realpath(path)      ： 解析符号链接"
   ]
  },
  {
   "cell_type": "code",
   "execution_count": 4,
   "metadata": {},
   "outputs": [
    {
     "name": "stdout",
     "output_type": "stream",
     "text": [
      "<class 'str'>\n"
     ]
    },
    {
     "data": {
      "text/plain": [
       "True"
      ]
     },
     "execution_count": 4,
     "metadata": {},
     "output_type": "execute_result"
    }
   ],
   "source": [
    "import os\n",
    "file_path = \"python笔记.ipynb\"\n",
    "abs_path = os.path.abspath(file_path)\n",
    "print(type(abs_path))\n",
    "os.path.exists(file_path)"
   ]
  },
  {
   "cell_type": "markdown",
   "metadata": {},
   "source": [
    "##### 符号链接与硬连接： \n",
    "- 符号链接是文件系统中的“别名”或“快捷方式”，访问它就像访问原始文件一样，而 os.path.realpath() 能告诉你这个“别名”真正指向的地方。；\n",
    "- Windows 支持符号链接，但默认创建它需要 管理员权限 或启用 开发者模式  \n",
    "常见的“快捷方式”（.lnk 文件）不是符号链接，但作用类似\n",
    "- 除了**符号链接（软链接）**之外，还有一种叫做 硬链接（hard link);硬链接 是一个文件的另一个名字，它指向的是同一个数据块，完全等价。"
   ]
  },
  {
   "cell_type": "markdown",
   "metadata": {},
   "source": [
    "#### 环境变量"
   ]
  },
  {
   "cell_type": "markdown",
   "metadata": {},
   "source": [
    "### re模块"
   ]
  },
  {
   "cell_type": "markdown",
   "metadata": {},
   "source": [
    "#### 普通模式，单行模式与多行模式  \n",
    "- 默认模式  \n",
    "    - . 匹配除换行之外的任意字符；  \n",
    "    - ^ 只匹配整个输入的开头，$ 只匹配整个输入的结尾。  \n",
    "\n",
    "- 单行模式（s / DOTALL）\n",
    "    - 只改变 . 的行为，让它也能匹配换行符；  \n",
    "    - 锚点 ^、$ 行为不变。  \n",
    "\n",
    "- 多行模式（m）\n",
    "    - 只改变锚点行为，让 ^、$ 分别匹配每行的行首和行尾；  \n",
    "    - . 依旧不匹配换行。  \n",
    "\n",
    "\n",
    "\n",
    "\n",
    "\n",
    "\n",
    "\n"
   ]
  },
  {
   "cell_type": "code",
   "execution_count": 13,
   "metadata": {},
   "outputs": [
    {
     "name": "stdout",
     "output_type": "stream",
     "text": [
      "['', 'oo', '', '', '', '', '']\n",
      "['foo\\n']\n",
      "[]\n",
      "['foo']\n"
     ]
    }
   ],
   "source": [
    "import re\n",
    "# 默认模式\n",
    "text = \"foo\\nbar\"\n",
    "print(re.findall(r\"o*\",text))\n",
    "# 单行模式\n",
    "print(re.findall(r\"(?s)foo.\",text))\n",
    "print(re.findall(r\"foo$\",text)) # s换行符不做为结束符\n",
    "# 多行模式\n",
    "print(re.findall(r\"(?m)foo$\",text)) # m模式下，换行符作为结束符\n"
   ]
  },
  {
   "cell_type": "markdown",
   "metadata": {},
   "source": [
    "#### 贪婪模式与非贪婪模式"
   ]
  },
  {
   "cell_type": "code",
   "execution_count": 14,
   "metadata": {},
   "outputs": [
    {
     "data": {
      "text/plain": [
       "['o', 'o', 'o']"
      ]
     },
     "execution_count": 14,
     "metadata": {},
     "output_type": "execute_result"
    }
   ],
   "source": [
    "import re\n",
    "text = \"fooo\"\n",
    "re.findall(r\"o+?\",text) # 在+,*后加?，表示非贪婪模式"
   ]
  },
  {
   "cell_type": "markdown",
   "metadata": {},
   "source": [
    "#### 前向与后向断言\n",
    "- 注意是按位置检查的  \n",
    "下面例子中正向先行断言位置不同，对(?=m)\\d+, 会检查当前位置后字符是否是m,再看是否是\\d，由于m不是\\d，所以不能匹配到任何东西\n",
    "- 是零宽度断言，断言内容不在匹配结果中。"
   ]
  },
  {
   "cell_type": "code",
   "execution_count": 5,
   "metadata": {},
   "outputs": [
    {
     "name": "stdout",
     "output_type": "stream",
     "text": [
      "['100']\n",
      "[]\n",
      "['100', '20']\n",
      "['100', '200']\n"
     ]
    }
   ],
   "source": [
    "import re\n",
    "text = \"100m 200cm\"\n",
    "# 后向断言写在主模式后面\n",
    "print(re.findall(r\"\\d+(?=m)\",text)) \n",
    "print(re.findall(r\"(?=m)\\d+\",text)) \n",
    "print(re.findall(r\"\\d+(?!cm)\",text))\n",
    "print(re.findall(r\"(?!cm)\\d+\",text))\n"
   ]
  },
  {
   "cell_type": "markdown",
   "metadata": {},
   "source": [
    "#### 经常有的一些疑问"
   ]
  },
  {
   "cell_type": "markdown",
   "metadata": {},
   "source": [
    "##### \\*是匹配0次或多次，所以会返回空格; 关于匹配过程的疑惑；   \n",
    "字符串： a a a b  \n",
    "位置： 0 1 2 3  \n",
    "**第1次匹配（位置0开始）：**\n",
    "从位置0开始，遇到'a'，匹配成功  \n",
    "继续到位置1，遇到'a'，匹配成功  \n",
    "继续到位置2，遇到'a'，匹配成功  \n",
    "继续到位置3，遇到'b'，不是'a'，停止匹配  \n",
    "结果：匹配到 \"aaa\"  \n",
    "**第2次匹配（位置3开始）：**\n",
    "从位置3开始，遇到'b'，不是'a'  \n",
    "但是 a* 可以匹配 0个 'a'，所以这也是一个有效匹配  \n",
    "结果：匹配到空字符串 \"\"    \n",
    "**第3次匹配（位置4，字符串末尾）：**\n",
    "到达字符串末尾  \n",
    "a* 仍然可以匹配 0个 'a'  \n",
    "结果：又匹配到空字符串 \"\"  \n",
    "\n",
    "\n",
    "\n",
    "\n",
    "\n",
    "\n"
   ]
  },
  {
   "cell_type": "code",
   "execution_count": 1,
   "metadata": {},
   "outputs": [
    {
     "data": {
      "text/plain": [
       "['aaa', '', '']"
      ]
     },
     "execution_count": 1,
     "metadata": {},
     "output_type": "execute_result"
    }
   ],
   "source": [
    "import re\n",
    "text = \"aaab\" \n",
    "re.findall(r\"a*\",text)"
   ]
  },
  {
   "cell_type": "markdown",
   "metadata": {},
   "source": [
    "##### 只在[]里才能使用-吗？-指匹配[0-9a-zA-Z_]"
   ]
  },
  {
   "cell_type": "code",
   "execution_count": 2,
   "metadata": {},
   "outputs": [
    {
     "data": {
      "text/plain": [
       "[]"
      ]
     },
     "execution_count": 2,
     "metadata": {},
     "output_type": "execute_result"
    }
   ],
   "source": [
    "import re \n",
    "text = \"5 dogs\"\n",
    "re.findall(r\"2-6\",text)\n"
   ]
  },
  {
   "cell_type": "markdown",
   "metadata": {},
   "source": [
    "### collections模块"
   ]
  },
  {
   "cell_type": "markdown",
   "metadata": {},
   "source": [
    "#### namedtuple\n",
    "- 用于表示一条数据；\n",
    "- 方法：\n",
    "   - ._fields\t获取所有字段名（不可变）\n",
    "   - _make(iterable)\t从列表/元组快速创建实例\n",
    "   - _asdict()\t将实例转为 dict\n",
    "   - _replace(**kwargs)\t返回新实例（替换某些字段）\n",
    "- namedtuple 本身不是一个类，而是一个类工厂函数（class factory function）。它的作用是动态创建并返回一个新的类。"
   ]
  },
  {
   "cell_type": "code",
   "execution_count": 4,
   "metadata": {},
   "outputs": [
    {
     "name": "stdout",
     "output_type": "stream",
     "text": [
      "Alice\n",
      "30\n",
      "('name', 'age', 'gender')\n",
      "('name', 'age', 'gender')\n",
      "{'name': 'Alice', 'age': 30, 'gender': 'Female'}\n",
      "<class 'dict'>\n"
     ]
    }
   ],
   "source": [
    "from collections import namedtuple\n",
    "\n",
    "# 创建一个类\n",
    "Person = namedtuple('Person', ['name', 'age', 'gender'])\n",
    "\n",
    "# 创建实例（就像元组）\n",
    "p = Person('Alice', 30, 'Female')\n",
    "\n",
    "# 访问字段\n",
    "print(p.name)   # Alice\n",
    "print(p[1])     # 30（像普通 tuple 一样按位置访问也可以）\n",
    "print(p._fields)\n",
    "print(Person._fields)\n",
    "print(p._asdict())  # 转换为字典\n",
    "print(type(p._asdict()))\n"
   ]
  },
  {
   "cell_type": "markdown",
   "metadata": {},
   "source": [
    "#### OrderedDict\n",
    "在python 3.7+，dict默认是有序的，dict和orderedict无差异"
   ]
  },
  {
   "cell_type": "markdown",
   "metadata": {},
   "source": [
    "#### defaultdict\n",
    "- 基本语法：  \n",
    "from collections import defaultdict  \n",
    "d = defaultdict(default_factory)  \n",
    "default_factory 是一个可调用对象（如 int、list、dict、str 等）；  \n",
    "每次访问不存在的键时，它会调用这个工厂函数生成默认值。  "
   ]
  },
  {
   "cell_type": "code",
   "execution_count": 5,
   "metadata": {},
   "outputs": [
    {
     "name": "stdout",
     "output_type": "stream",
     "text": [
      "defaultdict(<class 'int'>, {'a': 1, 'b': 2})\n"
     ]
    }
   ],
   "source": [
    "from collections import defaultdict\n",
    "\n",
    "counter = defaultdict(int)\n",
    "\n",
    "# 相当于 counter['a'] = 0，然后 +1\n",
    "counter['a'] += 1\n",
    "counter['b'] += 2\n",
    "\n",
    "print(counter)  # defaultdict(<class 'int'>, {'a': 1, 'b': 2})\n"
   ]
  },
  {
   "cell_type": "code",
   "execution_count": 6,
   "metadata": {},
   "outputs": [
    {
     "name": "stdout",
     "output_type": "stream",
     "text": [
      "defaultdict(<class 'list'>, {'fruit': ['apple', 'banana'], 'vegetable': ['carrot']})\n"
     ]
    }
   ],
   "source": [
    "from collections import defaultdict\n",
    "\n",
    "groups = defaultdict(list)\n",
    "\n",
    "groups['fruit'].append('apple')\n",
    "groups['fruit'].append('banana')\n",
    "groups['vegetable'].append('carrot')\n",
    "\n",
    "print(groups)\n",
    "# defaultdict(<class 'list'>, {'fruit': ['apple', 'banana'], 'vegetable': ['carrot']})\n"
   ]
  },
  {
   "cell_type": "markdown",
   "metadata": {},
   "source": [
    "## 知识点"
   ]
  },
  {
   "cell_type": "markdown",
   "metadata": {},
   "source": [
    "#### 基础知识点"
   ]
  },
  {
   "cell_type": "markdown",
   "metadata": {},
   "source": [
    "##### 文件读取方式\n",
    "- f.read() 读取整个文件做为字符串\n",
    "- f.readline() 读取一行\n",
    "- f.readlines() 读取所有行，返回列表，每个元素以换行符结尾"
   ]
  },
  {
   "cell_type": "markdown",
   "metadata": {},
   "source": [
    "##### 模块名\n",
    "- 在Python中，每个 .py 文件都是一个模块，每个模块都有一个 __name__ 属性\n",
    "- \\_\\_name\\_\\_ 变量的含义:  \n",
    "    - 每个 Python 模块在加载时都会自动拥有一个内置的全局变量 \\_\\_name\\_\\_：  \n",
    "    - 当模块被 直接运行（如 python myscript.py）时，解释器会将其 \\_\\_name\\_\\_ 设为 '__main__'。\n",
    "    - 当模块被 导入（如 import myscript）时，__name__ 则等于模块的文件名（不含 .py 后缀），比如 'myscript'。\n",
    "- 常见用途：if \\_\\_name\\_\\_ == '\\_\\_main\\_\\_'"
   ]
  },
  {
   "cell_type": "markdown",
   "metadata": {},
   "source": [
    "在不同层次都有\\_\\_name\\_\\_属性：\n",
    "- 模块层面\n",
    "- 类层面\n",
    "- 函数层面"
   ]
  },
  {
   "cell_type": "markdown",
   "metadata": {},
   "source": [
    "##### format string\n",
    "用来格式化字符串，可以用于f-string中，以往风格中以%做为格式占位符的开始。\n",
    "| 格式 | 含义 | 示例 |\n",
    "|------|------|------|\n",
    "| .2f | 保留 2 位小数的浮点数 | f\"{pi:.2f}\" → '3.14' |\n",
    "| :>5 | 右对齐，宽度为 5 | f\"{42:>5}\" → ' 42' |\n",
    "| :<5 | 左对齐，宽度为 5 | f\"{42:<5}\" → '42 ' |\n",
    "| :^5 | 居中，宽度为 5 | f\"{42:^5}\" → ' 42 ' |\n",
    "| , | 添加千位分隔符 | f\"{1234567:,}\" → '1,234,567' |\n",
    "| % | 转换为百分比 | f\"{0.25:.1%}\" → '25.0%' |"
   ]
  },
  {
   "cell_type": "markdown",
   "metadata": {},
   "source": [
    "### 装饰器"
   ]
  },
  {
   "cell_type": "code",
   "execution_count": 1,
   "metadata": {},
   "outputs": [
    {
     "name": "stdout",
     "output_type": "stream",
     "text": [
      "在函数执行之前\n",
      "在函数执行之后\n",
      "结果是: 8\n"
     ]
    }
   ],
   "source": [
    "def my_decorator(func):\n",
    "    def wrapper(*args, **kwargs):\n",
    "        print(\"在函数执行之前\")\n",
    "        result = func(*args, **kwargs)\n",
    "        print(\"在函数执行之后\")\n",
    "        return result\n",
    "    return wrapper\n",
    "\n",
    "@my_decorator\n",
    "def add(a, b):\n",
    "    return a + b\n",
    "\n",
    "# 调用函数\n",
    "result = add(3, 5)\n",
    "print(f\"结果是: {result}\")"
   ]
  },
  {
   "cell_type": "markdown",
   "metadata": {},
   "source": [
    "#### 使用functools.wraps保留原函数信息："
   ]
  },
  {
   "cell_type": "code",
   "execution_count": 5,
   "metadata": {},
   "outputs": [
    {
     "name": "stdout",
     "output_type": "stream",
     "text": [
      "wrapper\n",
      "This is wrapper doc\n"
     ]
    }
   ],
   "source": [
    "# 不使用functools.wraps\n",
    "def my_decorator(func):\n",
    "    def wrapper(*args, **kwargs):\n",
    "        \"\"\"This is wrapper doc\"\"\"\n",
    "        print(\"Calling function...\")\n",
    "        return func(*args, **kwargs)\n",
    "    return wrapper\n",
    "\n",
    "@my_decorator\n",
    "def greet():\n",
    "    \"\"\"Say hello\"\"\"\n",
    "    print(\"Hello!\")\n",
    "\n",
    "print(greet.__name__)  # ❌ wrapper\n",
    "print(greet.__doc__)   # ❌ \"This is wrapper doc\""
   ]
  },
  {
   "cell_type": "code",
   "execution_count": 7,
   "metadata": {},
   "outputs": [
    {
     "name": "stdout",
     "output_type": "stream",
     "text": [
      "greet\n",
      "Say hello\n"
     ]
    }
   ],
   "source": [
    "# 使用functools.wraps保留原函数信息\n",
    "from functools import wraps\n",
    "\n",
    "def my_decorator(func):\n",
    "    @wraps(func)\n",
    "    def wrapper(*args, **kwargs):\n",
    "        \"\"\"This is wrapper doc\"\"\"\n",
    "        print(\"Calling function...\")\n",
    "        return func(*args, **kwargs)\n",
    "    return wrapper\n",
    "\n",
    "@my_decorator\n",
    "def greet():\n",
    "    \"\"\"Say hello\"\"\"\n",
    "    print(\"Hello!\")\n",
    "\n",
    "print(greet.__name__)  # ✅ greet\n",
    "print(greet.__doc__)   # ✅ \"Say hello\""
   ]
  },
  {
   "cell_type": "markdown",
   "metadata": {},
   "source": [
    "### 描述符"
   ]
  },
  {
   "cell_type": "markdown",
   "metadata": {},
   "source": [
    "其实就是属性是实例；"
   ]
  },
  {
   "cell_type": "code",
   "execution_count": 3,
   "metadata": {},
   "outputs": [
    {
     "data": {
      "text/plain": [
       "'Alice'"
      ]
     },
     "execution_count": 3,
     "metadata": {},
     "output_type": "execute_result"
    }
   ],
   "source": [
    "class ValidString:\n",
    "    def __init__(self, minlen=0):\n",
    "        self.minlen = minlen\n",
    "        \n",
    "    def __get__(self, obj, owner=None):\n",
    "        return obj._name\n",
    "    \n",
    "    def __set__(self, obj, value):\n",
    "        if not isinstance(value, str):\n",
    "            raise TypeError('Expected a string')\n",
    "        if len(value) < self.minlen:\n",
    "            raise ValueError(f'String too short, min length is {self.minlen}')\n",
    "        obj._name = value\n",
    "\n",
    "class Person:\n",
    "    name = ValidString(minlen=3)  # 验证名字长度至少为3\n",
    "    \n",
    "    def __init__(self, name):\n",
    "        self.name = name\n",
    "\n",
    "# 使用\n",
    "# p = Person(\"Bob\")      # 报错：名字太短\n",
    "p = Person(\"Alice\")    # 正确\n",
    "# p.name = \"Jo\"         # 报错：名字太短\n",
    "# p.name = 123          # 报错：不是字符串\n",
    "\n",
    "p.name"
   ]
  },
  {
   "cell_type": "markdown",
   "metadata": {},
   "source": [
    "### 可迭代对象与迭代器\n",
    "- 实现了__iter__和__getitem__的对象是可迭代对象；\n",
    "- 实现了__next__的对象是迭代器；\n",
    "- 生成器有生成器函数，生成器表达式，生成器对象；\n",
    "- 生成器函数和生成器对象都需要yield;每次执行到yield时，会返回一个值，并暂停执行，等待下一次调用next()时继续执行；"
   ]
  },
  {
   "cell_type": "markdown",
   "metadata": {},
   "source": [
    "#### __iter__ 与 __next__ 方法：\n",
    "next会使index+1，调用__iter__()会重置index为0\n",
    "\n",
    "\n",
    "\n",
    "\n",
    "\n",
    "\n",
    "\n",
    "\n"
   ]
  },
  {
   "cell_type": "code",
   "execution_count": 4,
   "metadata": {},
   "outputs": [
    {
     "name": "stdout",
     "output_type": "stream",
     "text": [
      "1\n",
      "2\n",
      "3\n",
      "1\n",
      "2\n",
      "3\n"
     ]
    }
   ],
   "source": [
    "class MyIterator:\n",
    "    def __init__(self, data):\n",
    "        self.data = data\n",
    "        self.index = 0\n",
    "        \n",
    "    def __iter__(self):\n",
    "        self.index = 0  # 重置迭代状态\n",
    "        return self\n",
    "        \n",
    "    def __next__(self):\n",
    "        if self.index >= len(self.data):\n",
    "            raise StopIteration\n",
    "        value = self.data[self.index]\n",
    "        self.index += 1\n",
    "        return value\n",
    "\n",
    "# 创建迭代器实例\n",
    "my_iter = MyIterator([1, 2, 3])\n",
    "\n",
    "# 方式1：直接使用next()\n",
    "print(next(my_iter))  # 输出：1\n",
    "print(next(my_iter))  # 输出：2\n",
    "print(next(my_iter))  # 输出：3\n",
    "\n",
    "# 此时迭代已经结束，index = 3\n",
    "\n",
    "# 方式2：使用iter()后再next()\n",
    "iterator = iter(my_iter)  # 调用__iter__()会重置index为0\n",
    "print(next(iterator))    # 输出：1\n",
    "print(next(iterator))    # 输出：2\n",
    "print(next(iterator))    # 输出：3"
   ]
  },
  {
   "cell_type": "code",
   "execution_count": 1,
   "metadata": {},
   "outputs": [
    {
     "ename": "TypeError",
     "evalue": "iter() returned non-iterator of type 'BrokenIterable'",
     "output_type": "error",
     "traceback": [
      "\u001b[1;31m---------------------------------------------------------------------------\u001b[0m",
      "\u001b[1;31mTypeError\u001b[0m                                 Traceback (most recent call last)",
      "Cell \u001b[1;32mIn[1], line 8\u001b[0m\n\u001b[0;32m      6\u001b[0m broken \u001b[38;5;241m=\u001b[39m BrokenIterable()\n\u001b[0;32m      7\u001b[0m \u001b[38;5;28;01mtry\u001b[39;00m:\n\u001b[1;32m----> 8\u001b[0m     \u001b[38;5;28;01mfor\u001b[39;00m item \u001b[38;5;129;01min\u001b[39;00m broken:  \u001b[38;5;66;03m# 这里会报错\u001b[39;00m\n\u001b[0;32m      9\u001b[0m         \u001b[38;5;28mprint\u001b[39m(item)\n\u001b[0;32m     10\u001b[0m \u001b[38;5;28;01mexcept\u001b[39;00m \u001b[38;5;167;01mAttributeError\u001b[39;00m \u001b[38;5;28;01mas\u001b[39;00m e:\n",
      "\u001b[1;31mTypeError\u001b[0m: iter() returned non-iterator of type 'BrokenIterable'"
     ]
    }
   ],
   "source": [
    "class BrokenIterable:\n",
    "    def __iter__(self):\n",
    "        return self  # 返回自身，但没有实现__next__方法\n",
    "        \n",
    "# 使用时会出错\n",
    "broken = BrokenIterable()\n",
    "for item in broken:  # 这里会报错因为返回的不是迭代器；\n",
    "    print(item)\n"
   ]
  },
  {
   "cell_type": "markdown",
   "metadata": {},
   "source": [
    "#### 使用生成器函数产生数据"
   ]
  },
  {
   "cell_type": "code",
   "execution_count": 34,
   "metadata": {},
   "outputs": [
    {
     "name": "stdout",
     "output_type": "stream",
     "text": [
      "0 [1, 2] [11, 12]\n",
      "1 [3, 4] [13, 14]\n",
      "2 [5, 6] [15, 16]\n",
      "3 [7, 8] [17, 18]\n",
      "4 [9, 10] [19, 20]\n"
     ]
    }
   ],
   "source": [
    "def mini_batch(batch_size,*data):\n",
    "    if len(data)==1:\n",
    "        data = data[0]\n",
    "        for i in range(0,len(data),batch_size):\n",
    "            yield data[i:i+batch_size]\n",
    "    else:\n",
    "        length = len(data[0])\n",
    "        for i in range(0,length,batch_size):\n",
    "            yield tuple(x[i:i+batch_size] for x in data) #将生成器当场迭代完并形成元组；\n",
    "\n",
    "x = [1,2,3,4,5,6,7,8,9,10]\n",
    "y = [11,12,13,14,15,16,17,18,19,20]\n",
    "\n",
    "for index,(x,y) in enumerate(mini_batch(2,x,y)): # 用enumerate之后，x,y要加括号；\n",
    "    print(index,x,y)\n",
    "# 每一行代表一个batch的数据；"
   ]
  },
  {
   "cell_type": "markdown",
   "metadata": {},
   "source": [
    "#### 生成器表表达式\n",
    "(x for x in range(10))\n",
    "与列表推导式的不同是用()而不是[]，生成器表达式是惰性的，不会立即计算，而是每次调用next()时计算一个元素，"
   ]
  },
  {
   "cell_type": "code",
   "execution_count": 29,
   "metadata": {},
   "outputs": [
    {
     "name": "stdout",
     "output_type": "stream",
     "text": [
      "0\n",
      "1\n",
      "2\n",
      "3\n",
      "4\n",
      "5\n",
      "6\n",
      "7\n",
      "8\n",
      "9\n"
     ]
    }
   ],
   "source": [
    "a = (x for x in range(10))\n",
    "for i in a:\n",
    "    print(i)"
   ]
  },
  {
   "cell_type": "markdown",
   "metadata": {},
   "source": [
    "#### 可迭代对象为什么能既根据索引访问，又能切片，还能迭代？"
   ]
  },
  {
   "cell_type": "code",
   "execution_count": 1,
   "metadata": {},
   "outputs": [
    {
     "name": "stdout",
     "output_type": "stream",
     "text": [
      "=== 1. 使用 __getitem__ 实现数字范围 ===\n",
      "创建范围 1 到 10，步长为 2:\n",
      "长度: 5\n",
      "调用 __getitem__ with index: 0\n",
      "第 0 个元素: 1\n",
      "调用 __getitem__ with index: 2\n",
      "第 2 个元素: 5\n",
      "调用 __getitem__ with index: -1\n",
      "最后一个元素: 9\n",
      "\n",
      "使用 for 循环遍历:\n",
      "调用 __getitem__ with index: 0\n",
      "  1\n",
      "调用 __getitem__ with index: 1\n",
      "  3\n",
      "调用 __getitem__ with index: 2\n",
      "  5\n",
      "调用 __getitem__ with index: 3\n",
      "  7\n",
      "调用 __getitem__ with index: 4\n",
      "  9\n",
      "调用 __getitem__ with index: 5\n",
      "\n",
      "=== 2. 支持切片的版本 ===\n",
      "创建范围 0 到 20，步长为 3:\n",
      "调用 __getitem__ with index: 0\n",
      "调用 __getitem__ with index: 1\n",
      "调用 __getitem__ with index: 2\n",
      "调用 __getitem__ with index: 3\n",
      "调用 __getitem__ with index: 4\n",
      "调用 __getitem__ with index: 5\n",
      "调用 __getitem__ with index: 6\n",
      "调用 __getitem__ with index: 7\n",
      "完整范围: [0, 3, 6, 9, 12, 15, 18]\n",
      "调用 __getitem__ with slice: slice(0, 3, None)\n",
      "前 3 个元素: [0, 3, 6]\n",
      "调用 __getitem__ with slice: slice(-3, None, None)\n",
      "后 3 个元素: [12, 15, 18]\n",
      "调用 __getitem__ with slice: slice(None, None, 2)\n",
      "每隔一个元素: [0, 6, 12, 18]\n",
      "\n",
      "=== 3. 与迭代器版本的对比 ===\n",
      "对比两种实现方式:\n",
      "\n",
      "__getitem__ 版本:\n",
      "调用 __getitem__ with index: 2\n",
      "随机访问第 3 个元素: 3\n",
      "调用 __getitem__ with index: 0\n",
      "再次访问第 1 个元素: 1\n",
      "遍历:\n",
      "调用 __getitem__ with index: 0\n",
      "  1\n",
      "调用 __getitem__ with index: 1\n",
      "  2\n",
      "调用 __getitem__ with index: 2\n",
      "  3\n",
      "调用 __getitem__ with index: 3\n",
      "  4\n",
      "调用 __getitem__ with index: 4\n",
      "  5\n",
      "调用 __getitem__ with index: 5\n",
      "\n",
      "迭代器版本:\n",
      "只能顺序遍历:\n",
      "  1\n",
      "  2\n",
      "  3\n",
      "  4\n",
      "  5\n"
     ]
    }
   ],
   "source": [
    "print(\"=== 1. 使用 __getitem__ 实现数字范围 ===\")\n",
    "\n",
    "class RangeWithGetItem:\n",
    "    \"\"\"使用 __getitem__ 实现的数字范围类\"\"\"\n",
    "    def __init__(self, start, end, step=1):\n",
    "        self.start = start\n",
    "        self.end = end\n",
    "        self.step = step\n",
    "        # 计算总长度\n",
    "        self.length = max(0, (end - start + step - 1) // step)\n",
    "    \n",
    "    def __getitem__(self, index):\n",
    "        print(f\"调用 __getitem__ with index: {index}\")\n",
    "        \n",
    "        if index < 0:\n",
    "            # 支持负索引\n",
    "            index = self.length + index\n",
    "        \n",
    "        if index < 0 or index >= self.length:\n",
    "            raise IndexError(\"Index out of range\")\n",
    "        \n",
    "        return self.start + index * self.step\n",
    "    \n",
    "    def __len__(self):\n",
    "        return self.length\n",
    "\n",
    "# 基础使用\n",
    "print(\"创建范围 1 到 10，步长为 2:\")\n",
    "range_obj = RangeWithGetItem(1, 10, 2)\n",
    "\n",
    "print(f\"长度: {len(range_obj)}\")\n",
    "print(f\"第 0 个元素: {range_obj[0]}\")\n",
    "print(f\"第 2 个元素: {range_obj[2]}\")\n",
    "print(f\"最后一个元素: {range_obj[-1]}\")\n",
    "\n",
    "print(\"\\n使用 for 循环遍历:\")\n",
    "for value in range_obj:\n",
    "    print(f\"  {value}\")\n",
    "\n",
    "print(\"\\n=== 2. 支持切片的版本 ===\")\n",
    "\n",
    "class AdvancedRangeWithGetItem:\n",
    "    \"\"\"支持切片的数字范围类\"\"\"\n",
    "    def __init__(self, start, end, step=1):\n",
    "        self.start = start\n",
    "        self.end = end\n",
    "        self.step = step\n",
    "        self.length = max(0, (end - start + step - 1) // step)\n",
    "    \n",
    "    def __getitem__(self, key):\n",
    "        if isinstance(key, slice):\n",
    "            # 处理切片\n",
    "            print(f\"调用 __getitem__ with slice: {key}\")\n",
    "            start, stop, step = key.indices(self.length) #slice 的属性，返回根据length调整的start,stop,step\n",
    "            return [self.start + i * self.step for i in range(start, stop, step)]\n",
    "        else:\n",
    "            # 处理单个索引\n",
    "            print(f\"调用 __getitem__ with index: {key}\")\n",
    "            if key < 0:\n",
    "                key = self.length + key\n",
    "            \n",
    "            if key < 0 or key >= self.length:\n",
    "                raise IndexError(\"Index out of range\")\n",
    "            \n",
    "            return self.start + key * self.step\n",
    "    \n",
    "    def __len__(self):\n",
    "        return self.length\n",
    "\n",
    "# 测试切片功能\n",
    "print(\"创建范围 0 到 20，步长为 3:\")\n",
    "advanced_range = AdvancedRangeWithGetItem(0, 20, 3)\n",
    "\n",
    "print(f\"完整范围: {list(advanced_range)}\")\n",
    "print(f\"前 3 个元素: {advanced_range[0:3]}\")\n",
    "print(f\"后 3 个元素: {advanced_range[-3:]}\")\n",
    "print(f\"每隔一个元素: {advanced_range[::2]}\")\n",
    "\n",
    "print(\"\\n=== 3. 与生成器版本的对比 ===\")\n",
    "\n",
    "class RangeWithIterator:\n",
    "    \"\"\"使用生成器的数字范围类\"\"\"\n",
    "    def __init__(self, start, end, step=1):\n",
    "        self.start = start\n",
    "        self.end = end\n",
    "        self.step = step\n",
    "    \n",
    "    def __iter__(self):\n",
    "        current = self.start\n",
    "        while current < self.end:\n",
    "            yield current\n",
    "            current += self.step\n",
    "\n",
    "print(\"对比两种实现方式:\")\n",
    "\n",
    "# __getitem__ 版本\n",
    "getitem_range = RangeWithGetItem(1, 6)\n",
    "print(\"\\n__getitem__ 版本:\")\n",
    "print(f\"随机访问第 3 个元素: {getitem_range[2]}\")\n",
    "print(f\"再次访问第 1 个元素: {getitem_range[0]}\")\n",
    "print(\"遍历:\")\n",
    "for val in getitem_range:\n",
    "    print(f\"  {val}\")\n",
    "\n",
    "# 迭代器版本\n",
    "iterator_range = RangeWithIterator(1, 6)\n",
    "print(\"\\n迭代器版本:\")\n",
    "print(\"只能顺序遍历:\")\n",
    "for val in iterator_range:\n",
    "    print(f\"  {val}\")\n",
    "\n",
    "import types\n",
    "isinstance(iter(iterator_range), types.GeneratorType) #注意iterator_range本身不是生成器；"
   ]
  },
  {
   "cell_type": "markdown",
   "metadata": {},
   "source": [
    "### python内置函数"
   ]
  },
  {
   "cell_type": "markdown",
   "metadata": {},
   "source": [
    "#### eval()函数"
   ]
  },
  {
   "cell_type": "code",
   "execution_count": 10,
   "metadata": {},
   "outputs": [
    {
     "name": "stdout",
     "output_type": "stream",
     "text": [
      "2\n",
      "hello\n",
      "None\n"
     ]
    }
   ],
   "source": [
    "print(eval(\"1+1\"))\n",
    "print(eval(\"print(\\\"hello\\\")\")) #hello是eval打印的，eval啥也没返回，所以打印None"
   ]
  },
  {
   "cell_type": "markdown",
   "metadata": {},
   "source": [
    "### 可变对象与不可变对象\n",
    "- 可变对象可以原地修改，内存地址（id）不变\n",
    "- 不可变对象一旦创建就不能修改；\n",
    "- 在传参时，对可变对象，在函数内修改后外部也会改变，不可变对象不变\n",
    "- 在for循环中，如果是可变对象，对“循环变量”的操作会影响原始对象；如果是不变对象，对循环变量的操作不会影响原始对象"
   ]
  },
  {
   "cell_type": "code",
   "execution_count": 1,
   "metadata": {},
   "outputs": [
    {
     "name": "stdout",
     "output_type": "stream",
     "text": [
      "10\n",
      "[1, 2, 3, 4]\n"
     ]
    }
   ],
   "source": [
    "def change(x):\n",
    "    x += 1\n",
    "\n",
    "a = 10\n",
    "change(a)\n",
    "print(a)  # 输出还是10\n",
    "\n",
    "def modify(lst):\n",
    "    lst.append(4)\n",
    "\n",
    "a = [1, 2, 3]\n",
    "modify(a)\n",
    "print(a)  # 输出 [1, 2, 3, 4]"
   ]
  },
  {
   "cell_type": "code",
   "execution_count": 4,
   "metadata": {},
   "outputs": [
    {
     "name": "stdout",
     "output_type": "stream",
     "text": [
      "[1, 2, 3, 4]\n",
      "[[3], [4], [5], [6]]\n"
     ]
    }
   ],
   "source": [
    "a = [1,2,3,4]\n",
    "for x in a:\n",
    "    x=x+2\n",
    "print(a)\n",
    "\n",
    "b = [[1],[2],[3],[4]]\n",
    "for x in b :\n",
    "    x[0]=x[0]+2\n",
    "print(b)"
   ]
  },
  {
   "cell_type": "markdown",
   "metadata": {},
   "source": [
    "### 类的知识"
   ]
  },
  {
   "cell_type": "markdown",
   "metadata": {},
   "source": [
    "#### 创建类的过程\n",
    "1. 内存分配：调用 \\_\\_new\\_\\_  \n",
    "根据类（Class）对象找到其对应的 \\_\\_new\\_\\_ 方法。  \n",
    "如果子类没有重写，默认使用 object.\\_\\_new\\_\\_。\n",
    "2. 初始化：调用 \\_\\_init\\_\\_"
   ]
  },
  {
   "cell_type": "code",
   "execution_count": 7,
   "metadata": {},
   "outputs": [
    {
     "name": "stdout",
     "output_type": "stream",
     "text": [
      "Sub.__new__ <class '__main__.Sub'>\n",
      "Base.__new__ <class '__main__.Sub'>\n",
      "Sub.__init__ 10 20\n",
      "Base.__init__ 10\n"
     ]
    }
   ],
   "source": [
    "class Base:\n",
    "    def __new__(cls, *args, **kwargs):\n",
    "        print(\"Base.__new__\", cls)\n",
    "        return super().__new__(cls)\n",
    "    def __init__(self, x):\n",
    "        print(\"Base.__init__\", x)\n",
    "        self.x = x\n",
    "\n",
    "class Sub(Base):\n",
    "    def __new__(cls, *args, **kwargs):\n",
    "        print(\"Sub.__new__\", cls)\n",
    "        return super().__new__(cls)\n",
    "    def __init__(self, x, y):\n",
    "        print(\"Sub.__init__\", x, y)\n",
    "        super().__init__(x)       # 调用 Base.__init__\n",
    "        self.y = y\n",
    "\n",
    "obj = Sub(10, 20) #打印出的内容是模块名+类名\n"
   ]
  },
  {
   "cell_type": "markdown",
   "metadata": {},
   "source": [
    "#### 类对象/实例的__dict__\n",
    "- 对于绝大多数 Python 对象，实例的所有属性及其对应的值都保存在 实例.__dict__ 中。\n",
    "- 通过 __dict__，可以在运行时以编程方式枚举、增加、删除或修改对象属性, getattr(obj, name)、setattr(obj, name, val) 等内置函数，底层也会访问或操作 obj.__dict__（或通过描述符协议、__slots__ 等机制）。\n",
    "- 类本身也是对象，也有 ClassName.__dict__，用于存储类属性、方法、静态方法、类方法等：\n",
    "- __slots__ 机制会 禁止 创建 __dict__，改为为固定属性分配空间"
   ]
  },
  {
   "cell_type": "markdown",
   "metadata": {},
   "source": [
    "#### \\_\\_class\\_\\_ 属性：\n",
    "- 是每个对象的一个特殊属性，指向创建该对象的类。\n",
    "- 当有继承关系时，\\_\\_class\\_\\_ 指向对象的实际类型(创建该对象时使用的具体类)"
   ]
  },
  {
   "cell_type": "code",
   "execution_count": 1,
   "metadata": {},
   "outputs": [
    {
     "name": "stdout",
     "output_type": "stream",
     "text": [
      "<class '__main__.Person'>\n",
      "Person\n",
      "True\n"
     ]
    }
   ],
   "source": [
    "class Person:\n",
    "    def __init__(self, name):\n",
    "        self.name = name\n",
    "\n",
    "# 创建实例\n",
    "p = Person(\"Alice\")\n",
    "print(p.__class__)  # <class '__main__.Person'>\n",
    "print(p.__class__.__name__)  # 'Person'\n",
    "\n",
    "# 检查对象是否属于某个类\n",
    "print(p.__class__ is Person)  # True"
   ]
  },
  {
   "cell_type": "code",
   "execution_count": 2,
   "metadata": {},
   "outputs": [
    {
     "name": "stdout",
     "output_type": "stream",
     "text": [
      "<class '__main__.Dog'>\n",
      "<class '__main__.Cat'>\n",
      "<class '__main__.Animal'>\n"
     ]
    }
   ],
   "source": [
    "class Animal:  # 父类/基类\n",
    "    def speak(self):\n",
    "        print(f\"{self.__class__.__name__} makes a sound\")\n",
    "\n",
    "class Dog(Animal):  # 子类，继承自Animal\n",
    "    pass\n",
    "\n",
    "class Cat(Animal):  # 子类，继承自Animal\n",
    "    pass\n",
    "\n",
    "# 创建具体的对象\n",
    "dog = Dog()    # dog的实际类型是Dog\n",
    "cat = Cat()    # cat的实际类型是Cat\n",
    "\n",
    "# 虽然Dog和Cat都继承自Animal，但：\n",
    "print(dog.__class__)  # <class '__main__.Dog'>  ← 实际类型是Dog\n",
    "print(cat.__class__)  # <class '__main__.Cat'>  ← 实际类型是Cat\n",
    "\n",
    "# 而不是父类Animal\n",
    "print(Animal)         # <class '__main__.Animal'>"
   ]
  },
  {
   "cell_type": "markdown",
   "metadata": {},
   "source": [
    "#### \\_\\_call\\_\\_ 方法：\n",
    "允许类的对象想函数一样调用"
   ]
  },
  {
   "cell_type": "markdown",
   "metadata": {},
   "source": [
    "#### super()函数用于调用父类的方法"
   ]
  },
  {
   "cell_type": "markdown",
   "metadata": {},
   "source": [
    "#### \\_\\_new\\_\\_函数的用法：\n",
    "- 定制不可变类型的实例化流程\n",
    "- 单例对象"
   ]
  },
  {
   "cell_type": "markdown",
   "metadata": {},
   "source": [
    "1. 定制不可变类型的实例化流程"
   ]
  },
  {
   "cell_type": "code",
   "execution_count": 1,
   "metadata": {},
   "outputs": [
    {
     "name": "stdout",
     "output_type": "stream",
     "text": [
      "HELLO\n"
     ]
    }
   ],
   "source": [
    "class MyStr(str):\n",
    "    def __new__(cls, content):\n",
    "        # 在创建时就对内容进行预处理\n",
    "        content = content.strip().upper()\n",
    "        return super().__new__(cls, content)\n",
    "\n",
    "s = MyStr(\"  hello \")\n",
    "print(s)  # 输出 \"HELLO\"\n"
   ]
  },
  {
   "cell_type": "markdown",
   "metadata": {},
   "source": [
    "### 一些小点"
   ]
  },
  {
   "cell_type": "markdown",
   "metadata": {},
   "source": [
    "#### 按位取反和逻辑运算符号\n",
    "and 是逻辑运算符，& 是位运算符;"
   ]
  },
  {
   "cell_type": "code",
   "execution_count": null,
   "metadata": {},
   "outputs": [
    {
     "name": "stdout",
     "output_type": "stream",
     "text": [
      "-2\n",
      "False\n"
     ]
    }
   ],
   "source": [
    "print(~ True)# True 补码表示01； ~True 10 ; 补码10表示-2; python中整数用补码表示；\n",
    "print(not True)"
   ]
  },
  {
   "cell_type": "markdown",
   "metadata": {},
   "source": [
    "#### all(iterable)和any(iterable)的用法\n",
    "all(iterable)：如果iterable的每个元素都为True，则返回True，否则返回False。  \n",
    "any(iterable)：如果iterable的任一元素为True，则返回True，否则返回False。"
   ]
  },
  {
   "cell_type": "code",
   "execution_count": 1,
   "metadata": {},
   "outputs": [
    {
     "data": {
      "text/plain": [
       "True"
      ]
     },
     "execution_count": 1,
     "metadata": {},
     "output_type": "execute_result"
    }
   ],
   "source": [
    "### 判断字符串列表中是否有空字符串\n",
    "name = [\"Alice\",\"Bob\",\"Charlie\",\"Diana\",\"Ethan\",\"Fiona\"]\n",
    "all(name!=\"\" for name in name) #注意name!=\"\"for name in name 返回生成器对象；"
   ]
  },
  {
   "cell_type": "markdown",
   "metadata": {},
   "source": [
    "## 一些常用包"
   ]
  },
  {
   "cell_type": "markdown",
   "metadata": {},
   "source": [
    "### 用ast.literal_eval(node_or_string) 解析字符串为python对象\n",
    "literal是字面量的意思；\n",
    "\n",
    "\n",
    "\n",
    "\n",
    "\n",
    "\n",
    "\n",
    "\n",
    "\n"
   ]
  },
  {
   "cell_type": "code",
   "execution_count": 1,
   "metadata": {},
   "outputs": [
    {
     "name": "stdout",
     "output_type": "stream",
     "text": [
      "{'name': 'John', 'age': 30}\n",
      "[1, 2, 3, 4]\n",
      "3.14\n",
      "True\n"
     ]
    }
   ],
   "source": [
    "import ast\n",
    "\n",
    "# 安全解析字面量数据\n",
    "s1 = \"{'name': 'John', 'age': 30}\"\n",
    "s2 = \"[1, 2, 3, 4]\"\n",
    "s3 = \"3.14\"\n",
    "s4 = \"True\"\n",
    "\n",
    "# 将字符串转换为 Python 对象\n",
    "print(ast.literal_eval(s1))  # 输出: {'name': 'John', 'age': 30}\n",
    "print(ast.literal_eval(s2))  # 输出: [1, 2, 3, 4]\n",
    "print(ast.literal_eval(s3))  # 输出: 3.14\n",
    "print(ast.literal_eval(s4))  # 输出: True"
   ]
  },
  {
   "cell_type": "markdown",
   "metadata": {},
   "source": [
    "### 基础应用:\n",
    "知道基础知识后最重要的点就是：\n",
    "- unique\n",
    "- 计数\n",
    "- 排序与筛选（sort, select)\n",
    "- 采样\n",
    "- 向量操作（对行列的整体操作）\n",
    "- 自定义函数的应用\n",
    "- 与其它数据类型转化"
   ]
  },
  {
   "cell_type": "markdown",
   "metadata": {},
   "source": [
    "### unique\n",
    "- 获得列表的唯一值数量\n",
    "- np.unique()适用于列表元组等"
   ]
  },
  {
   "cell_type": "code",
   "execution_count": null,
   "metadata": {},
   "outputs": [],
   "source": [
    "a = [1,2,3,4,5]\n",
    "len(set(a))"
   ]
  },
  {
   "cell_type": "markdown",
   "metadata": {},
   "source": [
    "### 自定义函数的应用\n",
    "- map"
   ]
  },
  {
   "cell_type": "markdown",
   "metadata": {},
   "source": [
    "#### map函数  \n",
    "map(function, iterable, ...)  \n",
    "- function可以输入多个可迭代对象"
   ]
  },
  {
   "cell_type": "code",
   "execution_count": null,
   "metadata": {},
   "outputs": [],
   "source": [
    "nums1 = [1, 2, 3]\n",
    "nums2 = [4, 5, 6]\n",
    "\n",
    "def add(x, y):\n",
    "    return x + y\n",
    "\n",
    "result = map(add, nums1, nums2)\n",
    "print(list(result))  # [5, 7, 9]\n"
   ]
  },
  {
   "cell_type": "markdown",
   "metadata": {},
   "source": [
    "### 字典进阶\n",
    "- 字典不能传入key列表直接取值\n",
    "- 可以对字典的键和值进行排序\n",
    "- update方法  \n",
    "dict.update(other_dict)   \n",
    "如果other_dict中存在dict中已有的key,则更新dict中key的value;否则添加新的键值对\n",
    "- 字典的.keys()方法返回一个视图对象,视图对象是可迭代的,可以遍历"
   ]
  },
  {
   "cell_type": "markdown",
   "metadata": {},
   "source": [
    "##### 字典的键值排序"
   ]
  },
  {
   "cell_type": "code",
   "execution_count": 5,
   "metadata": {},
   "outputs": [
    {
     "name": "stdout",
     "output_type": "stream",
     "text": [
      "{'apple': 5, 'banana': 2, 'cherry': 7}\n",
      "dict_keys(['apple', 'banana', 'cherry'])\n",
      "['apple', 'banana', 'cherry']\n",
      "{'banana': 2, 'apple': 5, 'cherry': 7}\n"
     ]
    }
   ],
   "source": [
    "### 按字典的键排序\n",
    "my_dict = { 'banana': 2, 'apple': 5,'cherry': 7}\n",
    "sorted_dict = dict(sorted(my_dict.items()))\n",
    "print(sorted_dict)\n",
    "print(sorted_dict.keys())\n",
    "print(list(sorted_dict.keys()))\n",
    "\n",
    "### 根据字典的值排序\n",
    "sorted_dict_by_value = dict(sorted(my_dict.items(), key=lambda item: item[1]))\n",
    "print(sorted_dict_by_value)"
   ]
  },
  {
   "cell_type": "markdown",
   "metadata": {},
   "source": [
    "##### update方法\n",
    "注意如果键有重合，会覆盖"
   ]
  },
  {
   "cell_type": "code",
   "execution_count": 1,
   "metadata": {},
   "outputs": [
    {
     "name": "stdout",
     "output_type": "stream",
     "text": [
      "{'a': 1, 'b': 3, 'c': 4}\n"
     ]
    }
   ],
   "source": [
    "# 创建一个字典\n",
    "dict1 = {'a': 1, 'b': 2}\n",
    "\n",
    "# 创建另一个字典\n",
    "dict2 = {'b': 3, 'c': 4}\n",
    "\n",
    "# 使用 update() 方法将 dict2 合并到 dict1\n",
    "dict1.update(dict2)\n",
    "\n",
    "print(dict1)\n"
   ]
  },
  {
   "cell_type": "markdown",
   "metadata": {},
   "source": [
    "### 列表进阶\n",
    "- 列表没有.sum方法，但是可以sum(list)。 sum(iterable, start=0)可以对元素是数值类型的可迭代对象加和\n",
    "- 找列表中最大值和最大值索引 max(list)和list.index(max(list))\n",
    "- 根据值替换列表中元素（可以使用.index())方法"
   ]
  },
  {
   "cell_type": "markdown",
   "metadata": {},
   "source": [
    "### 其它函数"
   ]
  },
  {
   "cell_type": "markdown",
   "metadata": {},
   "source": [
    "#### filter(function, iterable)  \n",
    "- function: 一个函数，用来测试序列中的每个元素是否符合条件。\n",
    "- iterable: 一个可迭代的序列，如列表、元组、集合等。  \n",
    "- filter() 返回一个迭代器，包含所有符合条件的元素。你可以将其转换为列表或其他类型的容器。"
   ]
  },
  {
   "cell_type": "code",
   "execution_count": null,
   "metadata": {},
   "outputs": [],
   "source": [
    "def is_even(num):\n",
    "    return num % 2 == 0\n",
    "\n",
    "numbers = [1, 2, 3, 4, 5, 6]\n",
    "even_numbers = filter(is_even, numbers)\n",
    "\n",
    "# 转换为列表并打印结果\n",
    "print(list(even_numbers))  # 输出: [2, 4, 6]\n"
   ]
  },
  {
   "cell_type": "markdown",
   "metadata": {},
   "source": [
    "## 基础应用:\n",
    "知道基础知识后最重要的点就是：\n",
    "- unique\n",
    "- 计数\n",
    "- 排序与筛选（sort, select)\n",
    "- 采样\n",
    "- 向量操作（对行列的整体操作）\n",
    "- 自定义函数的应用\n",
    "- 与其它数据类型转化"
   ]
  },
  {
   "cell_type": "markdown",
   "metadata": {},
   "source": [
    "### 排序\n",
    "- sorted(iterable, key=None, reverse=False)"
   ]
  },
  {
   "cell_type": "markdown",
   "metadata": {},
   "source": [
    "## 一些场景"
   ]
  },
  {
   "cell_type": "markdown",
   "metadata": {},
   "source": [
    "#### 获取每个样本权重向量(长度为样本总数，每个元素对应该样本出现次数)"
   ]
  },
  {
   "cell_type": "code",
   "execution_count": 3,
   "metadata": {},
   "outputs": [],
   "source": [
    "\n",
    "import numpy as np\n",
    "\n",
    "# 设置随机种子，保证每次生成相同的随机数（可选）\n",
    "np.random.seed(42)\n",
    "\n",
    "# 参数设置\n",
    "n = 1000  # 向量的维度\n",
    "values = np.arange(10)  # 值的范围 0 到 9\n",
    "probabilities = [0.1, 0.1, 0.1, 0.1, 0.1, 0.1, 0.1, 0.1, 0.1, 0.1]  # 各个值的概率分布，确保总和为 1\n",
    "\n",
    "# 生成 n 维的向量，元素按指定的概率从 0 到 9 取\n",
    "vector = np.random.choice(values, size=n, p=probabilities)\n",
    "\n",
    "\n",
    "unique, indices, inverse, counts = np.unique(vector, return_counts=True,return_index=True, return_inverse=True)\n",
    "\n",
    "vector_weight = counts[inverse]"
   ]
  },
  {
   "cell_type": "markdown",
   "metadata": {},
   "source": [
    "#### 用zip和解包操作将成对的数据，拆分成两组独立的序列  \n",
    "pairs = [(1, 'a'), (2, 'b'), (3, 'c')]  \n",
    "pairs 是一个由元组组成的列表，每个元组有两个元素。现在想拆成两个独立的列表   \n",
    "一个列表包含所有第一个元素 → [1, 2, 3]  \n",
    "一个列表包含所有第二个元素 → ['a', 'b', 'c']  \n",
    "\n"
   ]
  },
  {
   "cell_type": "code",
   "execution_count": 1,
   "metadata": {},
   "outputs": [
    {
     "name": "stdout",
     "output_type": "stream",
     "text": [
      "(1, 2, 3)\n",
      "('a', 'b', 'c')\n"
     ]
    }
   ],
   "source": [
    "pairs = [(1, 'a'), (2, 'b'), (3, 'c')]\n",
    "nums, letters = zip(*pairs) #zip把后面的看成三个独立的元素；\n",
    "print(nums)    # (1, 2, 3)\n",
    "print(letters) # ('a', 'b', 'c')"
   ]
  },
  {
   "cell_type": "markdown",
   "metadata": {},
   "source": [
    "### 怎样判断一个列表的元素是否在另一个列表中\n",
    "- 列表推导式\n",
    "- 转成numpy\n",
    "- 转成数据框用merge(how='inner')"
   ]
  },
  {
   "cell_type": "code",
   "execution_count": null,
   "metadata": {},
   "outputs": [
    {
     "name": "stdout",
     "output_type": "stream",
     "text": [
      "True\n",
      "True\n",
      "True\n"
     ]
    }
   ],
   "source": [
    "import pandas as pd\n",
    "import numpy as np\n",
    "a,b = [1,2,3],[3,4]\n",
    "# 列表推导式\n",
    "c = [item for item in a if item in b]\n",
    "print(whether_a_in_b := True if c else False)\n",
    "# numpy\n",
    "a_numpy,b_numpy = np.array(a),np.array(b)\n",
    "print(any(np.isin(a_numpy,b_numpy)))\n",
    "# 数据框\n",
    "df_a,df_b = pd.DataFrame(a),pd.DataFrame(b)\n",
    "print(not df_a.merge(df_b,how='inner').empty) #不能用~"
   ]
  },
  {
   "cell_type": "code",
   "execution_count": 7,
   "metadata": {},
   "outputs": [
    {
     "data": {
      "text/plain": [
       "-2"
      ]
     },
     "execution_count": 7,
     "metadata": {},
     "output_type": "execute_result"
    }
   ],
   "source": [
    "~True"
   ]
  },
  {
   "cell_type": "code",
   "execution_count": 2,
   "metadata": {},
   "outputs": [
    {
     "name": "stdout",
     "output_type": "stream",
     "text": [
      "b'hello'\n"
     ]
    }
   ],
   "source": [
    "byte_data = b'hello' \n",
    "print(byte_data)"
   ]
  },
  {
   "cell_type": "code",
   "execution_count": 4,
   "metadata": {},
   "outputs": [
    {
     "name": "stdout",
     "output_type": "stream",
     "text": [
      "True\n",
      "True\n",
      "True\n",
      "False\n"
     ]
    }
   ],
   "source": [
    "print(isinstance(object, type))\n",
    "print(isinstance(type, object))\n",
    "print(issubclass(type, object))               # type 是 object 的子类\n",
    "print(issubclass(object, type))"
   ]
  },
  {
   "cell_type": "markdown",
   "metadata": {},
   "source": [
    "## 写代码时的问题"
   ]
  },
  {
   "cell_type": "markdown",
   "metadata": {},
   "source": [
    "### set可以对numpy数组用吗？\n",
    "- 可以"
   ]
  },
  {
   "cell_type": "markdown",
   "metadata": {},
   "source": [
    "### 列表不能直接加字符串"
   ]
  },
  {
   "cell_type": "code",
   "execution_count": 6,
   "metadata": {},
   "outputs": [
    {
     "ename": "TypeError",
     "evalue": "can only concatenate list (not \"str\") to list",
     "output_type": "error",
     "traceback": [
      "\u001b[1;31m---------------------------------------------------------------------------\u001b[0m",
      "\u001b[1;31mTypeError\u001b[0m                                 Traceback (most recent call last)",
      "Cell \u001b[1;32mIn[6], line 3\u001b[0m\n\u001b[0;32m      1\u001b[0m a \u001b[38;5;241m=\u001b[39m [\u001b[38;5;124m\"\u001b[39m\u001b[38;5;124mamerica\u001b[39m\u001b[38;5;124m\"\u001b[39m,\u001b[38;5;124m\"\u001b[39m\u001b[38;5;124mchina\u001b[39m\u001b[38;5;124m\"\u001b[39m]\n\u001b[0;32m      2\u001b[0m b \u001b[38;5;241m=\u001b[39m \u001b[38;5;124m\"\u001b[39m\u001b[38;5;124mjapan\u001b[39m\u001b[38;5;124m\"\u001b[39m\n\u001b[1;32m----> 3\u001b[0m \u001b[38;5;28mprint\u001b[39m(\u001b[43ma\u001b[49m\u001b[38;5;241;43m+\u001b[39;49m\u001b[43mb\u001b[49m)\n",
      "\u001b[1;31mTypeError\u001b[0m: can only concatenate list (not \"str\") to list"
     ]
    }
   ],
   "source": [
    "a = [\"america\",\"china\"]\n",
    "b = \"japan\"\n",
    "print(a+b)"
   ]
  },
  {
   "cell_type": "markdown",
   "metadata": {},
   "source": [
    "## 字符编码"
   ]
  },
  {
   "cell_type": "markdown",
   "metadata": {},
   "source": [
    "### ASCII, Unicode， gbk\n",
    "ASCII: 128个字符，只能表示英文和一些特殊字符  \n",
    "Unicode: 万国码，包含所有语言的字符; 可分为utf-8, utf-16, utf-32；  \n",
    "gbk: 国标码，包含所有汉字，gb2312是gbk的子集；  \n",
    "\n",
    "\n",
    "\n",
    "\n",
    "\n",
    "\n",
    "\n"
   ]
  },
  {
   "cell_type": "code",
   "execution_count": 1,
   "metadata": {},
   "outputs": [
    {
     "data": {
      "text/plain": [
       "'utf-8'"
      ]
     },
     "execution_count": 1,
     "metadata": {},
     "output_type": "execute_result"
    }
   ],
   "source": [
    "import sys\n",
    "sys.stdin.encoding "
   ]
  },
  {
   "cell_type": "code",
   "execution_count": 2,
   "metadata": {},
   "outputs": [
    {
     "data": {
      "text/plain": [
       "b'\\xc4\\xe3\\xba\\xc3'"
      ]
     },
     "execution_count": 2,
     "metadata": {},
     "output_type": "execute_result"
    }
   ],
   "source": [
    "'你好'.encode('gb2312')"
   ]
  },
  {
   "cell_type": "code",
   "execution_count": 3,
   "metadata": {},
   "outputs": [
    {
     "data": {
      "text/plain": [
       "b'hello'"
      ]
     },
     "execution_count": 3,
     "metadata": {},
     "output_type": "execute_result"
    }
   ],
   "source": [
    "b'hello'"
   ]
  },
  {
   "cell_type": "code",
   "execution_count": 4,
   "metadata": {},
   "outputs": [
    {
     "data": {
      "text/plain": [
       "b'hello'"
      ]
     },
     "execution_count": 4,
     "metadata": {},
     "output_type": "execute_result"
    }
   ],
   "source": [
    "b'\\x68\\x65\\x6c\\x6c\\x6f'"
   ]
  },
  {
   "cell_type": "markdown",
   "metadata": {},
   "source": [
    "### python bytes与str:\n",
    "- str（字符串）表示Unicode 字符串，适合表示人类语言的文本。每个元素是一个字符（例如 \"A\"、\"你\"），而不是字节。\n",
    "- bytes（字节串）:表示原始的字节数据，适合处理二进制文件,每个元素是 0–255 之间的整数（即一个字节）。\n",
    "- 二进制文件：\n",
    "    - 二进制文件是指以二进制形式存储的文件，通常包含非文本数据，如图像、音频、视频等。\n",
    "    - 这些文件不能直接用文本编辑器打开，因为它们可能包含不可打印的字符。\n",
    "    - 用途：二进制文件能用来做什么？\n",
    "        1. 存储多媒体内容\n",
    "            - 图片文件（如 .jpg, .png）：存储像素数据、压缩信息等。\n",
    "            - 音频文件（如 .mp3, .wav）：存储音频波形、压缩数据。\n",
    "            - 视频文件（如 .mp4, .avi）：存储视频帧和音频流。\n",
    "        2. 存储程序和可执行代码\n",
    "            - 可执行文件（如 Windows 的 .exe，Linux 的 ELF 格式）：包含机器码指令，供 CPU 执行。\n",
    "\n",
    "        3. 保存结构化数据\n",
    "            - 数据库文件：例如 SQLite 使用二进制文件存储表、索引等数据。\n",
    "            - 科学计算数据（如 NumPy 的 .npy 文件）：保存大型数组和矩阵，支持快速读写。\n",
    "            - 机器学习模型：保存训练好的模型权重。\n",
    "\n",
    "        4. 数据交换与网络传输\n",
    "            - 网络协议数据包：各种协议的报文都是二进制格式。\n",
    "            - 文件传输协议中的数据文件。\n",
    "\n",
    "        5. 配置与序列化\n",
    "            - 二进制配置文件：比文本配置更紧凑和高效。\n",
    "            - 序列化数据（如 Protocol Buffers、Pickle）：用于程序间高效传递对象。\n",
    "\n",
    "        6. 存储加密或压缩数据\n",
    "            - 加密文件通常是二进制的，保障数据安全。\n",
    "            - 压缩文件（如 .zip, .rar）内含二进制压缩数据。\n",
    "- bytes与str的转换：\n",
    "    - 将字符串转换为字节串：\n",
    "        - 使用 encode() 方法将字符串转换为字节串。\n",
    "        - 使用 bytes() 函数将字符串转换为字节串。\n",
    "    - 将字节串转换为字符串：\n",
    "        - 使用 decode() 方法将字节串转换为字符串。\n",
    "        - 使用 str() 函数将字节串转换为字符串。\n",
    "- 16进制字节表示：例如\\x10等；后面跟两个16进制位刚好一个字节\n",
    "\n",
    "\n",
    "\n",
    "\n",
    "\n",
    "\n",
    "\n"
   ]
  },
  {
   "cell_type": "code",
   "execution_count": 5,
   "metadata": {},
   "outputs": [
    {
     "name": "stdout",
     "output_type": "stream",
     "text": [
      "b'\\xe4\\xbd\\xa0\\xe5\\xa5\\xbd'\n",
      "你好\n"
     ]
    }
   ],
   "source": [
    "# str -> bytes\n",
    "s = \"你好\"\n",
    "b = s.encode(\"utf-8\")  # 编码为 UTF-8 字节\n",
    "print(b)  # b'\\xe4\\xbd\\xa0\\xe5\\xa5\\xbd'\n",
    "\n",
    "# bytes -> str\n",
    "s2 = b.decode(\"utf-8\")  # 解码为 Unicode 字符串\n",
    "print(s2)  # 你好"
   ]
  },
  {
   "cell_type": "code",
   "execution_count": null,
   "metadata": {},
   "outputs": [],
   "source": []
  },
  {
   "cell_type": "markdown",
   "metadata": {},
   "source": [
    "## 一些文件类型"
   ]
  },
  {
   "cell_type": "markdown",
   "metadata": {},
   "source": [
    "#### .pkl文件\n",
    "- .pkl 是 Pickle file（腌制文件） 的缩写。\n",
    "- 它可以保存几乎任何 Python 对象，包括：\n",
    "字典、列表、元组、集合  \n",
    "Pandas 的 DataFrame 或 Series  \n",
    "Numpy 数组  \n",
    "自定义类的对象  \n",
    "机器学习模型（如用 scikit-learn, XGBoost, LightGBM 等训练的模型）  \n",
    "\n"
   ]
  },
  {
   "cell_type": "markdown",
   "metadata": {},
   "source": [
    "### .feather文件"
   ]
  }
 ],
 "metadata": {
  "kernelspec": {
   "display_name": "pytorch",
   "language": "python",
   "name": "python3"
  },
  "language_info": {
   "codemirror_mode": {
    "name": "ipython",
    "version": 3
   },
   "file_extension": ".py",
   "mimetype": "text/x-python",
   "name": "python",
   "nbconvert_exporter": "python",
   "pygments_lexer": "ipython3",
   "version": "3.9.18"
  }
 },
 "nbformat": 4,
 "nbformat_minor": 2
}
