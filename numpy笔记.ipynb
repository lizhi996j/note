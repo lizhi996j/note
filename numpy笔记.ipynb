{
 "cells": [
  {
   "cell_type": "markdown",
   "metadata": {},
   "source": [
    "# Numpy"
   ]
  },
  {
   "cell_type": "markdown",
   "metadata": {},
   "source": [
    "### 用dtype自定义数据类型"
   ]
  },
  {
   "cell_type": "code",
   "execution_count": 5,
   "metadata": {},
   "outputs": [
    {
     "name": "stdout",
     "output_type": "stream",
     "text": [
      "[('hello', [[1., 2., 3.], [1., 2., 3.], [1., 2., 3.]])\n",
      " ('world', [[4., 5., 6.], [4., 5., 6.], [4., 5., 6.]])]\n"
     ]
    }
   ],
   "source": [
    "# 用dtype自定义数据类型\n",
    "import numpy as np\n",
    "dt = np.dtype([('name', np.str_, 40), ('num_array', np.float32, (3, 3))]) #这里40是字符串长度，3*3是数组维度\n",
    "np = np.array([('hello', [1, 2, 3]), ('world', [4, 5, 6])], dtype=dt)\n",
    "print(np)\n"
   ]
  },
  {
   "cell_type": "markdown",
   "metadata": {},
   "source": [
    "### 标准数组和对象数组"
   ]
  },
  {
   "cell_type": "code",
   "execution_count": 3,
   "metadata": {},
   "outputs": [
    {
     "name": "stdout",
     "output_type": "stream",
     "text": [
      "[[1 2 3]\n",
      " [4 5 6]]\n",
      "(2, 3)\n",
      "[list([1, 2, 3]) list([4, 5])]\n",
      "object\n",
      "(2,)\n"
     ]
    }
   ],
   "source": [
    "# 标准数组和对象数组\n",
    "import numpy as np\n",
    "\n",
    "# 每行长度相同\n",
    "arr = np.array([[1, 2, 3], [4, 5, 6]])\n",
    "print(arr)\n",
    "print(arr.shape)  # 输出: (2, 3)\n",
    "\n",
    "arr = np.array([[1, 2, 3], [4, 5]], dtype=object) #如果没有dtype会报错\n",
    "print(arr)\n",
    "print(arr.dtype)  # 输出: object\n",
    "print(arr.shape)  # 输出: (2,)\n",
    "\n"
   ]
  },
  {
   "cell_type": "markdown",
   "metadata": {},
   "source": [
    "### 高级索引"
   ]
  },
  {
   "cell_type": "markdown",
   "metadata": {},
   "source": [
    "#### 整数数组索引"
   ]
  },
  {
   "cell_type": "code",
   "execution_count": 5,
   "metadata": {},
   "outputs": [
    {
     "name": "stdout",
     "output_type": "stream",
     "text": [
      "[1 4 5]\n"
     ]
    }
   ],
   "source": [
    "# 整数数组索引\n",
    "import numpy as np \n",
    "#按位置进行索引，每个位置的索引放在不同数组；\n",
    "x = np.array([[1,  2],  [3,  4],  [5,  6]]) \n",
    "y = x[[0,1,2],  [0,1,0]]  \n",
    "print (y)\n"
   ]
  },
  {
   "cell_type": "code",
   "execution_count": 3,
   "metadata": {},
   "outputs": [
    {
     "name": "stdout",
     "output_type": "stream",
     "text": [
      "[[4 5]\n",
      " [4 5]]\n"
     ]
    }
   ],
   "source": [
    "# 通过整数数组的形状控制输出的形状\n",
    "import numpy as np\n",
    "x = np.array([[1,  2],  [3,  4],  [5,  6]]) \n",
    "row = np.array([[1,2],[1,2]])\n",
    "col = np.array([[1,0],[1,0]])\n",
    "print(x[row, col])\n"
   ]
  },
  {
   "cell_type": "code",
   "execution_count": 2,
   "metadata": {},
   "outputs": [
    {
     "name": "stdout",
     "output_type": "stream",
     "text": [
      "b是\n",
      " [[5 6]\n",
      " [8 9]]\n",
      "c是\n",
      " [5 9]\n",
      "d是\n",
      " [[5 6]\n",
      " [8 9]]\n",
      "e是\n",
      " [[5 6]\n",
      " [8 9]]\n",
      "f是\n",
      " [[2 3]\n",
      " [5 6]\n",
      " [8 9]]\n"
     ]
    }
   ],
   "source": [
    "# 整数索引结合切片索引: 注意维度的变化，注意能不能取到\n",
    "import numpy as np\n",
    "a = np.array([[1,2,3], [4,5,6], [7,8,9]])\n",
    "b=a[1:3, 1:3]\n",
    "c=a[[1,2], [1,2]] #c是1维数组\n",
    "d=a[1:3, [1,2]]\n",
    "e=a[[1,2], 1:3]\n",
    "f=a[...,1:]\n",
    "print(\"b是\\n\",b)\n",
    "print(\"c是\\n\",c)\n",
    "print(\"d是\\n\",d)\n",
    "print(\"e是\\n\",e)\n",
    "print(\"f是\\n\",f)\n"
   ]
  },
  {
   "cell_type": "markdown",
   "metadata": {},
   "source": [
    "#### 布尔索引"
   ]
  },
  {
   "cell_type": "code",
   "execution_count": 10,
   "metadata": {},
   "outputs": [
    {
     "name": "stdout",
     "output_type": "stream",
     "text": [
      "我们的数组是：\n",
      "[[ 0  1  2]\n",
      " [ 3  4  5]\n",
      " [ 6  7  8]\n",
      " [ 9 10 11]]\n",
      "\n",
      "\n",
      "x>5的输出是：\n",
      "[[False False False]\n",
      " [False False False]\n",
      " [ True  True  True]\n",
      " [ True  True  True]]\n",
      "\n",
      "\n",
      "大于 5 的元素是：\n",
      "[ 6  7  8  9 10 11]\n"
     ]
    }
   ],
   "source": [
    "# 布尔索引\n",
    "import numpy as np \n",
    " \n",
    "x = np.array([[  0,  1,  2],[  3,  4,  5],[  6,  7,  8],[  9,  10,  11]])  \n",
    "print ('我们的数组是：')\n",
    "print (x)\n",
    "print ('\\n')\n",
    "# 现在我们会打印出大于 5 的元素\n",
    "print(\"x>5的输出是：\")  \n",
    "print(x>5)\n",
    "print(\"\\n\")\n",
    "print  ('大于 5 的元素是：')\n",
    "print (x[x >  5]) #可以看到输入是Ture和False，输出是True对应的元素；输出是1维数组；\n"
   ]
  },
  {
   "cell_type": "markdown",
   "metadata": {},
   "source": [
    "#### 花式索引"
   ]
  },
  {
   "cell_type": "code",
   "execution_count": null,
   "metadata": {},
   "outputs": [],
   "source": [
    "# 多个索引数组\n",
    "import numpy as np \n",
    " \n",
    "x=np.arange(32).reshape((8,4))\n",
    "print (x[np.ix_([1,5,7,2],[0,3,1,2])])"
   ]
  },
  {
   "cell_type": "markdown",
   "metadata": {},
   "source": [
    "### 数组迭代"
   ]
  },
  {
   "cell_type": "markdown",
   "metadata": {},
   "source": [
    "### 数组操作"
   ]
  }
 ],
 "metadata": {
  "kernelspec": {
   "display_name": "pytorch",
   "language": "python",
   "name": "python3"
  },
  "language_info": {
   "codemirror_mode": {
    "name": "ipython",
    "version": 3
   },
   "file_extension": ".py",
   "mimetype": "text/x-python",
   "name": "python",
   "nbconvert_exporter": "python",
   "pygments_lexer": "ipython3",
   "version": "undefined.undefined.undefined"
  }
 },
 "nbformat": 4,
 "nbformat_minor": 2
}
