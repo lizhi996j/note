{
 "cells": [
  {
   "cell_type": "markdown",
   "metadata": {},
   "source": [
    "# Numpy"
   ]
  },
  {
   "cell_type": "markdown",
   "metadata": {},
   "source": [
    "### Numpy ndarry对象"
   ]
  },
  {
   "cell_type": "markdown",
   "metadata": {},
   "source": [
    "#### 定义：\n",
    "1. 用于存放同类型元素，每个元素在内存中有相同大小区域。\n",
    "2. ndarray 内部由以下内容组成：\n",
    "\n",
    "    一个指向数据（内存或内存映射文件中的一块数据）的指针。\n",
    "\n",
    "    数据类型或 dtype，描述在数组中的固定大小值的格子。\n",
    "\n",
    "    一个表示数组形状（shape）的元组，表示各维度大小的元组。\n",
    "\n",
    "    一个跨度元组（stride），其中的整数指的是为了前进到当前维度下一个元素需要\"跨过\"的字节数。\n",
    "3. 创建ndarry的函数：numpy.array(object, dtype = None, copy = True, order = None, subok = False, ndmin = 0)"
   ]
  },
  {
   "cell_type": "markdown",
   "metadata": {},
   "source": [
    "##### 定义中：ndim的用法"
   ]
  },
  {
   "cell_type": "code",
   "execution_count": 2,
   "metadata": {},
   "outputs": [
    {
     "name": "stdout",
     "output_type": "stream",
     "text": [
      "[[1 2 3 4 5]]\n",
      "[[1]]\n"
     ]
    }
   ],
   "source": [
    "# ndmin的用法：创建numpy数组时最小需要的维度\n",
    "import numpy as np \n",
    "a = np.array([1, 2, 3, 4, 5], ndmin =  2)  \n",
    "print (a)\n",
    "b = np.array([1], ndmin =  2)  #指定最小维度，比如这个例子中，如果指定ndmin=1，则输出为[1]，如果指定ndmin=2，则输出为[[1]]\n",
    "print(b)\n"
   ]
  },
  {
   "cell_type": "markdown",
   "metadata": {},
   "source": [
    "##### 定义中跨度的含义："
   ]
  },
  {
   "cell_type": "code",
   "execution_count": 1,
   "metadata": {},
   "outputs": [
    {
     "name": "stdout",
     "output_type": "stream",
     "text": [
      "(12, 4)\n",
      "1532004497280\n",
      "内存地址：0x164b2957780\n",
      "元素地址: 0x164b2957794\n"
     ]
    }
   ],
   "source": [
    "import numpy as np\n",
    "\n",
    "# 创建一个2x3的数组\n",
    "arr = np.array([[1, 2, 3],\n",
    "                [4, 5, 6]], dtype=np.int32)\n",
    "\n",
    "# 查看跨度\n",
    "print(arr.strides)  # 输出: (12, 4)\n",
    "#row_stride：从第0行移动到第1行，跨过12个字节\n",
    "#col_stride：从第0列移动到第2列，跨过8个字节(2 × 4字节)\n",
    "base_address = arr.ctypes.data   #获得起始地址；\n",
    "print(base_address)\n",
    "print(f\"内存地址：{hex(base_address)}\") #将起始地址转化为16进制；\n",
    "row_stride, col_stride = arr.strides\n",
    "element_address = base_address + 1*row_stride + 2*col_stride\n",
    "print(f\"元素地址: {hex(element_address)}\") #注意是16进制"
   ]
  },
  {
   "cell_type": "markdown",
   "metadata": {},
   "source": [
    "#### numpy 属性 ：\n",
    "| 属性 | 说明 |\n",
    "|------|------|\n",
    "| ndarray.ndim | 数组的维度数量|\n",
    "| ndarray.shape | 数组在每个维度上的大小。对于二维数组（矩阵），表示其行数和列数。|\n",
    "| ndarray.size | 数组中元素的总个数，等于 ndarray.shape 中各个轴上大小的乘积。|\n",
    "| ndarray.dtype | 数组中元素的数据类型。|\n",
    "| ndarray.itemsize | 数组中每个元素的字节大小。|\n",
    "| ndarray.nbytes | 数组中所有元素的字节大小。|\n",
    "| ndarray.flags | 数组内存的读写模式。|"
   ]
  },
  {
   "cell_type": "markdown",
   "metadata": {},
   "source": [
    ".flags提供了关于内存布局和存储的特性\n",
    "- C/F continous 是是否按行/列连续\n",
    "  - C序是指数据在内存中按“行”排布，最内层（最后一个维度）索引变化最快，然后是倒数第二维。\n",
    "  - “连续”就是数组的元素在内存地址上没有间隙\n",
    "  - C连续就是按行优先的顺序一字排开\n",
    "- OWNDATA: 值为True：数组拥有自己的数据内存，负责分配和释放; 值为False：数组引用其他数组的数据，不负责内存管理\n"
   ]
  },
  {
   "cell_type": "code",
   "execution_count": 7,
   "metadata": {},
   "outputs": [
    {
     "name": "stdout",
     "output_type": "stream",
     "text": [
      "  C_CONTIGUOUS : True\n",
      "  F_CONTIGUOUS : False\n",
      "  OWNDATA : True\n",
      "  WRITEABLE : True\n",
      "  ALIGNED : True\n",
      "  WRITEBACKIFCOPY : False\n",
      "\n"
     ]
    }
   ],
   "source": [
    "import numpy as np\n",
    "\n",
    "# 创建一个数组\n",
    "arr = np.array([[1, 2, 3],\n",
    "                [4, 5, 6]])\n",
    "\n",
    "# 查看数组的所有标志\n",
    "print(arr.flags)"
   ]
  },
  {
   "cell_type": "markdown",
   "metadata": {},
   "source": [
    ".base\n",
    "- 在 NumPy 中，.base 是一个 属性，用于查看一个 ndarray 是否是由另一个数组通过切片、视图（view）、变形（reshape）等方式派生出来的。如果是，.base 就会指向那个“原始”数组；如果不是，它的值就是 None。\n",
    "- 它只会指向直接的原始数组，不会递归追溯链条。\n",
    "- ndarray.base用于判断数组中的数据是否来自于别的数组"
   ]
  },
  {
   "cell_type": "code",
   "execution_count": 6,
   "metadata": {},
   "outputs": [
    {
     "name": "stdout",
     "output_type": "stream",
     "text": [
      "b.base: [[1 2 3]\n",
      " [4 5 6]]\n",
      "c: [[1 2 3]]\n",
      "c.base: [[1 2 3]\n",
      " [4 5 6]]\n",
      "d.base: None\n"
     ]
    }
   ],
   "source": [
    "import numpy as np\n",
    "\n",
    "a = np.array([[1, 2, 3], [4, 5, 6]])\n",
    "\n",
    "b=a[0:1]\n",
    "\n",
    "x_stack=b[0:1]\n",
    "\n",
    "d=a[0,0] # d是标量，不再是数组，没有base属性；\n",
    "\n",
    "print(f\"b.base: {b.base}\")\n",
    "print(f\"c: {x_stack}\")\n",
    "print(f\"c.base: {x_stack.base}\")\n",
    "print(f\"d.base: {d.base}\")"
   ]
  },
  {
   "cell_type": "markdown",
   "metadata": {},
   "source": [
    "其它关于python is关键字的内容和关于sys.getrefcount()的内容还不太懂"
   ]
  },
  {
   "cell_type": "markdown",
   "metadata": {},
   "source": [
    "#### 用dtype自定义数据类型"
   ]
  },
  {
   "cell_type": "code",
   "execution_count": null,
   "metadata": {},
   "outputs": [
    {
     "name": "stdout",
     "output_type": "stream",
     "text": [
      "值: 1\n",
      "内存表示: 01000000\n",
      "值: 2\n",
      "内存表示: 02000000\n",
      "值: 3\n",
      "内存表示: 03000000\n"
     ]
    }
   ],
   "source": [
    "import numpy as np\n",
    "\n",
    "# 创建一个int32数组\n",
    "arr = np.array([1, 2, 3], dtype=np.int32)\n",
    "\n",
    "# 查看内存中的存储\n",
    "for i in range(len(arr)):\n",
    "    print(f\"值: {arr[i]}\")\n",
    "    print(f\"内存表示: {arr[i].tobytes().hex()}\")"
   ]
  },
  {
   "cell_type": "markdown",
   "metadata": {},
   "source": [
    "子数组类型\n",
    "- 注意小括号与大括号的区别"
   ]
  },
  {
   "cell_type": "code",
   "execution_count": null,
   "metadata": {},
   "outputs": [
    {
     "name": "stdout",
     "output_type": "stream",
     "text": [
      "子数组类型数组:\n",
      "[[[1 2]\n",
      "  [3 4]]]\n",
      "形状: (1, 2, 2)\n",
      "数据类型: int32\n",
      "子数组类型的数组为：\n",
      "[[[[1 1]\n",
      "   [1 1]]\n",
      "\n",
      "  [[2 2]\n",
      "   [2 2]]]\n",
      "\n",
      "\n",
      " [[[3 3]\n",
      "   [3 3]]\n",
      "\n",
      "  [[4 4]\n",
      "   [4 4]]]]\n",
      "形状：(2, 2, 2, 2)\n",
      "子数组类型的数组为：\n",
      "[[[0 0]\n",
      "  [0 0]]\n",
      "\n",
      " [[0 0]\n",
      "  [0 0]]\n",
      "\n",
      " [[0 0]\n",
      "  [0 0]]\n",
      "\n",
      " [[0 0]\n",
      "  [0 0]]]\n",
      "形状：(4, 2, 2)\n",
      "int32\n"
     ]
    }
   ],
   "source": [
    "import numpy as np\n",
    "\n",
    "# 创建一个子数组数据类型\n",
    "# 每个元素是一个2x2的int32数组\n",
    "dt = np.dtype((np.int32, (2, 2)))\n",
    "\n",
    "# 使用这个数据类型创建数组\n",
    "arr = np.array([([1, 2], [3, 4])], dtype=dt) #注意这里是小括号了；\n",
    "print(\"子数组类型数组:\")\n",
    "print(arr)\n",
    "print(f\"形状: {arr.shape}\")\n",
    "print(f\"数据类型: {arr.dtype}\")\n",
    "\n",
    "arr1 = np.array([[1,2],[3,4]],dtype= dt)\n",
    "print(f'子数组类型的数组为：\\n{arr1}')\n",
    "print(f\"形状：{arr1.shape}\")\n",
    "\n",
    "arr2 = np.zeros(4,dtype=dt)\n",
    "print(f\"子数组类型的数组为：\\n{arr2}\")\n",
    "print(f\"形状：{arr2.shape}\")\n",
    "print(arr2.dtype)"
   ]
  },
  {
   "cell_type": "code",
   "execution_count": null,
   "metadata": {},
   "outputs": [
    {
     "name": "stdout",
     "output_type": "stream",
     "text": [
      "[[('hello', [[1., 2.], [3., 4.]])]\n",
      " [('world', [[4., 5.], [4., 5.]])]]\n",
      "(2, 1)\n",
      "[('name', '<U40'), ('num_array', '<f4', (2, 2))]\n"
     ]
    }
   ],
   "source": [
    "# 用dtype自定义数据类型\n",
    "import numpy as np\n",
    "dt = np.dtype([('name', np.str_, 40),('num_array', np.float32 ,(2,2))]) #这里40是字符串长度，2*2是数组维度\n",
    "np = np.array([[('hello', [[1, 2],[3,4]])],[ ('world', [4, 5])]], dtype=dt) \n",
    "print(np)\n",
    "print(np.shape)\n",
    "print(np.dtype)"
   ]
  },
  {
   "cell_type": "code",
   "execution_count": null,
   "metadata": {},
   "outputs": [
    {
     "name": "stdout",
     "output_type": "stream",
     "text": [
      "[10 20 30]\n",
      "(3,)\n"
     ]
    }
   ],
   "source": [
    "# 可以使用字段名存取\n",
    "# 类型字段名可以用于存取实际的 age 列\n",
    "import numpy as np\n",
    "dt = np.dtype([('age',np.int8)]) \n",
    "a = np.array([(10,),(20,),(30,)], dtype = dt) \n",
    "print(a['age'])\n",
    "print(a.shape)"
   ]
  },
  {
   "cell_type": "code",
   "execution_count": null,
   "metadata": {},
   "outputs": [
    {
     "name": "stdout",
     "output_type": "stream",
     "text": [
      "int32\n"
     ]
    }
   ],
   "source": [
    "# 小端顺序\n",
    "import numpy as np\n",
    "# 字节顺序标注\n",
    "dt = np.dtype('<i4')\n",
    "print(dt)"
   ]
  },
  {
   "cell_type": "markdown",
   "metadata": {},
   "source": [
    "#### 赋值，.view() 和 .copy() 的区别:  \n",
    " | 操作方式 | 是否新对象 | 是否共享数据 | 是否共享引用 | 修改后是否影响原数组 |\n",
    " |----------|------------|--------------|--------------|---------------------|\n",
    " | b = a | ❌ 否 | ✅ 是 | ✅ 是 | ✅ 会影响 |\n",
    " | b = a.view() | ✅ 是 | ✅ 是 | ❌ 否 | ✅ 会影响 |\n",
    " | b = a.copy() | ✅ 是 | ❌ 否 | ❌ 否 | ❌ 不会影响 |  \n",
    "\n",
    " 这里是否共享引用是基于sys.getrefcount()来说的，还不太懂  \n",
    " 修改直接赋值或.view() 会影响原数组，.copy() 不会影响原数组；\n",
    " \n",
    " \n",
    " \n",
    " \n",
    " \n",
    " \n",
    " \n",
    " "
   ]
  },
  {
   "cell_type": "code",
   "execution_count": 8,
   "metadata": {},
   "outputs": [
    {
     "name": "stdout",
     "output_type": "stream",
     "text": [
      "a与b内存地址相同: True\n",
      "[99  2  3]\n",
      "a与c内存地址相同: False\n",
      "[99  2  3]\n",
      "a与d内存地址相同: False\n",
      "[99  2  3]\n",
      "sys.getrefcount(a): 5\n",
      "5\n",
      "2\n"
     ]
    }
   ],
   "source": [
    "import numpy as np\n",
    "import sys\n",
    "\n",
    "a = np.array([1, 2, 3])\n",
    "b = a         # 直接赋值，不复制数据\n",
    "b[0] = 99\n",
    "print(a)      # 输出: [99  2  3]，a 跟着变\n",
    "\n",
    "x_stack = a.view()\n",
    "x_stack[0] = 99\n",
    "print(a)      # 输出: [99  2  3]，a 跟着变\n",
    "\n",
    "d = a.copy()\n",
    "d[0] = 99\n",
    "print(a)      # 输出: [99  2  3]，a 跟着变\n",
    "\n",
    "e = a\n",
    "\n",
    "print(f\"sys.getrefcount(a): {sys.getrefcount(a)}\") #注意b也计算到a的引用计数了\n",
    "print(sys.getrefcount(b))\n",
    "print(sys.getrefcount(x_stack))\n"
   ]
  },
  {
   "cell_type": "code",
   "execution_count": 7,
   "metadata": {},
   "outputs": [
    {
     "name": "stdout",
     "output_type": "stream",
     "text": [
      "refcount(a): 3\n",
      "refcount(b): 2\n"
     ]
    }
   ],
   "source": [
    "import numpy as np\n",
    "import sys\n",
    "\n",
    "a = np.array([1, 2, 3])\n",
    "b = a.view()\n",
    "\n",
    "print(\"refcount(a):\", sys.getrefcount(a))  # 引用计数 of a\n",
    "print(\"refcount(b):\", sys.getrefcount(b))  # 引用计数 of b"
   ]
  },
  {
   "cell_type": "markdown",
   "metadata": {},
   "source": [
    "#### 其它内容"
   ]
  },
  {
   "cell_type": "markdown",
   "metadata": {},
   "source": [
    "##### 标准数组和对象数组"
   ]
  },
  {
   "cell_type": "code",
   "execution_count": null,
   "metadata": {},
   "outputs": [
    {
     "name": "stdout",
     "output_type": "stream",
     "text": [
      "[[1 2 3]\n",
      " [4 5 6]]\n",
      "(2, 3)\n",
      "[list([1, 2, 3]) list([4, 5])]\n",
      "object\n",
      "(2,)\n"
     ]
    }
   ],
   "source": [
    "# 标准数组和对象数组\n",
    "import numpy as np\n",
    "\n",
    "# 每行长度相同\n",
    "arr = np.array([[1, 2, 3], [4, 5, 6]])\n",
    "print(arr)\n",
    "print(arr.shape)  # 输出: (2, 3)\n",
    "\n",
    "arr = np.array([[1, 2, 3], [4, 5]], dtype=object) #如果没有dtype会报错\n",
    "print(arr)\n",
    "print(arr.dtype)  # 输出: object\n",
    "print(arr.shape)  # 输出: (2,)\n",
    "\n"
   ]
  },
  {
   "cell_type": "markdown",
   "metadata": {},
   "source": [
    "##### 圆括号和方括号创建数组都可以"
   ]
  },
  {
   "cell_type": "code",
   "execution_count": null,
   "metadata": {},
   "outputs": [],
   "source": [
    "print(np.empty([2,3]))\n",
    "print(np.empty((2,3)))"
   ]
  },
  {
   "cell_type": "markdown",
   "metadata": {},
   "source": [
    "### ndarry的生成"
   ]
  },
  {
   "cell_type": "markdown",
   "metadata": {},
   "source": [
    "####  用np.array()创建数组：\n",
    "numpy.array(object, dtype=None, copy=True, order='K', subok=False, ndmin=0)\n",
    "- 关于copy:  \n",
    "  - 是否复制输入数据。如果为 False，可能不会复制数据（视情况而定），但这样修改数组可能会影响原数据。\n",
    "- 关于order:  \n",
    "  - 数组的内存布局顺序：  \n",
    "    - 'C'：按行优先（C语言风格）  \n",
    "    - 'F'：按列优先（Fortran风格）  \n",
    "    - 'A'：保持输入数据的顺序  \n",
    "    - 'K'：尽量保持输入数据的顺序\n",
    "  - 'K'的含义是：\n",
    "    - 如果输入数据本来是按行优先存储的，order='K' 就保持行优先。\n",
    "    - 如果输入数据本来是按列优先存储的，order='K' 就保持列优先。\n",
    "    - 如果输入是 Python 原生列表这种没有固定存储顺序的数据，order='K' 就等同于默认的按行优先（类似 order='C'）。\n",
    "\n",
    "\n",
    "\n",
    "\n",
    "\n",
    "\n",
    "\n",
    "\n"
   ]
  },
  {
   "cell_type": "code",
   "execution_count": 8,
   "metadata": {},
   "outputs": [
    {
     "name": "stdout",
     "output_type": "stream",
     "text": [
      "[1, 2, 3]\n",
      "[100   2   3]\n",
      "[100   2   3]\n",
      "[100   2   3]\n"
     ]
    }
   ],
   "source": [
    "import numpy as np\n",
    "\n",
    "# 创建原始列表\n",
    "original = [1, 2, 3]\n",
    "\n",
    "# copy=True（默认）\n",
    "arr1 = np.array(original, copy=True)\n",
    "arr1[0] = 100  # 修改arr1不会影响original\n",
    "print(original)  # 输出: [1, 2, 3]\n",
    "print(arr1)      # 输出: [100, 2, 3]\n",
    "\n",
    "# copy=False\n",
    "arr2 = np.array(original, copy=False)\n",
    "# 注意：即使设置copy=False，从Python列表创建numpy数组时\n",
    "# 仍会进行复制，因为numpy数组和Python列表的内存布局不同\n",
    "\n",
    "# 但对于numpy数组之间的操作，copy=False会更明显：\n",
    "arr3 = np.array([1, 2, 3])\n",
    "arr4 = np.array(arr3, copy=False)  # 创建视图\n",
    "arr4[0] = 100  # 修改arr4会影响arr3\n",
    "print(arr3)  # 输出: [100, 2, 3]\n",
    "print(arr4)  # 输出: [100, 2, 3]"
   ]
  },
  {
   "cell_type": "markdown",
   "metadata": {},
   "source": [
    "#### 用初始化数组的方法生成\n",
    "- np.zeros(shape, dtype=None, order='C')\n",
    "- np.ones(shape, dtype=None, order='C')\n",
    "- numpy.full(shape, fill_value, dtype=None, order='C')\n",
    "- np.empty(shape, dtype=None, order='C') #随机的，不确定的值；\n",
    "- np.random.randint(low, high=None, size=None, dtype='int64') \n",
    "- np.random.rand(d0, d1, ..., dn) \n",
    "- np.random.randn(d0, d1, ..., dn) "
   ]
  },
  {
   "cell_type": "markdown",
   "metadata": {},
   "source": [
    "#### 从定范围生成数组"
   ]
  },
  {
   "cell_type": "markdown",
   "metadata": {},
   "source": [
    "##### np.arange(start, stop, step, dtype=None)"
   ]
  },
  {
   "cell_type": "code",
   "execution_count": 10,
   "metadata": {},
   "outputs": [
    {
     "name": "stdout",
     "output_type": "stream",
     "text": [
      "[ 5  7  9 11 13 15 17 19 21]\n"
     ]
    }
   ],
   "source": [
    "import numpy as np\n",
    "a = np.arange(5,22,2)\n",
    "print(a)"
   ]
  },
  {
   "cell_type": "markdown",
   "metadata": {},
   "source": [
    "##### np.linspace(start, stop, num=50, endpoint=True, retstep=False, dtype=None, axis=0)\n",
    "- 这里的lin就是linear的意思，表示是在linear space上生成数列；\n",
    "- 当endpoint为False时，各项差值是按 (stop-start)/num 计算的，也就是说要分成num段； 为True时，各项差值是按 (stop-start)/(num-1) 计算的，也就是分成num-1段；\n",
    "- retstep为True时，会返回一个包含数列和步长的元组；\n",
    "\n",
    "\n",
    "\n",
    "\n",
    "\n",
    "\n",
    "\n",
    "\n",
    "\n"
   ]
  },
  {
   "cell_type": "code",
   "execution_count": 1,
   "metadata": {},
   "outputs": [
    {
     "name": "stdout",
     "output_type": "stream",
     "text": [
      "a: \n",
      "[ 1.  2.  3.  4.  5.  6.  7.  8.  9. 10.]\n",
      "b: \n",
      "[1.  1.9 2.8 3.7 4.6 5.5 6.4 7.3 8.2 9.1]\n",
      "c: \n",
      "(array([ 1.,  2.,  3.,  4.,  5.,  6.,  7.,  8.,  9., 10.]), 1.0)\n",
      "d: \n",
      " (array([1. , 1.9, 2.8, 3.7, 4.6, 5.5, 6.4, 7.3, 8.2, 9.1]), 0.9)\n"
     ]
    }
   ],
   "source": [
    "import numpy as np\n",
    "a = np.linspace(1,10,10)\n",
    "print(f'a: \\n{a}')\n",
    "\n",
    "b = np.linspace(1,10,10,endpoint=False)\n",
    "print(f'b: \\n{b}')\n",
    "\n",
    "x_stack = np.linspace(1,10,10,retstep=True)\n",
    "print(f'c: \\n{x_stack}')\n",
    "\n",
    "d = np.linspace(1,10,10,retstep=True,endpoint=False)\n",
    "print(f'd: \\n {d}')"
   ]
  },
  {
   "cell_type": "code",
   "execution_count": 14,
   "metadata": {},
   "outputs": [
    {
     "name": "stdout",
     "output_type": "stream",
     "text": [
      "[1. 2.]\n"
     ]
    }
   ],
   "source": [
    "import numpy as np\n",
    "a = np.linspace(1,2,2)\n",
    "print(a)"
   ]
  },
  {
   "cell_type": "markdown",
   "metadata": {},
   "source": [
    "##### np.logspace(start, stop, num=50, endpoint=True, base=10.0, dtype=None, axis=0)\n",
    "- logspace是指起始值和中止值都是原值取对数后结果。 num是根据对数空间划分 \n",
    "- 生成的数会还原成原值，也就是base**i;\n",
    "- 因而可以生成公比是base的等比数列\n",
    "\n",
    "\n",
    "\n",
    "\n",
    "\n",
    "\n",
    "\n",
    "\n"
   ]
  },
  {
   "cell_type": "code",
   "execution_count": null,
   "metadata": {},
   "outputs": [],
   "source": [
    "import numpy as np\n",
    "# 默认底数是 10\n",
    "a = np.logspace(1.0,  2.0, num =  10)  \n",
    "print (a)"
   ]
  },
  {
   "cell_type": "code",
   "execution_count": null,
   "metadata": {},
   "outputs": [],
   "source": [
    "import numpy as np\n",
    "a = np.logspace(0,9,10,base=2)\n",
    "print (a)"
   ]
  },
  {
   "cell_type": "markdown",
   "metadata": {},
   "source": [
    "#### 其它方法"
   ]
  },
  {
   "cell_type": "markdown",
   "metadata": {},
   "source": [
    "##### numpy.asarray(object, dtype=None, order=None, subok=False, ndmin=0)\n",
    "numpy.array：默认会复制输入数据（copy=True），即使输入已经是 ndarray，也会创建一个数据拷贝，除非显式将 copy=False。\n",
    "\n",
    "numpy.asarray：尽量不复制输入数据（copy=False），只有当输入不是 ndarray 或者指定了不同的 dtype 时，才会产生拷贝。"
   ]
  },
  {
   "cell_type": "code",
   "execution_count": 3,
   "metadata": {},
   "outputs": [
    {
     "name": "stdout",
     "output_type": "stream",
     "text": [
      "0\n",
      "100\n"
     ]
    }
   ],
   "source": [
    "import numpy as np\n",
    "\n",
    "# 输入已经是 ndarray\n",
    "a = np.arange(5)\n",
    "\n",
    "b = np.array(a)      # b 是 a 的一个拷贝\n",
    "x_stack = np.asarray(a)    # c 与 a 指向同一内存，不拷贝\n",
    "\n",
    "a[0] = 100\n",
    "print(b[0])  # 0：b 不受 a 修改影响\n",
    "print(x_stack[0])  # 100：c 反映了 a 的修改\n"
   ]
  },
  {
   "cell_type": "markdown",
   "metadata": {},
   "source": [
    "##### numpy.frombuffer(buffer, dtype=float, count=-1, offset=0)\n",
    "\n",
    "这个函数 从一个缓冲区（buffer）创建一个 NumPy 数组，而且这个过程不会复制数据，效率非常高！\n",
    "\n",
    "详细解释：\n",
    "buffer：支持缓冲区接口的对象，比如 Python 的 bytes、bytearray、memoryview 等原始二进制数据。\n",
    "\n",
    "dtype：指定数组中元素的数据类型，比如 np.uint8、np.float32、np.int16 等。\n",
    "\n",
    "count：要读取的元素数量，默认 -1 表示读取全部。\n",
    "\n",
    "offset：从缓冲区的第几个字节开始读取，默认是 0。"
   ]
  },
  {
   "cell_type": "code",
   "execution_count": 2,
   "metadata": {},
   "outputs": [
    {
     "name": "stdout",
     "output_type": "stream",
     "text": [
      "[1 2 3 4]\n"
     ]
    }
   ],
   "source": [
    "import numpy as np\n",
    "\n",
    "b = b'\\x01\\x02\\x03\\x04'  # bytes 对象，4个字节\n",
    "arr = np.frombuffer(b, dtype=np.uint8)\n",
    "print(arr)  # 输出: [1 2 3 4]"
   ]
  },
  {
   "cell_type": "markdown",
   "metadata": {},
   "source": [
    "##### numpy.fromiter(iterable, dtype=float, count=-1)  \n",
    "- 从可迭代对象（iterator）高效地构造一维 ndarray 的函数;\n",
    "- 如果迭代器返回的高维的，仍然会挤在一维里；"
   ]
  },
  {
   "cell_type": "code",
   "execution_count": 4,
   "metadata": {},
   "outputs": [
    {
     "name": "stdout",
     "output_type": "stream",
     "text": [
      "list→array 用时: 0.0763251781463623\n",
      "fromiter  用时: 0.04370999336242676\n"
     ]
    }
   ],
   "source": [
    "# 对比用时\n",
    "import time\n",
    "\n",
    "def make_list():\n",
    "    return [i for i in range(1000000)]\n",
    "\n",
    "def make_fromiter():\n",
    "    return np.fromiter((i for i in range(1000000)), dtype=np.int32, count=1000000)\n",
    "\n",
    "# 列表 + array\n",
    "t0 = time.time()\n",
    "arr_list = np.array(make_list(), dtype=np.int32)\n",
    "t1 = time.time()\n",
    "\n",
    "# 直接 fromiter\n",
    "arr_iter = make_fromiter()\n",
    "t2 = time.time()\n",
    "\n",
    "print(\"list→array 用时:\", t1 - t0)\n",
    "print(\"fromiter  用时:\", t2 - t1)\n"
   ]
  },
  {
   "cell_type": "markdown",
   "metadata": {},
   "source": [
    "### 高级索引"
   ]
  },
  {
   "cell_type": "markdown",
   "metadata": {},
   "source": [
    "#### 切片索引"
   ]
  },
  {
   "cell_type": "markdown",
   "metadata": {},
   "source": [
    "##### 关于slice切片\n",
    "start:end:step\n",
    "- 如果step为负数，start必须大于end;\n",
    "- 省略start或end时，  \n",
    "如果省略了 start，默认从序列的 开头（如果步长为正）或 结尾（如果步长为负）开始。  \n",
    "如果省略了 stop，默认到序列的 结尾（步长为正）或 开头之前（步长为负）结束。"
   ]
  },
  {
   "cell_type": "code",
   "execution_count": null,
   "metadata": {},
   "outputs": [
    {
     "name": "stdout",
     "output_type": "stream",
     "text": [
      "[4, 3, 2, 1, 0]\n",
      "[5, 4, 3, 2, 1, 0]\n"
     ]
    }
   ],
   "source": [
    "import numpy as np\n",
    "\n",
    "lst = [0, 1, 2, 3, 4, 5]\n",
    "print(lst[4::-1])  # [4, 3, 2, 1, 0]\n",
    "\n",
    "# 反转列表\n",
    "print(lst[::-1])  # [5, 4, 3, 2, 1, 0]"
   ]
  },
  {
   "cell_type": "markdown",
   "metadata": {},
   "source": [
    "##### 切片的实现方式\n",
    "- slice函数\n",
    "- 冒号切片\n",
    "- 省略号索引"
   ]
  },
  {
   "cell_type": "code",
   "execution_count": null,
   "metadata": {},
   "outputs": [
    {
     "name": "stdout",
     "output_type": "stream",
     "text": [
      "[2 4 6]\n",
      "\n",
      "使用原始add(): 3\n",
      "使用变量my_add(): 3 \n",
      "\n",
      "[[1 2 3]\n",
      " [3 4 5]\n",
      " [4 5 6]]\n",
      "从数组索引 a[1:] 处开始切割\n",
      "[[3 4 5]\n",
      " [4 5 6]]\n",
      "\n",
      " [2 4 5]\n",
      "[3 4 5]\n",
      "[[2 3]\n",
      " [4 5]\n",
      " [5 6]]\n"
     ]
    }
   ],
   "source": [
    "#1. 使用slice函数切片\n",
    "#内置函数赋值给变量\n",
    "import numpy as np\n",
    " \n",
    "a = np.arange(10)\n",
    "s = slice(2,7,2)   # 从索引 2 开始到索引 7 停止，间隔为2\n",
    "print (a[s])\n",
    "\n",
    "\n",
    "# 2. 使用冒号切片\n",
    "#举一个高维情况下例子\n",
    "import numpy as np\n",
    " \n",
    "a = np.array([[1,2,3],[3,4,5],[4,5,6]])\n",
    "print(a)\n",
    "# 从某个索引处开始切割\n",
    "print('从数组索引 a[1:] 处开始切割') #默认选择剩余的整个维度\n",
    "print(a[1:])\n",
    "\n",
    "\n",
    "# 3. 省略号索引\n",
    "import numpy as np\n",
    "a = np.array([[1,2,3],[3,4,5],[4,5,6]])  \n",
    "print(\"只使用省略号索引，返回行向量\")\n",
    "print (\"\\n\",a[...,1])   # 第2列元素\n",
    "print (\"\\n\",a[1,...])   # 第2行元素\n",
    "print(\"结合切片，保留原来形状\")\n",
    "print (a[...,1:])  # 第2列及剩下的所有元素"
   ]
  },
  {
   "cell_type": "markdown",
   "metadata": {},
   "source": [
    "##### 索引访问会改变维度与切片访问不会改变维度\n",
    "这就是a[-1]与a[1:]的区别"
   ]
  },
  {
   "cell_type": "code",
   "execution_count": null,
   "metadata": {},
   "outputs": [
    {
     "name": "stdout",
     "output_type": "stream",
     "text": [
      "[1 2 3]\n",
      "[[1 2 3]]\n"
     ]
    }
   ],
   "source": [
    "# 索引访问与切片访问的区别\n",
    "import numpy as np\n",
    "arr2d = np.array([[1,2,3],\n",
    "                  [4,5,6],\n",
    "                  [7,8,9]])\n",
    "\n",
    "print(arr2d[0])     # 输出: [1 2 3]，一维数组（行向量）\n",
    "print(arr2d[0:1])   # 输出: [[1 2 3]]，二维数组（仍然保持二维，行数是1）"
   ]
  },
  {
   "cell_type": "markdown",
   "metadata": {},
   "source": [
    "#### 整数数组索引"
   ]
  },
  {
   "cell_type": "code",
   "execution_count": 5,
   "metadata": {},
   "outputs": [
    {
     "name": "stdout",
     "output_type": "stream",
     "text": [
      "[1 4 5]\n"
     ]
    }
   ],
   "source": [
    "# 整数数组索引\n",
    "import numpy as np \n",
    "#按位置进行索引，每个位置的索引放在不同数组；\n",
    "x = np.array([[1,  2],  [3,  4],  [5,  6]]) \n",
    "y = x[[0,1,2],  [0,1,0]]  \n",
    "print (y)\n"
   ]
  },
  {
   "cell_type": "code",
   "execution_count": 3,
   "metadata": {},
   "outputs": [
    {
     "name": "stdout",
     "output_type": "stream",
     "text": [
      "[[4 5]\n",
      " [4 5]]\n"
     ]
    }
   ],
   "source": [
    "# 通过整数数组的形状控制输出的形状\n",
    "import numpy as np\n",
    "x = np.array([[1,  2],  [3,  4],  [5,  6]]) \n",
    "row = np.array([[1,2],[1,2]])\n",
    "col = np.array([[1,0],[1,0]])\n",
    "print(x[row, col])\n"
   ]
  },
  {
   "cell_type": "code",
   "execution_count": 4,
   "metadata": {},
   "outputs": [
    {
     "name": "stdout",
     "output_type": "stream",
     "text": [
      "b是\n",
      " [[5 6]\n",
      " [8 9]]\n",
      "c是\n",
      " [[5 6]]\n",
      "d是\n",
      " [[5]\n",
      " [8]]\n",
      "e是\n",
      " [2 5 8]\n"
     ]
    }
   ],
   "source": [
    "# 整数索引结合切片索引: 注意维度的变化，注意能不能取到(3还是2)\n",
    "import numpy as np\n",
    "a = np.array([[1,2,3], [4,5,6], [7,8,9]])\n",
    "b=a[1:3, 1:3]\n",
    "c=a[1:2, [1,2]] # 第1维度和后面的整数列表组合。\n",
    "d=a[[1,2], 1:2]\n",
    "e=a[...,1]\n",
    "\n",
    "print(\"b是\\n\",b)\n",
    "print(\"c是\\n\",c)\n",
    "print(\"d是\\n\",d)\n",
    "print(\"e是\\n\",e)\n"
   ]
  },
  {
   "cell_type": "markdown",
   "metadata": {},
   "source": [
    "#### 布尔索引"
   ]
  },
  {
   "cell_type": "code",
   "execution_count": 10,
   "metadata": {},
   "outputs": [
    {
     "name": "stdout",
     "output_type": "stream",
     "text": [
      "我们的数组是：\n",
      "[[ 0  1  2]\n",
      " [ 3  4  5]\n",
      " [ 6  7  8]\n",
      " [ 9 10 11]]\n",
      "\n",
      "\n",
      "x>5的输出是：\n",
      "[[False False False]\n",
      " [False False False]\n",
      " [ True  True  True]\n",
      " [ True  True  True]]\n",
      "\n",
      "\n",
      "大于 5 的元素是：\n",
      "[ 6  7  8  9 10 11]\n"
     ]
    }
   ],
   "source": [
    "# 布尔索引\n",
    "import numpy as np \n",
    " \n",
    "x = np.array([[  0,  1,  2],[  3,  4,  5],[  6,  7,  8],[  9,  10,  11]])  \n",
    "print ('我们的数组是：')\n",
    "print (x)\n",
    "print ('\\n')\n",
    "# 现在我们会打印出大于 5 的元素\n",
    "print(\"x>5的输出是：\")  \n",
    "print(x>5)\n",
    "print(\"\\n\")\n",
    "print  ('大于 5 的元素是：')\n",
    "print (x[x >  5]) #可以看到输入是Ture和False，输出是True对应的元素；####输出是1维数组####；\n"
   ]
  },
  {
   "cell_type": "markdown",
   "metadata": {},
   "source": [
    "#### 花式索引"
   ]
  },
  {
   "cell_type": "code",
   "execution_count": 11,
   "metadata": {},
   "outputs": [
    {
     "name": "stdout",
     "output_type": "stream",
     "text": [
      "(array([[1],\n",
      "       [5],\n",
      "       [7],\n",
      "       [2]]), array([[0, 3, 1, 2]]))\n",
      "\n",
      " [[ 0  1  2  3]\n",
      " [ 4  5  6  7]\n",
      " [ 8  9 10 11]\n",
      " [12 13 14 15]\n",
      " [16 17 18 19]\n",
      " [20 21 22 23]\n",
      " [24 25 26 27]\n",
      " [28 29 30 31]]\n",
      "\n",
      " [[ 4  7  5  6]\n",
      " [20 23 21 22]\n",
      " [28 31 29 30]\n",
      " [ 8 11  9 10]]\n"
     ]
    }
   ],
   "source": [
    "# 利用笛卡尔积产生索引，笛卡尔积是np.ix_\n",
    "import numpy as np \n",
    " \n",
    "x=np.arange(32).reshape((8,4))\n",
    "print(np.ix_([1,5,7,2],[0,3,1,2]))\n",
    "print(\"\\n\",x)\n",
    "print (\"\\n\",x[np.ix_([1,5,7,2],[0,3,1,2])]) #注意返回数组的形状"
   ]
  },
  {
   "cell_type": "markdown",
   "metadata": {},
   "source": [
    "### 数组迭代 (np.nditer(a,order=\"K\"))\n",
    "- 高维情况下的F顺序是最左边索引变化最快；C顺序是最右边索引变化最快。"
   ]
  },
  {
   "cell_type": "code",
   "execution_count": 1,
   "metadata": {},
   "outputs": [
    {
     "name": "stdout",
     "output_type": "stream",
     "text": [
      "原始数组形状: (2, 2, 3)\n",
      "\n",
      "C顺序 (默认):\n",
      "1 2 3 4 5 6 7 8 9 10 11 12 \n",
      "\n",
      "F顺序:\n",
      "1 7 4 10 2 8 5 11 3 9 6 12 "
     ]
    }
   ],
   "source": [
    "# 高维情况下的F顺序是最左边索引变化最快；C顺序是最右边索引变化最快。\n",
    "import numpy as np\n",
    "\n",
    "# 创建一个三维数组 (2, 2, 3)\n",
    "a = np.array([\n",
    "    [[1, 2, 3],    # a[0,0]\n",
    "     [4, 5, 6]],   # a[0,1]\n",
    "    \n",
    "    [[7, 8, 9],    # a[1,0]\n",
    "     [10, 11, 12]] # a[1,1]\n",
    "])\n",
    "\n",
    "print(\"原始数组形状:\", a.shape)  # (2, 2, 3)\n",
    "\n",
    "# C顺序 (row-major)：最右边的索引变化最快\n",
    "print(\"\\nC顺序 (默认):\")\n",
    "for x in np.nditer(a, order='C'):\n",
    "    print(x, end=' ')\n",
    "# 输出: 1 2 3 4 5 6 7 8 9 10 11 12\n",
    "\n",
    "# F顺序 (column-major)：最左边的索引变化最快\n",
    "print(\"\\n\\nF顺序:\")\n",
    "for x in np.nditer(a, order='F'):\n",
    "    print(x, end=' ')\n",
    "# 输出: 1 7 4 10 2 8 5 11 3 9 6 12"
   ]
  },
  {
   "cell_type": "markdown",
   "metadata": {},
   "source": [
    "- 直接对数组进行迭代只能迭代最外层"
   ]
  },
  {
   "cell_type": "code",
   "execution_count": 3,
   "metadata": {},
   "outputs": [
    {
     "name": "stdout",
     "output_type": "stream",
     "text": [
      "[[1 2 3]\n",
      " [4 5 6]]\n",
      "[[ 7  8  9]\n",
      " [10 11 12]]\n"
     ]
    }
   ],
   "source": [
    "# 直接对数组进行迭代只能迭代最外层\n",
    "import numpy as np\n",
    "\n",
    "# 创建一个三维数组 (2, 2, 3)\n",
    "a = np.array([\n",
    "    [[1, 2, 3],    # a[0,0]\n",
    "     [4, 5, 6]],   # a[0,1]\n",
    "    \n",
    "    [[7, 8, 9],    # a[1,0]\n",
    "     [10, 11, 12]] # a[1,1]\n",
    "])\n",
    "\n",
    "for e in a:\n",
    "    print(e)"
   ]
  },
  {
   "cell_type": "markdown",
   "metadata": {},
   "source": [
    "- np.nditer(a,order=\"K\") 中用order控制访问顺序"
   ]
  },
  {
   "cell_type": "code",
   "execution_count": 3,
   "metadata": {},
   "outputs": [
    {
     "name": "stdout",
     "output_type": "stream",
     "text": [
      "True\n",
      "按默认序迭代：\n",
      "1,3,2,4,\n",
      "按C序迭代：\n",
      "1,2,3,4,"
     ]
    }
   ],
   "source": [
    "import numpy as np\n",
    "a = np.array([[1,2],[3,4]],order=\"F\")\n",
    "print(a.flags.f_contiguous)\n",
    "print(f\"按默认序迭代：\")\n",
    "for x in np.nditer(a):\n",
    "    print(x,end=\",\")\n",
    "print(f\"\\n按C序迭代：\")\n",
    "for x in np.nditer(a,order=\"C\"):\n",
    "    print(x,end=\",\")"
   ]
  },
  {
   "cell_type": "markdown",
   "metadata": {},
   "source": [
    "- 广播迭代"
   ]
  },
  {
   "cell_type": "code",
   "execution_count": 8,
   "metadata": {},
   "outputs": [
    {
     "name": "stdout",
     "output_type": "stream",
     "text": [
      "4:0\n",
      "5:1\n",
      "6:2\n",
      "7:3\n",
      "8:0\n",
      "9:1\n",
      "10:2\n",
      "11:3\n",
      "12:0\n",
      "13:1\n",
      "14:2\n",
      "15:3\n"
     ]
    }
   ],
   "source": [
    "import numpy as np\n",
    "a = np.arange(4,16).reshape((3,4))\n",
    "b = np.arange(4)\n",
    "for x,y in np.nditer([a,b]):\n",
    "    print(f\"{x}:{y}\")"
   ]
  },
  {
   "cell_type": "markdown",
   "metadata": {},
   "source": [
    "- 默认是只读的，如果要修改值需要op_flags参数"
   ]
  },
  {
   "cell_type": "code",
   "execution_count": 10,
   "metadata": {},
   "outputs": [
    {
     "name": "stdout",
     "output_type": "stream",
     "text": [
      "原始数组是：\n",
      "[[ 0  5 10 15]\n",
      " [20 25 30 35]\n",
      " [40 45 50 55]]\n",
      "\n",
      "修改后数组是：\n",
      "[[  0  10  20  30]\n",
      " [ 40  50  60  70]\n",
      " [ 80  90 100 110]]\n"
     ]
    }
   ],
   "source": [
    "import numpy as np\n",
    " \n",
    "a = np.arange(0,60,5).reshape(3,4)  \n",
    "print (f'原始数组是：\\n{a}')\n",
    "for x in np.nditer(a, op_flags=['readwrite']): ##注意修改时方式\n",
    "    x[...]=2*x \n",
    "print(f\"\\n修改后数组是：\\n{a}\")"
   ]
  },
  {
   "cell_type": "code",
   "execution_count": 11,
   "metadata": {},
   "outputs": [
    {
     "name": "stdout",
     "output_type": "stream",
     "text": [
      "原始数组是：\n",
      "[[ 0  5 10 15]\n",
      " [20 25 30 35]\n",
      " [40 45 50 55]]\n"
     ]
    },
    {
     "ename": "ValueError",
     "evalue": "assignment destination is read-only",
     "output_type": "error",
     "traceback": [
      "\u001b[1;31m---------------------------------------------------------------------------\u001b[0m",
      "\u001b[1;31mValueError\u001b[0m                                Traceback (most recent call last)",
      "Cell \u001b[1;32mIn[11], line 6\u001b[0m\n\u001b[0;32m      4\u001b[0m \u001b[38;5;28mprint\u001b[39m (\u001b[38;5;124mf\u001b[39m\u001b[38;5;124m'\u001b[39m\u001b[38;5;124m原始数组是：\u001b[39m\u001b[38;5;130;01m\\n\u001b[39;00m\u001b[38;5;132;01m{\u001b[39;00ma\u001b[38;5;132;01m}\u001b[39;00m\u001b[38;5;124m'\u001b[39m)\n\u001b[0;32m      5\u001b[0m \u001b[38;5;28;01mfor\u001b[39;00m x \u001b[38;5;129;01min\u001b[39;00m np\u001b[38;5;241m.\u001b[39mnditer(a): \u001b[38;5;66;03m##注意修改时方式\u001b[39;00m\n\u001b[1;32m----> 6\u001b[0m     \u001b[43mx\u001b[49m\u001b[43m[\u001b[49m\u001b[38;5;241;43m.\u001b[39;49m\u001b[38;5;241;43m.\u001b[39;49m\u001b[38;5;241;43m.\u001b[39;49m\u001b[43m]\u001b[49m\u001b[38;5;241m=\u001b[39m\u001b[38;5;241m2\u001b[39m\u001b[38;5;241m*\u001b[39mx \n\u001b[0;32m      7\u001b[0m \u001b[38;5;28mprint\u001b[39m(\u001b[38;5;124mf\u001b[39m\u001b[38;5;124m\"\u001b[39m\u001b[38;5;130;01m\\n\u001b[39;00m\u001b[38;5;124m修改后数组是：\u001b[39m\u001b[38;5;130;01m\\n\u001b[39;00m\u001b[38;5;132;01m{\u001b[39;00ma\u001b[38;5;132;01m}\u001b[39;00m\u001b[38;5;124m\"\u001b[39m)\n",
      "\u001b[1;31mValueError\u001b[0m: assignment destination is read-only"
     ]
    }
   ],
   "source": [
    "# 如果不设置op_flags参数，修改时会报错\n",
    "import numpy as np\n",
    " \n",
    "a = np.arange(0,60,5).reshape(3,4)  \n",
    "print (f'原始数组是：\\n{a}')\n",
    "for x in np.nditer(a): ##注意修改时方式\n",
    "    x[...]=2*x \n",
    "print(f\"\\n修改后数组是：\\n{a}\")"
   ]
  },
  {
   "cell_type": "markdown",
   "metadata": {},
   "source": [
    "### 数组操作"
   ]
  },
  {
   "cell_type": "markdown",
   "metadata": {},
   "source": [
    "#### 改变数组形状  \n",
    "|函数|\t描述|\n",
    "|------|------|\n",
    "|reshape|\t不改变数据的条件下修改形状|\n",
    "|flat|\t数组元素迭代器|\n",
    "|flatten|\t返回一份数组拷贝，对拷贝所做的修改不会影响原始数组|\n",
    "|ravel|\t返回展开数组|\n",
    "\n",
    "\n",
    "\n",
    "\n",
    "\n",
    "\n",
    "\n",
    "\n"
   ]
  },
  {
   "cell_type": "markdown",
   "metadata": {},
   "source": [
    "##### ndarry.reshape(shape,order='C')中的参数order（F连续数组的reshape行为）  \n",
    "如果是F序数组，但reshape里的order参数为C，则会将原数组按C序拉直并按C序填充\n",
    "\n",
    "\n",
    "\n",
    "\n",
    "\n",
    "\n",
    "\n",
    "\n",
    "\n"
   ]
  },
  {
   "cell_type": "code",
   "execution_count": 18,
   "metadata": {},
   "outputs": [
    {
     "name": "stdout",
     "output_type": "stream",
     "text": [
      "  C_CONTIGUOUS : False\n",
      "  F_CONTIGUOUS : True\n",
      "  OWNDATA : True\n",
      "  WRITEABLE : True\n",
      "  ALIGNED : True\n",
      "  WRITEBACKIFCOPY : False\n",
      "\n",
      "[[1 2 3]\n",
      " [4 5 6]]\n",
      "\n",
      "C序reshape\n",
      "[[1 2]\n",
      " [3 4]\n",
      " [5 6]]\n",
      "  C_CONTIGUOUS : True\n",
      "  F_CONTIGUOUS : False\n",
      "  OWNDATA : False\n",
      "  WRITEABLE : True\n",
      "  ALIGNED : True\n",
      "  WRITEBACKIFCOPY : False\n",
      "\n",
      "\n",
      "F序reshape\n",
      "[[1 5]\n",
      " [4 3]\n",
      " [2 6]]\n"
     ]
    }
   ],
   "source": [
    "import numpy as np\n",
    "a = np.array([[1,2,3],[4,5,6]],order='F')\n",
    "print(a.flags)\n",
    "print(a)\n",
    "print(f\"\\nC序reshape\")\n",
    "b= a.reshape(3,2)\n",
    "print(b)\n",
    "print(b.flags)\n",
    "\n",
    "print(f\"\\nF序reshape\")\n",
    "print(a.reshape(3,2,order='F'))"
   ]
  },
  {
   "cell_type": "code",
   "execution_count": 2,
   "metadata": {},
   "outputs": [
    {
     "name": "stdout",
     "output_type": "stream",
     "text": [
      "1. 基本用法:\n",
      "原数组:\n",
      " [[1 2 3]\n",
      " [4 5 6]]\n",
      "使用ravel后: [1 2 3 4 5 6]\n",
      "使用ravel后的数据类型 <class 'numpy.ndarray'>\n",
      "\n",
      "2. ravel vs flatten:\n",
      "初始状态:\n",
      "ravel结果: [1 2 3 4 5 6]\n",
      "flatten结果: [1 2 3 4 5 6]\n",
      "\n",
      "修改原数组后:\n",
      "原数组:\n",
      " [[99  2  3]\n",
      " [ 4  5  6]]\n",
      "ravel结果: [99  2  3  4  5  6]\n",
      "flatten结果: [1 2 3 4 5 6]\n",
      "\n",
      "3. 不同的order参数:\n",
      "C顺序 (默认): [99  2  3  4  5  6]\n",
      "F顺序: [99  4  2  5  3  6]\n",
      "A顺序: [99  2  3  4  5  6]\n",
      "K顺序: [99  2  3  4  5  6]\n"
     ]
    }
   ],
   "source": [
    "# np.ravel()函数\n",
    "import numpy as np\n",
    "\n",
    "# 创建示例数组\n",
    "arr = np.array([[1, 2, 3],\n",
    "                [4, 5, 6]])\n",
    "\n",
    "# 1. 基本用法\n",
    "print(\"1. 基本用法:\")\n",
    "print(\"原数组:\\n\", arr)\n",
    "print(\"使用ravel后:\", arr.ravel())\n",
    "print(\"使用ravel后的数据类型\",type(arr.ravel()))\n",
    "\n",
    "# 2. ravel vs flatten\n",
    "print(\"\\n2. ravel vs flatten:\")\n",
    "# 修改原数组，观察ravel和flatten的区别\n",
    "raveled = arr.ravel()\n",
    "flattened = arr.flatten()\n",
    "print(\"初始状态:\")\n",
    "print(\"ravel结果:\", raveled)\n",
    "print(\"flatten结果:\", flattened)\n",
    "\n",
    "arr[0, 0] = 99  # 修改原数组\n",
    "print(\"\\n修改原数组后:\")\n",
    "print(\"原数组:\\n\", arr)\n",
    "print(\"ravel结果:\", raveled)      # 会改变，因为是视图\n",
    "print(\"flatten结果:\", flattened)  # 不会改变，因为是副本\n",
    "\n",
    "# 3. ravel的order参数\n",
    "print(\"\\n3. 不同的order参数:\")\n",
    "print(\"C顺序 (默认):\", arr.ravel())        # 行优先\n",
    "print(\"F顺序:\", arr.ravel(order='F'))      # 列优先\n",
    "print(\"A顺序:\", arr.ravel(order='A'))      # 保持原数组顺序\n",
    "print(\"K顺序:\", arr.ravel(order='K'))      # 内存顺序"
   ]
  },
  {
   "cell_type": "code",
   "execution_count": 5,
   "metadata": {},
   "outputs": [
    {
     "name": "stdout",
     "output_type": "stream",
     "text": [
      "1. 使用 flat:\n",
      "类型: <class 'numpy.flatiter'>\n",
      "迭代结果: 1 2 3 4 5 6 \n",
      "\n",
      "2. 使用 flatten():\n",
      "类型: <class 'numpy.ndarray'>\n",
      "返回数组: [1 2 3 4 5 6]\n",
      "\n",
      "3. 内存视图:\n",
      "修改原数组后:\n",
      "原数组: [[99  2  3]\n",
      " [ 4  5  6]]\n",
      "重新迭代 flat: [99, 2, 3, 4, 5, 6]\n",
      "flatten的结果: [1 2 3 4 5 6]\n",
      "\n",
      "4. flatten的不同顺序:\n",
      "C顺序 (默认): [99  2  3  4  5  6]\n",
      "F顺序: [99  4  2  5  3  6]\n",
      "A顺序: [99  2  3  4  5  6]\n",
      "K顺序: [99  2  3  4  5  6]\n"
     ]
    }
   ],
   "source": [
    "# numpy.ndaaay.flat与numpy.ndarry.flatten()的区别 （注意flat没有括号）\n",
    "import numpy as np\n",
    "\n",
    "# 创建一个示例数组\n",
    "arr = np.array([[1, 2, 3], \n",
    "                [4, 5, 6]])\n",
    "\n",
    "# 1. numpy.flat 是一个迭代器\n",
    "print(\"1. 使用 flat:\")\n",
    "flat_iterator = arr.flat\n",
    "print(\"类型:\", type(flat_iterator))\n",
    "print(\"迭代结果:\", end=\" \")\n",
    "for item in flat_iterator:\n",
    "    print(item, end=\" \")\n",
    "\n",
    "# 2. flatten() 返回一个新的一维数组\n",
    "print(\"\\n\\n2. 使用 flatten():\")\n",
    "flattened_arr = arr.flatten()\n",
    "print(\"类型:\", type(flattened_arr))\n",
    "print(\"返回数组:\", flattened_arr)\n",
    "\n",
    "# 3. 展示 flat 不会创建新的数组，而 flatten 会\n",
    "print(\"\\n3. 内存视图:\")\n",
    "arr[0, 0] = 99\n",
    "print(\"修改原数组后:\")\n",
    "print(\"原数组:\", arr)\n",
    "print(\"重新迭代 flat:\", [x for x in arr.flat])\n",
    "print(\"flatten的结果:\", flattened_arr)  # 不会改变\n",
    "\n",
    "# 4. flatten的不同顺序参数\n",
    "print(\"\\n4. flatten的不同顺序:\")\n",
    "print(\"C顺序 (默认):\", arr.flatten())  # 行优先\n",
    "print(\"F顺序:\", arr.flatten(order='F'))  # 列优先\n",
    "print(\"A顺序:\", arr.flatten(order='A'))  # 保持原数组的顺序\n",
    "print(\"K顺序:\", arr.flatten(order='K'))  # 按照内存中的实际顺序"
   ]
  },
  {
   "cell_type": "code",
   "execution_count": 6,
   "metadata": {},
   "outputs": [
    {
     "name": "stdout",
     "output_type": "stream",
     "text": [
      "1. 使用 flat:\n",
      "类型: <class 'numpy.flatiter'>\n",
      "1 2 3 4 5 6 \n",
      "\n",
      "2. 使用 nditer:\n",
      "类型: <class 'numpy.nditer'>\n",
      "\n",
      "C顺序:\n",
      "1 2 3 4 5 6 \n",
      "F顺序:\n",
      "1 4 2 5 3 6 \n",
      "\n",
      "3. nditer的高级特性:\n",
      "(1, 2) (2, 4) (3, 6) (4, 8) (5, 10) (6, 12) \n",
      "\n",
      "修改数组元素:\n",
      "修改后的数组:\n",
      " [[ 2  4  6]\n",
      " [ 8 10 12]]\n"
     ]
    }
   ],
   "source": [
    "# np.flat和np.niter的区别\n",
    "import numpy as np\n",
    "\n",
    "# 创建示例数组\n",
    "arr = np.array([[1, 2, 3],\n",
    "                [4, 5, 6]])\n",
    "\n",
    "# 1. flat 只能按C顺序迭代\n",
    "print(\"1. 使用 flat:\")\n",
    "print(\"类型:\", type(arr.flat))\n",
    "for x in arr.flat:\n",
    "    print(x, end=' ')\n",
    "\n",
    "# 2. nditer 更灵活\n",
    "print(\"\\n\\n2. 使用 nditer:\")\n",
    "print(\"类型:\", type(np.nditer(arr)))\n",
    "print(\"\\nC顺序:\")\n",
    "for x in np.nditer(arr, order='C'):\n",
    "    print(x, end=' ')\n",
    "print(\"\\nF顺序:\")\n",
    "for x in np.nditer(arr, order='F'):\n",
    "    print(x, end=' ')\n",
    "\n",
    "# 3. nditer的高级特性\n",
    "print(\"\\n\\n3. nditer的高级特性:\")\n",
    "# 可以同时迭代多个数组\n",
    "arr2 = arr * 2\n",
    "for x, y in np.nditer([arr, arr2]):\n",
    "    print(f\"({x}, {y})\", end=' ')\n",
    "\n",
    "# 可以指定读写模式\n",
    "print(\"\\n\\n修改数组元素:\")\n",
    "with np.nditer(arr, op_flags=['readwrite']) as it:\n",
    "    for x in it:\n",
    "        x[...] = x * 2\n",
    "print(\"修改后的数组:\\n\", arr)"
   ]
  },
  {
   "cell_type": "markdown",
   "metadata": {},
   "source": [
    "#### 改变数组维度\n",
    "|函数|\t描述|\n",
    "|------|------|\n",
    "|ndarry.T或np.transpose()|\t转置数组|\n",
    "|numpy.broadcast(*args)|\t广播对象|\n",
    "|numpy.broadcast_to(array, shape, subok)|\t将数组广播到新形状|\n",
    "|numpy.expand_dims(arr, axis)|\t在指定位置插入新的轴以扩展数组形状|\n",
    "|numpy.squeeze(arr)|\t从数组的形状中删除单维度条目|\n",
    "\n",
    "expand_dims相当于torch的unsqueeze;   \n",
    "np.transpose相当于torch的permute"
   ]
  },
  {
   "cell_type": "markdown",
   "metadata": {},
   "source": [
    "##### 数组转置  \n",
    "在 NumPy 中，对数组执行转置（.T 或 np.transpose）并不会实际改变底层数据在内存中的存储顺序，而是通过调整**步幅(stride)**来实现视图（view）上的维度交换。具体而言：\n",
    "\n",
    "- 底层内存不动：\n",
    "转置操作不会进行数据复制，数组元素在物理内存中的排列顺序保持不变。\n",
    "\n",
    "- 步幅（stride）改变：\n",
    "NumPy 通过修改返回视图的 strides 属性，使得在多维索引时按新的维度顺序访问原始内存。例如，原数组 a 的形状为 (2, 3) 并在 C-order（行优先）下连续存储，a.strides 可能是 (24, 8)（假设每个元素占 8 字节）。a.T 后，视图的 strides 变为 (8, 24)，从而实现了行列互换的索引逻辑。\n",
    "\n",
    "- 连续性（contiguity）影响：\n",
    "原始数组若是 C-contiguous，则转置后可以F连续；\n",
    "\n"
   ]
  },
  {
   "cell_type": "code",
   "execution_count": 9,
   "metadata": {},
   "outputs": [
    {
     "name": "stdout",
     "output_type": "stream",
     "text": [
      "  C_CONTIGUOUS : True\n",
      "  F_CONTIGUOUS : False\n",
      "  OWNDATA : False\n",
      "  WRITEABLE : True\n",
      "  ALIGNED : True\n",
      "  WRITEBACKIFCOPY : False\n",
      "\n",
      "  C_CONTIGUOUS : False\n",
      "  F_CONTIGUOUS : True\n",
      "  OWNDATA : False\n",
      "  WRITEABLE : True\n",
      "  ALIGNED : True\n",
      "  WRITEBACKIFCOPY : False\n",
      "\n"
     ]
    }
   ],
   "source": [
    "import numpy as np\n",
    "\n",
    "a = np.arange(6).reshape(2, 3)\n",
    "print(a.flags)      \n",
    "\n",
    "b = a.T\n",
    "print(b.flags)      \n"
   ]
  },
  {
   "cell_type": "code",
   "execution_count": 11,
   "metadata": {},
   "outputs": [
    {
     "name": "stdout",
     "output_type": "stream",
     "text": [
      "(2, 3, 4)\n",
      "(4, 3, 2)\n",
      "(3, 2, 4)\n"
     ]
    }
   ],
   "source": [
    "# np.transpose和.T在高维情况的用法\n",
    "a = np.random.rand(2, 3, 4)\n",
    "print(a.shape)    # (2, 3, 4)\n",
    "print(a.T.shape)  # (4, 3, 2)\n",
    "b = np.transpose(a, (1, 0, 2))\n",
    "print(b.shape)  # 自定义维度重排"
   ]
  },
  {
   "cell_type": "markdown",
   "metadata": {},
   "source": [
    "##### np.broadcast(*args)\n",
    "- 返回broadcast对象"
   ]
  },
  {
   "cell_type": "code",
   "execution_count": 2,
   "metadata": {},
   "outputs": [
    {
     "name": "stdout",
     "output_type": "stream",
     "text": [
      "<numpy.broadcast object at 0x000002780E77F290>\n"
     ]
    }
   ],
   "source": [
    "import numpy as np\n",
    " \n",
    "x = np.array([[1], [2], [3]])\n",
    "y = np.array([4, 5, 6])  \n",
    " \n",
    "# 对 y 广播 x\n",
    "b = np.broadcast(x,y)  \n",
    "print(b)"
   ]
  },
  {
   "cell_type": "markdown",
   "metadata": {},
   "source": [
    "#### 数组拼接与堆叠"
   ]
  },
  {
   "cell_type": "markdown",
   "metadata": {},
   "source": [
    "**数组拼接**  \n",
    "np.concatenate(arrays, axis=0, out=None)\n",
    "- arrays可以为列表、元组；"
   ]
  },
  {
   "cell_type": "markdown",
   "metadata": {},
   "source": [
    "**数组堆叠**  \n",
    "numpy.stack(arrays, axis=0, *, out=None)  \n",
    "- 要堆叠的数组序列（如列表或元组），所有数组必须具有完全相同的形状。\n",
    "- axis：指定沿哪个轴进行堆叠，默认为0。可以选维数+1  \n",
    "\n",
    "**以下二维堆叠的例子可以想象成两个平面在三维空间中怎么放**  "
   ]
  },
  {
   "cell_type": "code",
   "execution_count": 1,
   "metadata": {},
   "outputs": [
    {
     "name": "stdout",
     "output_type": "stream",
     "text": [
      "沿轴 0 堆叠两个数组：\n",
      "[[[1 2]\n",
      "  [3 4]]\n",
      "\n",
      " [[5 6]\n",
      "  [7 8]]]\n",
      "(2, 2, 2)\n",
      "沿轴 1 堆叠两个数组：\n",
      "[[[1 2]\n",
      "  [5 6]]\n",
      "\n",
      " [[3 4]\n",
      "  [7 8]]]\n",
      "沿轴 2 堆叠两个数组\n",
      "[[[1 5]\n",
      "  [2 6]]\n",
      "\n",
      " [[3 7]\n",
      "  [4 8]]]\n",
      "(2, 2, 2)\n"
     ]
    }
   ],
   "source": [
    "# np.stack会改变数组维度；\n",
    "import numpy as np\n",
    " \n",
    "a = np.array([[1,2],[3,4]])\n",
    "b = np.array([[5,6],[7,8]])\n",
    " \n",
    "print ('沿轴 0 堆叠两个数组：')\n",
    "x_stack = np.stack((a,b),0)\n",
    "print (x_stack)\n",
    "print (x_stack.shape)\n",
    " \n",
    "print ('沿轴 1 堆叠两个数组：')\n",
    "y_stack = np.stack((a,b),1)\n",
    "print (np.stack((a,b),1))\n",
    "\n",
    "print(\"沿轴 2 堆叠两个数组\")\n",
    "z_stack = np.stack((a,b),2)\n",
    "print (z_stack)\n",
    "print (z_stack.shape)\n"
   ]
  },
  {
   "cell_type": "markdown",
   "metadata": {},
   "source": [
    "#### 数组分割\n",
    "np.split(ary, indices_or_sections, axis=0)  \n",
    "如果indices_or_sections为整数，则表示将数组平均分成indices_or_sections份；  \n",
    "如果indices_or_sections为列表，则表示将数组在indices_or_sections指定的位置进行分割。  \n",
    "返回的是列表套数组"
   ]
  },
  {
   "cell_type": "markdown",
   "metadata": {},
   "source": []
  },
  {
   "cell_type": "markdown",
   "metadata": {},
   "source": [
    "### Numpy 排序，筛选"
   ]
  },
  {
   "cell_type": "markdown",
   "metadata": {},
   "source": [
    "#### 排序\n",
    "两个函数：\n",
    "- np.sort(a, axis=-1, kind='quicksort', order=None)：返回排序后的数组\n",
    "- np.argsort(a, axis=-1, kind='quicksort', order=None):返回排序后元素在原数组中的索引"
   ]
  },
  {
   "cell_type": "markdown",
   "metadata": {},
   "source": [
    "### Numpy函数"
   ]
  },
  {
   "cell_type": "markdown",
   "metadata": {},
   "source": [
    "#### np.where"
   ]
  },
  {
   "cell_type": "code",
   "execution_count": 3,
   "metadata": {},
   "outputs": [
    {
     "name": "stdout",
     "output_type": "stream",
     "text": [
      "(array([0, 1, 1, 1], dtype=int64), array([2, 0, 1, 2], dtype=int64))\n",
      "[3 4 5 6]\n"
     ]
    }
   ],
   "source": [
    "import numpy as np\n",
    "arr_2d = np.array([[1,2,3],[4,5,6]])\n",
    "result = np.where(arr_2d > 2)\n",
    "print(result)\n",
    "print(arr_2d[result] )"
   ]
  },
  {
   "cell_type": "markdown",
   "metadata": {},
   "source": [
    "### Numpy 矩阵与线性代数运算"
   ]
  },
  {
   "cell_type": "markdown",
   "metadata": {},
   "source": [
    "### 其它应用：\n",
    "- unique\n",
    "- sort\n",
    "- 采样\n",
    "- 向量操作(对行列的整体操作)\n",
    "- 自定义函数的应用"
   ]
  },
  {
   "cell_type": "markdown",
   "metadata": {},
   "source": [
    "#### unique  \n",
    "np.unique(arr,return_index=False,return_inverse=False,return_counts=False)  \n",
    "arr 可以是列表，元组  "
   ]
  },
  {
   "cell_type": "code",
   "execution_count": 1,
   "metadata": {},
   "outputs": [
    {
     "name": "stdout",
     "output_type": "stream",
     "text": [
      "[1 2 3]\n",
      "[1 2 0]\n",
      "[2 0 1 2 1]\n",
      "[1 2 2]\n"
     ]
    }
   ],
   "source": [
    "import numpy as np\n",
    "arr = [3, 1, 2, 3, 2]\n",
    "unique_values, indices, inverse ,counts = np.unique(arr,return_counts=True,return_index=True,return_inverse = True)\n",
    "print(unique_values)  # [1, 2, 3]\n",
    "print(indices)         # [1, 2, 0]\n",
    "print(inverse)         # [2, 0, 1, 2, 1]\n",
    "print(counts)          # [1, 2, 2]\n"
   ]
  },
  {
   "cell_type": "markdown",
   "metadata": {},
   "source": []
  },
  {
   "cell_type": "markdown",
   "metadata": {},
   "source": [
    "#### 零维数组和numpy标量"
   ]
  },
  {
   "cell_type": "code",
   "execution_count": 16,
   "metadata": {},
   "outputs": [
    {
     "name": "stdout",
     "output_type": "stream",
     "text": [
      "<class 'numpy.ndarray'>\n",
      "2\n"
     ]
    }
   ],
   "source": [
    "import numpy as np\n",
    "a = np.array(2)\n",
    "b = np.int32(2)\n",
    "x_stack = np.array([2])\n",
    "print(type(a))\n",
    "print(b)"
   ]
  },
  {
   "cell_type": "markdown",
   "metadata": {},
   "source": [
    "#### 为什么np.array([2])的shape是(1,)而不是(1)\n",
    "都是用元组表示的，要输入一元元组需要加一个逗号"
   ]
  },
  {
   "cell_type": "code",
   "execution_count": 1,
   "metadata": {},
   "outputs": [
    {
     "name": "stdout",
     "output_type": "stream",
     "text": [
      "<class 'int'>\n",
      "<class 'tuple'>\n",
      "(3,)\n"
     ]
    }
   ],
   "source": [
    "a = (3)\n",
    "b = (3,)\n",
    "print(type(a))\n",
    "print(type(b))\n",
    "print(b)"
   ]
  },
  {
   "cell_type": "markdown",
   "metadata": {},
   "source": [
    "## 一些场景"
   ]
  },
  {
   "cell_type": "markdown",
   "metadata": {},
   "source": [
    "### 两个数组，要让其中一个按值排序，另一个按排序后形式调整对应关系\n",
    "- 转化为字典，用字典的key-value对应关系\n",
    "- np.argsort()"
   ]
  },
  {
   "cell_type": "code",
   "execution_count": null,
   "metadata": {},
   "outputs": [],
   "source": []
  },
  {
   "cell_type": "markdown",
   "metadata": {},
   "source": [
    "## 实际写代码时出现的疑问"
   ]
  },
  {
   "cell_type": "markdown",
   "metadata": {},
   "source": [
    "### 大部分numpy函数可以直接对Series和列表使用，返回的是numpy数组； \n",
    "1. np.random.choice可以对列表采样吗？传递的概率可以时列表吗？返回值是列表吗？如果概率不是归一化的会怎样？\n",
    "   - 可以对列表采样，传递的概率可以是列表。\n",
    "   - 如果没有归一化，会报错\n",
    "   - 返回的是numpy对象，可以使用to_list()转换为列表.高维数组可以；\n",
    "2. np.sort(a)  可以对列表用吗？\n",
    "    - 可以，但是返回值是numpy.ndarray类型；\n",
    "3. np.expand_dims(a,axis=0) 可以对列表用吗？\n",
    "    - 可以，也可以对二维列表和series用；\n",
    "4. np.setdiff1d(a,b) 可以对列表用吗？\n",
    "    - 可以，但是返回值是numpy.ndarray类型；   \n",
    "    \n",
    "...... 不再列举"
   ]
  },
  {
   "cell_type": "code",
   "execution_count": 4,
   "metadata": {},
   "outputs": [
    {
     "name": "stdout",
     "output_type": "stream",
     "text": [
      "[1, 2, 3, 4, 5]\n",
      "<class 'numpy.ndarray'>\n",
      "[5 1 3 2]\n"
     ]
    }
   ],
   "source": [
    "import numpy as np\n",
    "a = [1,2,3,4,5]\n",
    "# a = np.array(a)\n",
    "print(a)\n",
    "prob = np.array([0.1,0.3,0.2,0.1,0.3])\n",
    "a_choice = np.random.choice(a, size=4, replace=False, p=prob)\n",
    "print(type(a_choice))\n",
    "print(a_choice)\n",
    "\n",
    "### "
   ]
  },
  {
   "cell_type": "code",
   "execution_count": 5,
   "metadata": {},
   "outputs": [
    {
     "name": "stdout",
     "output_type": "stream",
     "text": [
      "<class 'numpy.ndarray'>\n"
     ]
    }
   ],
   "source": [
    "a = [5,2,1,3,4]\n",
    "sorted_a = np.sort(a)\n",
    "print(type(sorted_a))"
   ]
  },
  {
   "cell_type": "code",
   "execution_count": 6,
   "metadata": {},
   "outputs": [
    {
     "name": "stdout",
     "output_type": "stream",
     "text": [
      "(1, 2, 3)\n"
     ]
    }
   ],
   "source": [
    "import numpy as np\n",
    "a = [[1,2,3],[4,5,6]]\n",
    "a_expanded = np.expand_dims(a,axis=0)\n",
    "print(a_expanded.shape)"
   ]
  },
  {
   "cell_type": "code",
   "execution_count": 4,
   "metadata": {},
   "outputs": [
    {
     "data": {
      "text/plain": [
       "array([3, 4, 5])"
      ]
     },
     "execution_count": 4,
     "metadata": {},
     "output_type": "execute_result"
    }
   ],
   "source": [
    "import numpy as np\n",
    "a = [1,2,3,4,5]\n",
    "b = [1,2]\n",
    "np.setdiff1d(a,b)"
   ]
  },
  {
   "cell_type": "code",
   "execution_count": null,
   "metadata": {},
   "outputs": [],
   "source": [
    "import numpy as np\n",
    "print(np.arange(10))"
   ]
  },
  {
   "cell_type": "markdown",
   "metadata": {},
   "source": [
    "### list函数可以直接对numpy数组用吗？\n",
    "- 可以"
   ]
  }
 ],
 "metadata": {
  "kernelspec": {
   "display_name": "pytorch",
   "language": "python",
   "name": "python3"
  },
  "language_info": {
   "codemirror_mode": {
    "name": "ipython",
    "version": 3
   },
   "file_extension": ".py",
   "mimetype": "text/x-python",
   "name": "python",
   "nbconvert_exporter": "python",
   "pygments_lexer": "ipython3",
   "version": "3.9.18"
  }
 },
 "nbformat": 4,
 "nbformat_minor": 2
}
