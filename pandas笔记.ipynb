{
 "cells": [
  {
   "cell_type": "markdown",
   "metadata": {},
   "source": [
    "# Pandas 应用："
   ]
  },
  {
   "cell_type": "code",
   "execution_count": 24,
   "metadata": {},
   "outputs": [
    {
     "name": "stdout",
     "output_type": "stream",
     "text": [
      "      calories  duration\n",
      "day2       380        40\n",
      "day3       390        45\n",
      "      calories  duration\n",
      "day1       100        50\n",
      "day2       200        40\n",
      "day3       300        45\n"
     ]
    }
   ],
   "source": [
    "import pandas as pd\n",
    "\n",
    "data = {\n",
    "    \"calories\": [420, 380, 390],\n",
    "    \"duration\": [50, 40, 45]\n",
    "    }\n",
    "\n",
    "df = pd.DataFrame(data, index = [\"day1\", \"day2\", \"day3\"])\n",
    "print(df[1:3])\n",
    "# print(df.loc[1:2, ['Name', 'Age']])\n",
    "df['calories'] = [100, 200, 300]\n",
    "print(df)"
   ]
  },
  {
   "cell_type": "code",
   "execution_count": 17,
   "metadata": {},
   "outputs": [],
   "source": [
    "# 为数据框增加多行/列数据：\n",
    "# 1. 使用join方法增加多列数据时，默认how='left'\n",
    "# 解决方法1：为新DataFrame设置相同的索引\n",
    "new_cols = {\n",
    "'col1': [1, 2, 3],\n",
    "'col2': [4, 5, 6]\n",
    "}\n",
    "# df = df.join(pd.DataFrame(new_cols, index=[\"day1\", \"day2\", \"day3\"]))\n",
    "df = df.join(pd.DataFrame(new_cols, index=[\"day1\", \"day2\", \"day4\"]))\n",
    "\n",
    "\n",
    "# 解决方法2：直接赋值（更简单）\n",
    "# df['col1'] = [1, 2, 3]\n",
    "# df['col2'] = [4, 5, 6]\n",
    "\n",
    "df = df.assign(col3=[7, 8, 9], col4=[10, 11, 12])\n",
    "print(df)"
   ]
  },
  {
   "cell_type": "code",
   "execution_count": 7,
   "metadata": {},
   "outputs": [
    {
     "name": "stdout",
     "output_type": "stream",
     "text": [
      "                         Team  Number Position   Age Height  Weight  \\\n",
      "Name                                                                  \n",
      "Avery Bradley  Boston Celtics     0.0       PG  25.0    6-2   180.0   \n",
      "Jae Crowder    Boston Celtics    99.0       SF  25.0    6-6   235.0   \n",
      "John Holland   Boston Celtics    30.0       SG  27.0    6-5   205.0   \n",
      "R.J. Hunter    Boston Celtics    28.0       SG  22.0    6-5   185.0   \n",
      "Jonas Jerebko  Boston Celtics     8.0       PF  29.0   6-10   231.0   \n",
      "...                       ...     ...      ...   ...    ...     ...   \n",
      "Shelvin Mack        Utah Jazz     8.0       PG  26.0    6-3   203.0   \n",
      "Raul Neto           Utah Jazz    25.0       PG  24.0    6-1   179.0   \n",
      "Tibor Pleiss        Utah Jazz    21.0        C  26.0    7-3   256.0   \n",
      "Jeff Withey         Utah Jazz    24.0        C  26.0    7-0   231.0   \n",
      "NaN                       NaN     NaN      NaN   NaN    NaN     NaN   \n",
      "\n",
      "                         College     Salary  \n",
      "Name                                         \n",
      "Avery Bradley              Texas  7730337.0  \n",
      "Jae Crowder            Marquette  6796117.0  \n",
      "John Holland   Boston University        NaN  \n",
      "R.J. Hunter        Georgia State  1148640.0  \n",
      "Jonas Jerebko                NaN  5000000.0  \n",
      "...                          ...        ...  \n",
      "Shelvin Mack              Butler  2433333.0  \n",
      "Raul Neto                    NaN   900000.0  \n",
      "Tibor Pleiss                 NaN  2900000.0  \n",
      "Jeff Withey               Kansas   947276.0  \n",
      "NaN                          NaN        NaN  \n",
      "\n",
      "[458 rows x 8 columns]\n"
     ]
    }
   ],
   "source": [
    "#读取csv/写入csv\n",
    "import pandas as pd\n",
    "df = pd.read_csv('./pandas_learning_data/nba.csv',header=0,index_col=0)\n",
    "print(df)\n",
    "df.to_csv('./pandas_learning_data/nba_new.csv')\n"
   ]
  },
  {
   "cell_type": "code",
   "execution_count": null,
   "metadata": {},
   "outputs": [],
   "source": [
    "# 数据清洗：删除空值： #DataFrame.dropna(axis=0, how=\"any\", subset=None, inplace=False)\n",
    "import pandas as pd\n",
    "df = pd.read_csv('./pandas_learning_data/property-data.csv', header=0)\n",
    "# 判断\"NUM_BEDROOMS\"列中是否存在空值\n",
    "print(df[\"NUM_BEDROOMS\"].isnull())\n",
    "# 指定空值并寻找”NUM_BEDROOMS“列中空值的行\n",
    "missing_values = [\"n/a\", \"na\", \"--\"]\n",
    "df = pd.read_csv(\"./pandas_learning_data/property-data.csv\", na_values=missing_values)\n",
    "print(df[\"NUM_BEDROOMS\"])\n",
    "print(df[\"NUM_BEDROOMS\"].isnull())\n",
    "# 删除包含空值的行\n",
    "df.dropna()\n",
    "# 删除指定列中包含空值的行\n",
    "df.dropna(subset=[\"NUM_BEDROOMS\"])\n",
    "# 修改源数据\n",
    "df.dropna(inplace=True)\n",
    "\n"
   ]
  },
  {
   "cell_type": "code",
   "execution_count": 11,
   "metadata": {},
   "outputs": [
    {
     "name": "stdout",
     "output_type": "stream",
     "text": [
      "           PID  ST_NUM     ST_NAME OWN_OCCUPIED  NUM_BEDROOMS NUM_BATH   SQ_FT\n",
      "0  100001000.0   104.0      PUTNAM            Y      3.000000        1  1000.0\n",
      "1  100002000.0   197.0   LEXINGTON            N      3.000000      1.5     NaN\n",
      "2  100003000.0     NaN   LEXINGTON            N      2.166667        1   850.0\n",
      "3  100004000.0   201.0    BERKELEY           12      1.000000      NaN   700.0\n",
      "4          NaN   203.0    BERKELEY            Y      3.000000        2  1600.0\n",
      "5  100006000.0   207.0    BERKELEY            Y      2.166667        1   800.0\n",
      "6  100007000.0     NaN  WASHINGTON          NaN      2.000000   HURLEY   950.0\n",
      "7  100008000.0   213.0     TREMONT            Y      1.000000        1     NaN\n",
      "8  100009000.0   215.0     TREMONT            Y      2.166667        2  1800.0\n"
     ]
    },
    {
     "name": "stderr",
     "output_type": "stream",
     "text": [
      "C:\\Users\\99238\\AppData\\Local\\Temp\\ipykernel_33104\\201829347.py:4: FutureWarning: A value is trying to be set on a copy of a DataFrame or Series through chained assignment using an inplace method.\n",
      "The behavior will change in pandas 3.0. This inplace method will never work because the intermediate object on which we are setting values always behaves as a copy.\n",
      "\n",
      "For example, when doing 'df[col].method(value, inplace=True)', try using 'df.method({col: value}, inplace=True)' or df[col] = df[col].method(value) instead, to perform the operation inplace on the original object.\n",
      "\n",
      "\n",
      "  df[\"NUM_BEDROOMS\"].fillna(x,inplace=True)\n"
     ]
    }
   ],
   "source": [
    "#数据清洗：用均值/中位数/众数填充空值\n",
    "df=pd.read_csv(\"./pandas_learning_data/property-data.csv\", na_values=missing_values)\n",
    "x=df[\"NUM_BEDROOMS\"].mean()\n",
    "df[\"NUM_BEDROOMS\"].fillna(x,inplace=True)\n",
    "print(df)"
   ]
  },
  {
   "cell_type": "code",
   "execution_count": 12,
   "metadata": {},
   "outputs": [
    {
     "name": "stdout",
     "output_type": "stream",
     "text": [
      "           PID  ST_NUM     ST_NAME OWN_OCCUPIED  NUM_BEDROOMS NUM_BATH   SQ_FT\n",
      "0  100001000.0   104.0      PUTNAM            Y           5.0        1  1000.0\n",
      "1  100002000.0   197.0   LEXINGTON            N           5.0      1.5     NaN\n",
      "2  100003000.0     NaN   LEXINGTON            N           5.0        1   850.0\n",
      "3  100004000.0   201.0    BERKELEY           12           1.0      NaN   700.0\n",
      "4          NaN   203.0    BERKELEY            Y           5.0        2  1600.0\n",
      "5  100006000.0   207.0    BERKELEY            Y           5.0        1   800.0\n",
      "6  100007000.0     NaN  WASHINGTON          NaN           2.0   HURLEY   950.0\n",
      "7  100008000.0   213.0     TREMONT            Y           1.0        1     NaN\n",
      "8  100009000.0   215.0     TREMONT            Y           5.0        2  1800.0\n"
     ]
    },
    {
     "name": "stderr",
     "output_type": "stream",
     "text": [
      "C:\\Users\\99238\\AppData\\Local\\Temp\\ipykernel_33104\\3109753141.py:1: FutureWarning: ChainedAssignmentError: behaviour will change in pandas 3.0!\n",
      "You are setting values through chained assignment. Currently this works in certain cases, but when using Copy-on-Write (which will become the default behaviour in pandas 3.0) this will never work to update the original DataFrame or Series, because the intermediate object on which we are setting values will behave as a copy.\n",
      "A typical example is when you are setting values in a column of a DataFrame, like:\n",
      "\n",
      "df[\"col\"][row_indexer] = value\n",
      "\n",
      "Use `df.loc[row_indexer, \"col\"] = values` instead, to perform the assignment in a single step and ensure this keeps updating the original `df`.\n",
      "\n",
      "See the caveats in the documentation: https://pandas.pydata.org/pandas-docs/stable/user_guide/indexing.html#returning-a-view-versus-a-copy\n",
      "\n",
      "  df[\"NUM_BEDROOMS\"][df[\"NUM_BEDROOMS\"] > 2] = 5\n",
      "C:\\Users\\99238\\AppData\\Local\\Temp\\ipykernel_33104\\3109753141.py:1: SettingWithCopyWarning: \n",
      "A value is trying to be set on a copy of a slice from a DataFrame\n",
      "\n",
      "See the caveats in the documentation: https://pandas.pydata.org/pandas-docs/stable/user_guide/indexing.html#returning-a-view-versus-a-copy\n",
      "  df[\"NUM_BEDROOMS\"][df[\"NUM_BEDROOMS\"] > 2] = 5\n"
     ]
    }
   ],
   "source": [
    "#要避免链式赋值\n",
    "df[\"NUM_BEDROOMS\"][df[\"NUM_BEDROOMS\"] > 2] = 5\n",
    "print(df)\n"
   ]
  },
  {
   "cell_type": "code",
   "execution_count": 5,
   "metadata": {},
   "outputs": [
    {
     "name": "stderr",
     "output_type": "stream",
     "text": [
      "C:\\Users\\99238\\AppData\\Local\\Temp\\ipykernel_16888\\1659626096.py:14: DeprecationWarning: DataFrameGroupBy.apply operated on the grouping columns. This behavior is deprecated, and in a future version of pandas the grouping columns will be excluded from the operation. Either pass `include_groups=False` to exclude the groupings or explicitly select the grouping columns after groupby to silence this warning.\n",
      "  df.groupby(\"Department\").apply(lambda x: x.sort_values(\"Salary\"))\n"
     ]
    },
    {
     "data": {
      "text/html": [
       "<div>\n",
       "<style scoped>\n",
       "    .dataframe tbody tr th:only-of-type {\n",
       "        vertical-align: middle;\n",
       "    }\n",
       "\n",
       "    .dataframe tbody tr th {\n",
       "        vertical-align: top;\n",
       "    }\n",
       "\n",
       "    .dataframe thead th {\n",
       "        text-align: right;\n",
       "    }\n",
       "</style>\n",
       "<table border=\"1\" class=\"dataframe\">\n",
       "  <thead>\n",
       "    <tr style=\"text-align: right;\">\n",
       "      <th></th>\n",
       "      <th></th>\n",
       "      <th>Department</th>\n",
       "      <th>Employee</th>\n",
       "      <th>Salary</th>\n",
       "    </tr>\n",
       "    <tr>\n",
       "      <th>Department</th>\n",
       "      <th></th>\n",
       "      <th></th>\n",
       "      <th></th>\n",
       "      <th></th>\n",
       "    </tr>\n",
       "  </thead>\n",
       "  <tbody>\n",
       "    <tr>\n",
       "      <th>Finance</th>\n",
       "      <th>1</th>\n",
       "      <td>Finance</td>\n",
       "      <td>Bob</td>\n",
       "      <td>60000</td>\n",
       "    </tr>\n",
       "    <tr>\n",
       "      <th rowspan=\"2\" valign=\"top\">HR</th>\n",
       "      <th>0</th>\n",
       "      <td>HR</td>\n",
       "      <td>Alice</td>\n",
       "      <td>50000</td>\n",
       "    </tr>\n",
       "    <tr>\n",
       "      <th>2</th>\n",
       "      <td>HR</td>\n",
       "      <td>Charlie</td>\n",
       "      <td>55000</td>\n",
       "    </tr>\n",
       "    <tr>\n",
       "      <th rowspan=\"2\" valign=\"top\">IT</th>\n",
       "      <th>3</th>\n",
       "      <td>IT</td>\n",
       "      <td>David</td>\n",
       "      <td>70000</td>\n",
       "    </tr>\n",
       "    <tr>\n",
       "      <th>4</th>\n",
       "      <td>IT</td>\n",
       "      <td>Eve</td>\n",
       "      <td>75000</td>\n",
       "    </tr>\n",
       "  </tbody>\n",
       "</table>\n",
       "</div>"
      ],
      "text/plain": [
       "             Department Employee  Salary\n",
       "Department                              \n",
       "Finance    1    Finance      Bob   60000\n",
       "HR         0         HR    Alice   50000\n",
       "           2         HR  Charlie   55000\n",
       "IT         3         IT    David   70000\n",
       "           4         IT      Eve   75000"
      ]
     },
     "execution_count": 5,
     "metadata": {},
     "output_type": "execute_result"
    }
   ],
   "source": [
    "#分组聚合\n",
    "import pandas as pd\n",
    "data={\n",
    "    'Department': ['HR', 'Finance', 'HR', 'IT', 'IT'],\n",
    "    'Employee': ['Alice', 'Bob', 'Charlie', 'David', 'Eve'],\n",
    "    'Salary': [50000, 60000, 55000, 70000, 75000]\n",
    "}\n",
    "df=pd.DataFrame(data)\n",
    "df.groupby(\"Department\").agg({\"Salary\":\"mean\"})\n",
    "# 多重聚合\n",
    "df.groupby(\"Department\").agg({\"Salary\":[\"mean\",\"sum\"]})\n",
    "\n",
    "# 分组后排序\n",
    "df.groupby(\"Department\").apply(lambda x: x.sort_values(\"Salary\"))\n",
    "# "
   ]
  },
  {
   "cell_type": "code",
   "execution_count": 4,
   "metadata": {},
   "outputs": [
    {
     "name": "stdout",
     "output_type": "stream",
     "text": [
      "   ID   Name  Age\n",
      "0   1  Alice   24\n",
      "1   2    Bob   27\n",
      "   ID     Name   Age\n",
      "0   1    Alice   NaN\n",
      "1   2      Bob   NaN\n",
      "2   3  Charlie   NaN\n",
      "0   1      NaN  24.0\n",
      "1   2      NaN  27.0\n",
      "2   4      NaN  22.0\n",
      "   ID     Name  ID  Age\n",
      "0   1    Alice   1   24\n",
      "1   2      Bob   2   27\n",
      "2   3  Charlie   4   22\n",
      "   index  ID     Name   Age\n",
      "0      0   1    Alice   NaN\n",
      "1      1   2      Bob   NaN\n",
      "2      2   3  Charlie   NaN\n",
      "3      0   1      NaN  24.0\n",
      "4      1   2      NaN  27.0\n",
      "5      2   4      NaN  22.0\n",
      "   ID     Name   Age\n",
      "0   1    Alice   NaN\n",
      "1   2      Bob   NaN\n",
      "2   3  Charlie   NaN\n",
      "3   1      NaN  24.0\n",
      "4   2      NaN  27.0\n",
      "5   4      NaN  22.0\n",
      "   ID     Name  ID_right  Age\n",
      "0   1    Alice         1   24\n",
      "1   2      Bob         2   27\n",
      "2   3  Charlie         4   22\n"
     ]
    }
   ],
   "source": [
    "# 数据框的拼接：\n",
    "import pandas as pd\n",
    "# 1. 数据库方式的拼接\n",
    "left = pd.DataFrame({'ID': [1, 2, 3], 'Name': ['Alice', 'Bob', 'Charlie']})\n",
    "right = pd.DataFrame({'ID': [1, 2, 4], 'Age': [24, 27, 22]})\n",
    "\n",
    "\n",
    "result = pd.merge(left, right, on='ID', how='inner')\n",
    "print(result)\n",
    "\n",
    "# 2. 沿轴连接\n",
    "print(pd.concat([left,right],axis=0))\n",
    "print(pd.concat([left,right],axis=1))\n",
    "#重新设置索引\n",
    "print(pd.concat([left,right],axis=0).reset_index()) #索引会变成新列\n",
    "\n",
    "print(pd.concat([left,right],axis=0).reset_index(drop=True))\n",
    "\n",
    "# 3. 索引方式的拼接\n",
    "result = left.join(right.rename(columns={'ID': 'ID_right'}), how='inner')\n",
    "print(result)\n",
    "\n",
    "\n",
    "\n"
   ]
  },
  {
   "cell_type": "code",
   "execution_count": 22,
   "metadata": {},
   "outputs": [
    {
     "name": "stdout",
     "output_type": "stream",
     "text": [
      "   A  B\n",
      "0  1  4\n",
      "1  2  5\n",
      "2  3  6    A   B\n",
      "0  1  16\n",
      "1  4  25\n",
      "2  9  36\n"
     ]
    },
    {
     "name": "stderr",
     "output_type": "stream",
     "text": [
      "C:\\Users\\99238\\AppData\\Local\\Temp\\ipykernel_21576\\3994728373.py:10: FutureWarning: DataFrame.applymap has been deprecated. Use DataFrame.map instead.\n",
      "  df.applymap(custom_function)\n"
     ]
    },
    {
     "data": {
      "text/html": [
       "<div>\n",
       "<style scoped>\n",
       "    .dataframe tbody tr th:only-of-type {\n",
       "        vertical-align: middle;\n",
       "    }\n",
       "\n",
       "    .dataframe tbody tr th {\n",
       "        vertical-align: top;\n",
       "    }\n",
       "\n",
       "    .dataframe thead th {\n",
       "        text-align: right;\n",
       "    }\n",
       "</style>\n",
       "<table border=\"1\" class=\"dataframe\">\n",
       "  <thead>\n",
       "    <tr style=\"text-align: right;\">\n",
       "      <th></th>\n",
       "      <th>A</th>\n",
       "      <th>B</th>\n",
       "    </tr>\n",
       "  </thead>\n",
       "  <tbody>\n",
       "    <tr>\n",
       "      <th>0</th>\n",
       "      <td>1</td>\n",
       "      <td>16</td>\n",
       "    </tr>\n",
       "    <tr>\n",
       "      <th>1</th>\n",
       "      <td>4</td>\n",
       "      <td>25</td>\n",
       "    </tr>\n",
       "    <tr>\n",
       "      <th>2</th>\n",
       "      <td>9</td>\n",
       "      <td>36</td>\n",
       "    </tr>\n",
       "  </tbody>\n",
       "</table>\n",
       "</div>"
      ],
      "text/plain": [
       "   A   B\n",
       "0  1  16\n",
       "1  4  25\n",
       "2  9  36"
      ]
     },
     "execution_count": 22,
     "metadata": {},
     "output_type": "execute_result"
    }
   ],
   "source": [
    "#自定义函数的应用\n",
    "import pandas as pd \n",
    "df = pd.DataFrame({'A': [1, 2, 3], 'B': [4, 5, 6]})\n",
    "\n",
    "def custom_function(x):\n",
    "    return x ** 2\n",
    "\n",
    "df1 = df.apply(custom_function)\n",
    "print(df,df1)\n",
    "df.applymap(custom_function)\n"
   ]
  },
  {
   "cell_type": "code",
   "execution_count": 3,
   "metadata": {},
   "outputs": [
    {
     "name": "stdout",
     "output_type": "stream",
     "text": [
      "               Value\n",
      "Letter Number       \n",
      "A      1          10\n",
      "       2          20\n",
      "B      1          30\n",
      "       2          40\n"
     ]
    }
   ],
   "source": [
    "import pandas as pd\n",
    "\n",
    "# 创建元组\n",
    "index_tuples = [('A', 1), ('A', 2), ('B', 1), ('B', 2)]\n",
    "\n",
    "# 创建多重索引\n",
    "multi_index = pd.MultiIndex.from_tuples(index_tuples, names=['Letter', 'Number'])\n",
    "\n",
    "# 创建 DataFrame\n",
    "df = pd.DataFrame({'Value': [10, 20, 30, 40]}, index=multi_index)\n",
    "print(df)"
   ]
  }
 ],
 "metadata": {
  "kernelspec": {
   "display_name": "pytorch",
   "language": "python",
   "name": "python3"
  },
  "language_info": {
   "codemirror_mode": {
    "name": "ipython",
    "version": 3
   },
   "file_extension": ".py",
   "mimetype": "text/x-python",
   "name": "python",
   "nbconvert_exporter": "python",
   "pygments_lexer": "ipython3",
   "version": "3.9.18"
  }
 },
 "nbformat": 4,
 "nbformat_minor": 2
}
