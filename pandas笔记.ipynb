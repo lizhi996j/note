{
 "cells": [
  {
   "cell_type": "markdown",
   "metadata": {},
   "source": [
    "# Pandas："
   ]
  },
  {
   "cell_type": "markdown",
   "metadata": {},
   "source": [
    "### Series\n",
    "- 属性：\n",
    "  - index对象\n",
    "  - name\n",
    "  - values"
   ]
  },
  {
   "cell_type": "markdown",
   "metadata": {},
   "source": [
    "#### 关于name属性"
   ]
  },
  {
   "cell_type": "code",
   "execution_count": 33,
   "metadata": {},
   "outputs": [
    {
     "name": "stdout",
     "output_type": "stream",
     "text": [
      "None\n",
      "   index  0\n",
      "0      0  1\n",
      "1      1  2\n",
      "2      2  3\n",
      "3      3  4\n",
      "4      4  5\n",
      "s1\n",
      "   index  s1\n",
      "0      0   1\n",
      "1      1   2\n",
      "2      2   3\n",
      "3      3   4\n",
      "4      4   5\n"
     ]
    }
   ],
   "source": [
    "import pandas as pd\n",
    "s =pd.Series([1,2,3,4,5])\n",
    "print(s.name)\n",
    "print(s.reset_index())\n",
    "s1 = pd.Series([1,2,3,4,5],name=\"s1\")\n",
    "print(s1.name)\n",
    "print(s1.reset_index())\n"
   ]
  },
  {
   "cell_type": "markdown",
   "metadata": {},
   "source": [
    "### 数据框属性/方法"
   ]
  },
  {
   "cell_type": "markdown",
   "metadata": {},
   "source": [
    "#### loc方法"
   ]
  },
  {
   "cell_type": "code",
   "execution_count": 2,
   "metadata": {},
   "outputs": [
    {
     "name": "stdout",
     "output_type": "stream",
     "text": [
      "      calories  duration\n",
      "day2       380        40\n",
      "day3       390        45\n",
      "修改某列的值\n",
      "      calories  duration\n",
      "day1       100        50\n",
      "day2       200        40\n",
      "day3       300        45\n",
      "用loc同时索引行和列\n",
      "50\n"
     ]
    }
   ],
   "source": [
    "import pandas as pd\n",
    "\n",
    "data = {\n",
    "    \"calories\": [420, 380, 390],\n",
    "    \"duration\": [50, 40, 45]\n",
    "    }\n",
    "\n",
    "df = pd.DataFrame(data, index = [\"day1\", \"day2\", \"day3\"])\n",
    "print(\"用行索引数据框\")\n",
    "print(df[1:3])\n",
    "# print(df.loc[1:2, ['Name', 'Age']])\n",
    "print(\"修改某列的值：\")\n",
    "df['calories'] = [100, 200, 300]\n",
    "print(df)\n",
    "print(\"用loc同时索引行和列：\")\n",
    "print(df.loc[\"day1\",\"duration\"])"
   ]
  },
  {
   "cell_type": "markdown",
   "metadata": {},
   "source": [
    "#### 筛选之后返回的数据框的index是原来的index"
   ]
  },
  {
   "cell_type": "code",
   "execution_count": 3,
   "metadata": {},
   "outputs": [
    {
     "name": "stdout",
     "output_type": "stream",
     "text": [
      "   A  B\n",
      "2  2  5\n",
      "   index  A  B\n",
      "0      2  2  5\n"
     ]
    }
   ],
   "source": [
    "import pandas as pd \n",
    "df = pd.DataFrame({'A':[0,1,2],'B':[3,4,5]})\n",
    "print(df[df[\"A\"]>1])\n",
    "print(df[df['A']>1].reset_index())"
   ]
  },
  {
   "cell_type": "markdown",
   "metadata": {},
   "source": [
    "### 增加数据框行列数据"
   ]
  },
  {
   "cell_type": "code",
   "execution_count": 17,
   "metadata": {},
   "outputs": [],
   "source": [
    "# 为数据框增加多行/列数据：\n",
    "# 1. 使用join方法增加多列数据时，默认how='left'\n",
    "# 解决方法1：为新DataFrame设置相同的索引\n",
    "new_cols = {\n",
    "'col1': [1, 2, 3],\n",
    "'col2': [4, 5, 6]\n",
    "}\n",
    "# df = df.join(pd.DataFrame(new_cols, index=[\"day1\", \"day2\", \"day3\"]))\n",
    "df = df.join(pd.DataFrame(new_cols, index=[\"day1\", \"day2\", \"day4\"]))\n",
    "\n",
    "\n",
    "# 解决方法2：直接赋值（更简单）\n",
    "# df['col1'] = [1, 2, 3]\n",
    "# df['col2'] = [4, 5, 6]\n",
    "\n",
    "df = df.assign(col3=[7, 8, 9], col4=[10, 11, 12])\n",
    "print(df)"
   ]
  },
  {
   "cell_type": "code",
   "execution_count": 7,
   "metadata": {},
   "outputs": [
    {
     "name": "stdout",
     "output_type": "stream",
     "text": [
      "                         Team  Number Position   Age Height  Weight  \\\n",
      "Name                                                                  \n",
      "Avery Bradley  Boston Celtics     0.0       PG  25.0    6-2   180.0   \n",
      "Jae Crowder    Boston Celtics    99.0       SF  25.0    6-6   235.0   \n",
      "John Holland   Boston Celtics    30.0       SG  27.0    6-5   205.0   \n",
      "R.J. Hunter    Boston Celtics    28.0       SG  22.0    6-5   185.0   \n",
      "Jonas Jerebko  Boston Celtics     8.0       PF  29.0   6-10   231.0   \n",
      "...                       ...     ...      ...   ...    ...     ...   \n",
      "Shelvin Mack        Utah Jazz     8.0       PG  26.0    6-3   203.0   \n",
      "Raul Neto           Utah Jazz    25.0       PG  24.0    6-1   179.0   \n",
      "Tibor Pleiss        Utah Jazz    21.0        C  26.0    7-3   256.0   \n",
      "Jeff Withey         Utah Jazz    24.0        C  26.0    7-0   231.0   \n",
      "NaN                       NaN     NaN      NaN   NaN    NaN     NaN   \n",
      "\n",
      "                         College     Salary  \n",
      "Name                                         \n",
      "Avery Bradley              Texas  7730337.0  \n",
      "Jae Crowder            Marquette  6796117.0  \n",
      "John Holland   Boston University        NaN  \n",
      "R.J. Hunter        Georgia State  1148640.0  \n",
      "Jonas Jerebko                NaN  5000000.0  \n",
      "...                          ...        ...  \n",
      "Shelvin Mack              Butler  2433333.0  \n",
      "Raul Neto                    NaN   900000.0  \n",
      "Tibor Pleiss                 NaN  2900000.0  \n",
      "Jeff Withey               Kansas   947276.0  \n",
      "NaN                          NaN        NaN  \n",
      "\n",
      "[458 rows x 8 columns]\n"
     ]
    }
   ],
   "source": [
    "#读取csv/写入csv\n",
    "import pandas as pd\n",
    "df = pd.read_csv('./pandas_learning_data/nba.csv',header=0,index_col=0)\n",
    "print(df)\n",
    "df.to_csv('./pandas_learning_data/nba_new.csv')\n"
   ]
  },
  {
   "cell_type": "markdown",
   "metadata": {},
   "source": [
    "### 数据清洗"
   ]
  },
  {
   "cell_type": "code",
   "execution_count": 1,
   "metadata": {},
   "outputs": [
    {
     "name": "stdout",
     "output_type": "stream",
     "text": [
      "0    False\n",
      "1    False\n",
      "2     True\n",
      "3    False\n",
      "4    False\n",
      "5     True\n",
      "6    False\n",
      "7    False\n",
      "8    False\n",
      "Name: NUM_BEDROOMS, dtype: bool\n",
      "0    3.0\n",
      "1    3.0\n",
      "2    NaN\n",
      "3    1.0\n",
      "4    3.0\n",
      "5    NaN\n",
      "6    2.0\n",
      "7    1.0\n",
      "8    NaN\n",
      "Name: NUM_BEDROOMS, dtype: float64\n",
      "0    False\n",
      "1    False\n",
      "2     True\n",
      "3    False\n",
      "4    False\n",
      "5     True\n",
      "6    False\n",
      "7    False\n",
      "8     True\n",
      "Name: NUM_BEDROOMS, dtype: bool\n",
      "           PID  ST_NUM     ST_NAME OWN_OCCUPIED  NUM_BEDROOMS NUM_BATH   SQ_FT\n",
      "0  100001000.0   104.0      PUTNAM            Y      3.000000        1  1000.0\n",
      "1  100002000.0   197.0   LEXINGTON            N      3.000000      1.5     NaN\n",
      "2  100003000.0     NaN   LEXINGTON            N      2.166667        1   850.0\n",
      "3  100004000.0   201.0    BERKELEY           12      1.000000      NaN   700.0\n",
      "4          NaN   203.0    BERKELEY            Y      3.000000        2  1600.0\n",
      "5  100006000.0   207.0    BERKELEY            Y      2.166667        1   800.0\n",
      "6  100007000.0     NaN  WASHINGTON          NaN      2.000000   HURLEY   950.0\n",
      "7  100008000.0   213.0     TREMONT            Y      1.000000        1     NaN\n",
      "8  100009000.0   215.0     TREMONT            Y      2.166667        2  1800.0\n"
     ]
    },
    {
     "name": "stderr",
     "output_type": "stream",
     "text": [
      "C:\\Users\\99238\\AppData\\Local\\Temp\\ipykernel_24864\\138594654.py:22: FutureWarning: A value is trying to be set on a copy of a DataFrame or Series through chained assignment using an inplace method.\n",
      "The behavior will change in pandas 3.0. This inplace method will never work because the intermediate object on which we are setting values always behaves as a copy.\n",
      "\n",
      "For example, when doing 'df[col].method(value, inplace=True)', try using 'df.method({col: value}, inplace=True)' or df[col] = df[col].method(value) instead, to perform the operation inplace on the original object.\n",
      "\n",
      "\n",
      "  df[\"NUM_BEDROOMS\"].fillna(x,inplace=True)\n"
     ]
    }
   ],
   "source": [
    "# 删除空值： #DataFrame.dropna(axis=0, how=\"any\", subset=None, inplace=False)\n",
    "import pandas as pd\n",
    "df = pd.read_csv('./pandas_learning_data/property-data.csv', header=0)\n",
    "# 判断\"NUM_BEDROOMS\"列中是否存在空值\n",
    "print(df[\"NUM_BEDROOMS\"].isnull())\n",
    "# 指定空值并寻找”NUM_BEDROOMS“列中空值的行\n",
    "missing_values = [\"n/a\", \"na\", \"--\"]\n",
    "df = pd.read_csv(\"./pandas_learning_data/property-data.csv\", na_values=missing_values)\n",
    "print(df[\"NUM_BEDROOMS\"])\n",
    "print(df[\"NUM_BEDROOMS\"].isnull())\n",
    "# 删除包含空值的行\n",
    "df.dropna()\n",
    "# 删除指定列中包含空值的行\n",
    "df.dropna(subset=[\"NUM_BEDROOMS\"])\n",
    "# 修改源数据\n",
    "df.dropna(inplace=True)\n",
    "\n",
    "\n",
    "#用均值/中位数/众数填充空值\n",
    "df=pd.read_csv(\"./pandas_learning_data/property-data.csv\", na_values=missing_values)\n",
    "x=df[\"NUM_BEDROOMS\"].mean()\n",
    "df[\"NUM_BEDROOMS\"].fillna(x,inplace=True)\n",
    "print(df)"
   ]
  },
  {
   "cell_type": "code",
   "execution_count": 12,
   "metadata": {},
   "outputs": [
    {
     "name": "stdout",
     "output_type": "stream",
     "text": [
      "           PID  ST_NUM     ST_NAME OWN_OCCUPIED  NUM_BEDROOMS NUM_BATH   SQ_FT\n",
      "0  100001000.0   104.0      PUTNAM            Y           5.0        1  1000.0\n",
      "1  100002000.0   197.0   LEXINGTON            N           5.0      1.5     NaN\n",
      "2  100003000.0     NaN   LEXINGTON            N           5.0        1   850.0\n",
      "3  100004000.0   201.0    BERKELEY           12           1.0      NaN   700.0\n",
      "4          NaN   203.0    BERKELEY            Y           5.0        2  1600.0\n",
      "5  100006000.0   207.0    BERKELEY            Y           5.0        1   800.0\n",
      "6  100007000.0     NaN  WASHINGTON          NaN           2.0   HURLEY   950.0\n",
      "7  100008000.0   213.0     TREMONT            Y           1.0        1     NaN\n",
      "8  100009000.0   215.0     TREMONT            Y           5.0        2  1800.0\n"
     ]
    },
    {
     "name": "stderr",
     "output_type": "stream",
     "text": [
      "C:\\Users\\99238\\AppData\\Local\\Temp\\ipykernel_33104\\3109753141.py:1: FutureWarning: ChainedAssignmentError: behaviour will change in pandas 3.0!\n",
      "You are setting values through chained assignment. Currently this works in certain cases, but when using Copy-on-Write (which will become the default behaviour in pandas 3.0) this will never work to update the original DataFrame or Series, because the intermediate object on which we are setting values will behave as a copy.\n",
      "A typical example is when you are setting values in a column of a DataFrame, like:\n",
      "\n",
      "df[\"col\"][row_indexer] = value\n",
      "\n",
      "Use `df.loc[row_indexer, \"col\"] = values` instead, to perform the assignment in a single step and ensure this keeps updating the original `df`.\n",
      "\n",
      "See the caveats in the documentation: https://pandas.pydata.org/pandas-docs/stable/user_guide/indexing.html#returning-a-view-versus-a-copy\n",
      "\n",
      "  df[\"NUM_BEDROOMS\"][df[\"NUM_BEDROOMS\"] > 2] = 5\n",
      "C:\\Users\\99238\\AppData\\Local\\Temp\\ipykernel_33104\\3109753141.py:1: SettingWithCopyWarning: \n",
      "A value is trying to be set on a copy of a slice from a DataFrame\n",
      "\n",
      "See the caveats in the documentation: https://pandas.pydata.org/pandas-docs/stable/user_guide/indexing.html#returning-a-view-versus-a-copy\n",
      "  df[\"NUM_BEDROOMS\"][df[\"NUM_BEDROOMS\"] > 2] = 5\n"
     ]
    }
   ],
   "source": [
    "#要避免链式赋值\n",
    "df[\"NUM_BEDROOMS\"][df[\"NUM_BEDROOMS\"] > 2] = 5\n",
    "print(df)\n"
   ]
  },
  {
   "cell_type": "markdown",
   "metadata": {},
   "source": [
    "### 分组聚合与排序(对分组后数据应用函数)\n",
    "- 分组后排序使用.sort_values()更方便；\n",
    "- 分组后聚合（本质上是对各组使用函数）：\n",
    "  - 操作只涉及单列且聚合值不用返回到原数据中，使用.agg()函数；\n",
    "  - 操作涉及多列，可以在.agg()中通过函数从外部引入其它列，但apply也可以；\n",
    "  - 当要返回聚合值到原数据中，使用.transform()函数；\n",
    "- 应用函数前有两种模式：\n",
    "  - 只有groupby\n",
    "  - groupby之后还选择了列\n",
    "- 可以通过迭代的方式操作groupby对象"
   ]
  },
  {
   "cell_type": "markdown",
   "metadata": {},
   "source": [
    "#### 对groupby对象使用.agg()函数,适合于只操作一列数据\n",
    "- .agg(func)中func函数接受一个Series对象，返回一个标量值，返回值的类型可以是数值类型、字符串类型、布尔类型、日期时间类型等。\n",
    "- 是否要指定列名：\n",
    "  - 如果只有groupby,则.agg()括号中需要指定列名和函数；\n",
    "  - 如果groupby之后还选择了列，则.agg()可以指定列名和函数，也可以不指定列名，直接使用函数；\n",
    "  - 如果groupby之后选择了多列，则.agg()里的函数分分别作用在两列上\n",
    "- DataFrame.groupby().agg() 操作后返回的数据框的 index 通常是 groupby 时使用的列值;当以多列为groupby依据时返回的index是多重索引"
   ]
  },
  {
   "cell_type": "code",
   "execution_count": 3,
   "metadata": {},
   "outputs": [
    {
     "name": "stdout",
     "output_type": "stream",
     "text": [
      "             Salary        \n",
      "               mean     sum\n",
      "Department                 \n",
      "Finance     60000.0   60000\n",
      "HR          52500.0  105000\n",
      "IT          72500.0  145000\n",
      "            Employee  Salary\n",
      "Department                  \n",
      "Finance        False   False\n",
      "HR             False   False\n",
      "IT             False   False\n"
     ]
    }
   ],
   "source": [
    "#分组聚合\n",
    "import pandas as pd\n",
    "data={\n",
    "    'Department': ['HR', 'Finance', 'HR', 'IT', 'IT'],\n",
    "    'Employee': ['Alice', 'Bob', 'Charlie', 'David', 'Eve'],\n",
    "    'Salary': [50000, 60000, 55000, 70000, 75000]\n",
    "}\n",
    "df=pd.DataFrame(data)\n",
    "df.groupby(\"Department\").agg({\"Salary\":\"mean\"})\n",
    "\n",
    "# 多重聚合\n",
    "print(df.groupby(\"Department\").agg({\"Salary\":[\"mean\",\"sum\"]}))\n",
    "\n",
    "# 选择多列 - 使用列表而不是元组\n",
    "print(df.groupby(\"Department\")[[\"Employee\",\"Salary\"]].agg(lambda x: x.isnull().any()))\n"
   ]
  },
  {
   "cell_type": "markdown",
   "metadata": {},
   "source": [
    "分组依据是多列情况"
   ]
  },
  {
   "cell_type": "code",
   "execution_count": null,
   "metadata": {},
   "outputs": [
    {
     "name": "stdout",
     "output_type": "stream",
     "text": [
      "                 click  rating\n",
      "user_id item_id               \n",
      "1       A            1    3.75\n",
      "        C            0    2.50\n",
      "2       B            2    4.50\n",
      "3       A            1    4.00\n",
      "                 click  rating\n",
      "user_id item_id               \n",
      "1       A            1    3.75\n",
      "        C            0    2.50\n",
      "2       B            2    4.50\n",
      "3       A            1    4.00\n"
     ]
    }
   ],
   "source": [
    "import pandas as pd\n",
    "\n",
    "# 创建一个示例 DataFrame（模拟推荐数据）\n",
    "data = {\n",
    "    'user_id': [1, 1, 2, 2, 1, 3],\n",
    "    'item_id': ['A', 'A', 'B', 'B', 'C', 'A'],\n",
    "    'click': [1, 0, 1, 1, 0, 1],\n",
    "    'rating': [4.5, 3.0, 5.0, 4.0, 2.5, 4.0]\n",
    "}\n",
    "df = pd.DataFrame(data)\n",
    "\n",
    "# 对多列进行 groupby：按 'user_id' 和 'item_id' 分组，聚合多个字段\n",
    "grouped = df.groupby(['user_id', 'item_id']).agg({\n",
    "    'click': 'sum',      # 求 click 的总和（处理可能的多记录）\n",
    "    'rating': 'mean'     # 求 rating 的平均值（平滑冲突评分）\n",
    "})\n",
    "print(grouped)\n",
    "grouped=grouped.reset_index()\n",
    "\n",
    "# 输出结果\n",
    "print(grouped)\n"
   ]
  },
  {
   "cell_type": "markdown",
   "metadata": {},
   "source": [
    "#### 对groupby对象使用apply函数 (涉及多列时可以使用apply函数)\n",
    "- 适用于**返回各个组的统计量**，如果要把各个组的统计量应用到各组成员上，适合适用transform函数；\n",
    "- 对整个groupby对象和grouby后选择列使用.apply的不同：\n",
    "  - DataFrame.groupby().apply(func) 中func的参数是整个分组（报deprecated warning:分组子dataframe的group column以后不会包含在子dataframe中）；\n",
    "  - DataFrame.groupby()[\"column1\"].apply(func)中func的参数是Series;\n",
    "- 在Series情况下，func的返回值不同最终形成的结构也不同：\n",
    "  - 如果返回的是1维的（标量，列表），.apply()最终会返回一个Series,索引是分组索引，值是返回的标量；\n",
    "  - 如果返回的是Series，会形成多级索引；\n",
    "  - 传入的函数返回一个 DataFrame（哪怕只是对一列），则 .apply() 会拼接这些 DataFrame，也会产生多级索引：\n",
    "- 在DataFrame情况下，func的返回值不同最终形成的结构也不同：\n",
    "  - 如果返回的是1维的（标量，列表），.apply()最终会返回一个DataFrame,索引是分组索引，值是返回的标量；\n"
   ]
  },
  {
   "cell_type": "code",
   "execution_count": 4,
   "metadata": {},
   "outputs": [
    {
     "name": "stdout",
     "output_type": "stream",
     "text": [
      "apply返回标量的情况：\n",
      "department\n",
      "HR       5500.0\n",
      "IT       7500.0\n",
      "Sales    5500.0\n",
      "Name: salary, dtype: float64\n",
      "\n",
      "apply返回Series的情况：\n",
      "department      \n",
      "HR          mean    5500.0\n",
      "            max     6000.0\n",
      "IT          mean    7500.0\n",
      "            max     8000.0\n",
      "Sales       mean    5500.0\n",
      "            max     5500.0\n",
      "Name: salary, dtype: float64\n",
      "\n",
      "apply返回Series的情况：\n",
      "department   \n",
      "HR          0    10000\n",
      "            1    12000\n",
      "IT          2    14000\n",
      "            3    16000\n",
      "Sales       4    11000\n",
      "Name: salary, dtype: int64\n",
      "\n",
      "apply返回DataFrame的情况：\n",
      "              double  triple\n",
      "department                  \n",
      "HR         0   10000   15000\n",
      "           1   12000   18000\n",
      "IT         0   14000   21000\n",
      "           1   16000   24000\n",
      "Sales      0   11000   16500\n",
      "\n",
      "apply返回DataFrame的情况：\n",
      "department      \n",
      "HR          mean    5500.0\n",
      "            max     6000.0\n",
      "IT          mean    7500.0\n",
      "            max     8000.0\n",
      "Sales       mean    5500.0\n",
      "            max     5500.0\n",
      "Name: salary, dtype: float64\n"
     ]
    }
   ],
   "source": [
    "# 对series进行apply\n",
    "import pandas as pd\n",
    "\n",
    "df = pd.DataFrame({\n",
    "    'department': ['HR', 'HR', 'IT', 'IT', 'Sales'],\n",
    "    'name': ['Alice', 'Bob', 'Charlie', 'David', 'Eve'],\n",
    "    'salary': [5000, 6000, 7000, 8000, 5500]\n",
    "})\n",
    "\n",
    "### apply中函数返回标量的情况：\n",
    "df1 = df.groupby(\"department\")[\"salary\"].apply(lambda x: x.mean())\n",
    "print(f\"apply返回标量的情况：\\n{df1}\")\n",
    "\n",
    "### apply中函数返回Series的情况：\n",
    "df2 = df.groupby(\"department\")[\"salary\"].apply(lambda x: pd.Series([x.mean(), x.max()], index=['mean', 'max']))\n",
    "print(f\"\\napply返回Series的情况：\\n{df2}\")\n",
    "df3 = df.groupby(\"department\")[\"salary\"].apply(lambda x: x*2)\n",
    "print(f\"\\napply返回Series的情况：\\n{df3}\")\n",
    "\n",
    "### apply中函数返回DataFrame的情况：\n",
    "def custom_summary(group):\n",
    "    double = group*2\n",
    "    triple = group*3\n",
    "    return pd.DataFrame({\n",
    "        'double': double.values,\n",
    "        'triple': triple.values\n",
    "    })\n",
    "df4 = df.groupby(\"department\")[\"salary\"].apply(custom_summary)\n",
    "print(f\"\\napply返回DataFrame的情况：\\n{df4}\")\n",
    "\n",
    "df5 = df.groupby(\"department\")[\"salary\"].apply(lambda x: pd.Series({'mean': x.mean(), 'max': x.max()}))\n",
    "print(f\"\\napply返回DataFrame的情况：\\n{df5}\")\n"
   ]
  },
  {
   "cell_type": "code",
   "execution_count": null,
   "metadata": {},
   "outputs": [
    {
     "name": "stdout",
     "output_type": "stream",
     "text": [
      "department\n",
      "HR       5500.0\n",
      "IT       7500.0\n",
      "Sales    5500.0\n",
      "dtype: float64\n"
     ]
    },
    {
     "name": "stderr",
     "output_type": "stream",
     "text": [
      "C:\\Users\\99238\\AppData\\Local\\Temp\\ipykernel_24320\\3205002708.py:10: DeprecationWarning: DataFrameGroupBy.apply operated on the grouping columns. This behavior is deprecated, and in a future version of pandas the grouping columns will be excluded from the operation. Either pass `include_groups=False` to exclude the groupings or explicitly select the grouping columns after groupby to silence this warning.\n",
      "  df1 = df.groupby(\"department\").apply(lambda x: x[\"salary\"].mean())\n"
     ]
    }
   ],
   "source": [
    "# 对dataframe使用apply\n",
    "import pandas as pd\n",
    "\n",
    "df = pd.DataFrame({\n",
    "    'department': ['HR', 'HR', 'IT', 'IT', 'Sales'],\n",
    "    'name': ['Alice', 'Bob', 'Charlie', 'David', 'Eve'],\n",
    "    'salary': [5000, 6000, 7000, 8000, 5500]\n",
    "})\n",
    "\n",
    "### apply中函数返回标量的情况：\n",
    "df1 = df.groupby(\"department\").apply(lambda x: x[\"salary\"].mean())\n",
    "print(df1)"
   ]
  },
  {
   "cell_type": "markdown",
   "metadata": {},
   "source": [
    "##### 计算每个组的统计特征\n",
    "注意如果使用.mean()那返回的是Series"
   ]
  },
  {
   "cell_type": "code",
   "execution_count": 25,
   "metadata": {},
   "outputs": [
    {
     "name": "stdout",
     "output_type": "stream",
     "text": [
      "            min_salary  max_salary  avg_salary\n",
      "department                                    \n",
      "HR              5000.0      6000.0      5500.0\n",
      "IT              7000.0      8000.0      7500.0\n",
      "Sales           5500.0      5500.0      5500.0\n",
      "department\n",
      "HR       5500.0\n",
      "IT       7500.0\n",
      "Sales    5500.0\n",
      "Name: salary, dtype: float64\n",
      "salary\n",
      "  department  salary\n",
      "0         HR  5500.0\n",
      "1         IT  7500.0\n",
      "2      Sales  5500.0\n"
     ]
    },
    {
     "name": "stderr",
     "output_type": "stream",
     "text": [
      "C:\\Users\\99238\\AppData\\Local\\Temp\\ipykernel_24320\\3052537639.py:16: DeprecationWarning: DataFrameGroupBy.apply operated on the grouping columns. This behavior is deprecated, and in a future version of pandas the grouping columns will be excluded from the operation. Either pass `include_groups=False` to exclude the groupings or explicitly select the grouping columns after groupby to silence this warning.\n",
      "  result = df.groupby('department').apply(custom_summary)\n"
     ]
    }
   ],
   "source": [
    "import pandas as pd\n",
    "\n",
    "df = pd.DataFrame({\n",
    "    'department': ['HR', 'HR', 'IT', 'IT', 'Sales'],\n",
    "    'name': ['Alice', 'Bob', 'Charlie', 'David', 'Eve'],\n",
    "    'salary': [5000, 6000, 7000, 8000, 5500]\n",
    "})\n",
    "\n",
    "def custom_summary(group):\n",
    "    return pd.Series({\n",
    "        'min_salary': group['salary'].min(),\n",
    "        'max_salary': group['salary'].max(),\n",
    "        'avg_salary': group['salary'].mean()\n",
    "    })\n",
    "\n",
    "result = df.groupby('department').apply(custom_summary)\n",
    "print(result)\n",
    "\n",
    "result2 = df.groupby(\"department\")[\"salary\"].mean()\n",
    "print(result2)\n",
    "print(result2.name)\n",
    "print(result2.reset_index())\n"
   ]
  },
  {
   "cell_type": "markdown",
   "metadata": {},
   "source": [
    "##### 增加某些行\n",
    "这个操作本质上应该用.transform,用apply会产生多重行索引"
   ]
  },
  {
   "cell_type": "code",
   "execution_count": 35,
   "metadata": {},
   "outputs": [
    {
     "name": "stdout",
     "output_type": "stream",
     "text": [
      "             department     name  salary  mean_salary\n",
      "department                                           \n",
      "HR         0         HR    Alice    5000       5500.0\n",
      "           1         HR      Bob    6000       5500.0\n",
      "IT         2         IT  Charlie    7000       7500.0\n",
      "           3         IT    David    8000       7500.0\n",
      "Sales      4      Sales      Eve    5500       5500.0\n"
     ]
    },
    {
     "name": "stderr",
     "output_type": "stream",
     "text": [
      "C:\\Users\\99238\\AppData\\Local\\Temp\\ipykernel_24320\\518952235.py:13: DeprecationWarning: DataFrameGroupBy.apply operated on the grouping columns. This behavior is deprecated, and in a future version of pandas the grouping columns will be excluded from the operation. Either pass `include_groups=False` to exclude the groupings or explicitly select the grouping columns after groupby to silence this warning.\n",
      "  result2 = df.groupby('department').apply(add_mean_salary)\n"
     ]
    },
    {
     "ename": "ValueError",
     "evalue": "cannot insert department, already exists",
     "output_type": "error",
     "traceback": [
      "\u001b[1;31m---------------------------------------------------------------------------\u001b[0m",
      "\u001b[1;31mValueError\u001b[0m                                Traceback (most recent call last)",
      "\u001b[1;32m~\\AppData\\Local\\Temp\\ipykernel_24320\\518952235.py\u001b[0m in \u001b[0;36m?\u001b[1;34m()\u001b[0m\n\u001b[1;32m---> 15\u001b[1;33m \u001b[1;32mimport\u001b[0m \u001b[0mpandas\u001b[0m \u001b[1;32mas\u001b[0m \u001b[0mpd\u001b[0m\u001b[1;33m\u001b[0m\u001b[1;33m\u001b[0m\u001b[0m\n\u001b[0m\u001b[0;32m     16\u001b[0m \u001b[1;33m\u001b[0m\u001b[0m\n\u001b[0;32m     17\u001b[0m df = pd.DataFrame({\n\u001b[0;32m     18\u001b[0m     \u001b[1;34m'department'\u001b[0m\u001b[1;33m:\u001b[0m \u001b[1;33m[\u001b[0m\u001b[1;34m'HR'\u001b[0m\u001b[1;33m,\u001b[0m \u001b[1;34m'HR'\u001b[0m\u001b[1;33m,\u001b[0m \u001b[1;34m'IT'\u001b[0m\u001b[1;33m,\u001b[0m \u001b[1;34m'IT'\u001b[0m\u001b[1;33m,\u001b[0m \u001b[1;34m'Sales'\u001b[0m\u001b[1;33m]\u001b[0m\u001b[1;33m,\u001b[0m\u001b[1;33m\u001b[0m\u001b[1;33m\u001b[0m\u001b[0m\n",
      "\u001b[1;32ma:\\program files\\anaconda3\\envs\\pytorch\\lib\\site-packages\\pandas\\core\\frame.py\u001b[0m in \u001b[0;36m?\u001b[1;34m(self, level, drop, inplace, col_level, col_fill, allow_duplicates, names)\u001b[0m\n\u001b[0;32m   6468\u001b[0m                     level_values = algorithms.take(\n\u001b[0;32m   6469\u001b[0m                         \u001b[0mlevel_values\u001b[0m\u001b[1;33m,\u001b[0m \u001b[0mlab\u001b[0m\u001b[1;33m,\u001b[0m \u001b[0mallow_fill\u001b[0m\u001b[1;33m=\u001b[0m\u001b[1;32mTrue\u001b[0m\u001b[1;33m,\u001b[0m \u001b[0mfill_value\u001b[0m\u001b[1;33m=\u001b[0m\u001b[0mlev\u001b[0m\u001b[1;33m.\u001b[0m\u001b[0m_na_value\u001b[0m\u001b[1;33m\u001b[0m\u001b[1;33m\u001b[0m\u001b[0m\n\u001b[0;32m   6470\u001b[0m                     )\n\u001b[0;32m   6471\u001b[0m \u001b[1;33m\u001b[0m\u001b[0m\n\u001b[1;32m-> 6472\u001b[1;33m                 new_obj.insert(\n\u001b[0m\u001b[0;32m   6473\u001b[0m                     \u001b[1;36m0\u001b[0m\u001b[1;33m,\u001b[0m\u001b[1;33m\u001b[0m\u001b[1;33m\u001b[0m\u001b[0m\n\u001b[0;32m   6474\u001b[0m                     \u001b[0mname\u001b[0m\u001b[1;33m,\u001b[0m\u001b[1;33m\u001b[0m\u001b[1;33m\u001b[0m\u001b[0m\n\u001b[0;32m   6475\u001b[0m                     \u001b[0mlevel_values\u001b[0m\u001b[1;33m,\u001b[0m\u001b[1;33m\u001b[0m\u001b[1;33m\u001b[0m\u001b[0m\n",
      "\u001b[1;32ma:\\program files\\anaconda3\\envs\\pytorch\\lib\\site-packages\\pandas\\core\\frame.py\u001b[0m in \u001b[0;36m?\u001b[1;34m(self, loc, column, value, allow_duplicates)\u001b[0m\n\u001b[0;32m   5154\u001b[0m                 \u001b[1;34m\"'self.flags.allows_duplicate_labels' is False.\"\u001b[0m\u001b[1;33m\u001b[0m\u001b[1;33m\u001b[0m\u001b[0m\n\u001b[0;32m   5155\u001b[0m             )\n\u001b[0;32m   5156\u001b[0m         \u001b[1;32mif\u001b[0m \u001b[1;32mnot\u001b[0m \u001b[0mallow_duplicates\u001b[0m \u001b[1;32mand\u001b[0m \u001b[0mcolumn\u001b[0m \u001b[1;32min\u001b[0m \u001b[0mself\u001b[0m\u001b[1;33m.\u001b[0m\u001b[0mcolumns\u001b[0m\u001b[1;33m:\u001b[0m\u001b[1;33m\u001b[0m\u001b[1;33m\u001b[0m\u001b[0m\n\u001b[0;32m   5157\u001b[0m             \u001b[1;31m# Should this be a different kind of error??\u001b[0m\u001b[1;33m\u001b[0m\u001b[1;33m\u001b[0m\u001b[0m\n\u001b[1;32m-> 5158\u001b[1;33m             \u001b[1;32mraise\u001b[0m \u001b[0mValueError\u001b[0m\u001b[1;33m(\u001b[0m\u001b[1;34mf\"cannot insert {column}, already exists\"\u001b[0m\u001b[1;33m)\u001b[0m\u001b[1;33m\u001b[0m\u001b[1;33m\u001b[0m\u001b[0m\n\u001b[0m\u001b[0;32m   5159\u001b[0m         \u001b[1;32mif\u001b[0m \u001b[1;32mnot\u001b[0m \u001b[0mis_integer\u001b[0m\u001b[1;33m(\u001b[0m\u001b[0mloc\u001b[0m\u001b[1;33m)\u001b[0m\u001b[1;33m:\u001b[0m\u001b[1;33m\u001b[0m\u001b[1;33m\u001b[0m\u001b[0m\n\u001b[0;32m   5160\u001b[0m             \u001b[1;32mraise\u001b[0m \u001b[0mTypeError\u001b[0m\u001b[1;33m(\u001b[0m\u001b[1;34m\"loc must be int\"\u001b[0m\u001b[1;33m)\u001b[0m\u001b[1;33m\u001b[0m\u001b[1;33m\u001b[0m\u001b[0m\n\u001b[0;32m   5161\u001b[0m         \u001b[1;31m# convert non stdlib ints to satisfy typing checks\u001b[0m\u001b[1;33m\u001b[0m\u001b[1;33m\u001b[0m\u001b[0m\n",
      "\u001b[1;31mValueError\u001b[0m: cannot insert department, already exists"
     ]
    }
   ],
   "source": [
    "import pandas as pd\n",
    "\n",
    "df = pd.DataFrame({\n",
    "    'department': ['HR', 'HR', 'IT', 'IT', 'Sales'],\n",
    "    'name': ['Alice', 'Bob', 'Charlie', 'David', 'Eve'],\n",
    "    'salary': [5000, 6000, 7000, 8000, 5500]\n",
    "})\n",
    "\n",
    "def add_mean_salary(group):\n",
    "    group['mean_salary'] = group['salary'].mean()\n",
    "    return group\n",
    "\n",
    "result2 = df.groupby('department').apply(add_mean_salary)\n",
    "print(result2)\n",
    "print(result2.reset_index())"
   ]
  },
  {
   "cell_type": "markdown",
   "metadata": {},
   "source": [
    "##### 筛选某些行\n",
    "筛选工资高于组内平均的行"
   ]
  },
  {
   "cell_type": "code",
   "execution_count": 16,
   "metadata": {},
   "outputs": [
    {
     "name": "stderr",
     "output_type": "stream",
     "text": [
      "C:\\Users\\99238\\AppData\\Local\\Temp\\ipykernel_24320\\4261440503.py:12: DeprecationWarning: DataFrameGroupBy.apply operated on the grouping columns. This behavior is deprecated, and in a future version of pandas the grouping columns will be excluded from the operation. Either pass `include_groups=False` to exclude the groupings or explicitly select the grouping columns after groupby to silence this warning.\n",
      "  df.groupby('department').apply(filter_high_salary)\n"
     ]
    },
    {
     "data": {
      "text/html": [
       "<div>\n",
       "<style scoped>\n",
       "    .dataframe tbody tr th:only-of-type {\n",
       "        vertical-align: middle;\n",
       "    }\n",
       "\n",
       "    .dataframe tbody tr th {\n",
       "        vertical-align: top;\n",
       "    }\n",
       "\n",
       "    .dataframe thead th {\n",
       "        text-align: right;\n",
       "    }\n",
       "</style>\n",
       "<table border=\"1\" class=\"dataframe\">\n",
       "  <thead>\n",
       "    <tr style=\"text-align: right;\">\n",
       "      <th></th>\n",
       "      <th></th>\n",
       "      <th>department</th>\n",
       "      <th>name</th>\n",
       "      <th>salary</th>\n",
       "    </tr>\n",
       "    <tr>\n",
       "      <th>department</th>\n",
       "      <th></th>\n",
       "      <th></th>\n",
       "      <th></th>\n",
       "      <th></th>\n",
       "    </tr>\n",
       "  </thead>\n",
       "  <tbody>\n",
       "    <tr>\n",
       "      <th>HR</th>\n",
       "      <th>1</th>\n",
       "      <td>HR</td>\n",
       "      <td>Bob</td>\n",
       "      <td>6000</td>\n",
       "    </tr>\n",
       "    <tr>\n",
       "      <th>IT</th>\n",
       "      <th>3</th>\n",
       "      <td>IT</td>\n",
       "      <td>David</td>\n",
       "      <td>8000</td>\n",
       "    </tr>\n",
       "    <tr>\n",
       "      <th>Sales</th>\n",
       "      <th>4</th>\n",
       "      <td>Sales</td>\n",
       "      <td>Eve</td>\n",
       "      <td>5500</td>\n",
       "    </tr>\n",
       "  </tbody>\n",
       "</table>\n",
       "</div>"
      ],
      "text/plain": [
       "             department   name  salary\n",
       "department                            \n",
       "HR         1         HR    Bob    6000\n",
       "IT         3         IT  David    8000\n",
       "Sales      4      Sales    Eve    5500"
      ]
     },
     "execution_count": 16,
     "metadata": {},
     "output_type": "execute_result"
    }
   ],
   "source": [
    "import pandas as pd\n",
    "\n",
    "df = pd.DataFrame({\n",
    "    'department': ['HR', 'HR', 'IT', 'IT', 'Sales'],\n",
    "    'name': ['Alice', 'Bob', 'Charlie', 'David', 'Eve'],\n",
    "    'salary': [5000, 6000, 7000, 8000, 5500]\n",
    "})\n",
    "\n",
    "def filter_high_salary(group):\n",
    "    return group[group['salary'] >= group['salary'].mean()]\n",
    "\n",
    "df.groupby('department').apply(filter_high_salary)"
   ]
  },
  {
   "cell_type": "code",
   "execution_count": 18,
   "metadata": {},
   "outputs": [
    {
     "name": "stdout",
     "output_type": "stream",
     "text": [
      "item_id\n",
      "i1        [u1, u2]\n",
      "i2    [u1, u3, u2]\n",
      "i3    [u4, u1, u3]\n",
      "Name: user_id, dtype: object\n"
     ]
    }
   ],
   "source": [
    "import pandas as pd\n",
    "\n",
    "# 创建一个示例 DataFrame\n",
    "data = {'user_id': ['u1', 'u2', 'u1', 'u3', 'u2', 'u4', 'u1', 'u3'],\n",
    "        'item_id': ['i1', 'i1', 'i2', 'i2', 'i2', 'i3', 'i3', 'i3']}\n",
    "df = pd.DataFrame(data)\n",
    "\n",
    "# 核心转换代码\n",
    "item_user_dict = df.groupby('item_id')['user_id'].apply(list)\n",
    "\n",
    "# 打印结果\n",
    "print(item_user_dict)\n"
   ]
  },
  {
   "cell_type": "markdown",
   "metadata": {},
   "source": [
    "##### 从用户交互过的物品中随机采样一部分（apply用在整个分组子数据框上，但涉及分组column如何处理的问题）"
   ]
  },
  {
   "cell_type": "code",
   "execution_count": 14,
   "metadata": {},
   "outputs": [
    {
     "name": "stdout",
     "output_type": "stream",
     "text": [
      "            item_id  click\n",
      "user_id                   \n",
      "1       1       192      1\n",
      "        10      187      1\n",
      "        4       160      1\n",
      "        9       174      0\n",
      "        5       120      1\n",
      "        2       114      0\n",
      "        3       171      1\n",
      "        13      102      0\n",
      "        23      120      1\n",
      "        11      199      1\n",
      "        6       182      1\n",
      "        16      101      1\n",
      "        0       151      1\n",
      "        21      163      1\n",
      "        18      129      1\n",
      "        19      137      0\n",
      "        8       174      1\n",
      "        22      159      0\n",
      "        14      121      1\n",
      "        17      187      0\n",
      "2       40      161      1\n",
      "        28      188      1\n",
      "        35      179      0\n",
      "        43      163      1\n",
      "        39      146      1\n",
      "        37      161      1\n",
      "        47      120      1\n",
      "        30      190      1\n",
      "        41      150      1\n",
      "        27      121      1\n",
      "        48      172      1\n",
      "        42      154      1\n",
      "        38      161      1\n",
      "        44      102      0\n",
      "        49      138      0\n",
      "        26      157      1\n",
      "        36      114      1\n",
      "        32      141      1\n",
      "        45      150      1\n",
      "        46      106      0\n",
      "    user_id  level_1  item_id  click\n",
      "0         1        1      192      1\n",
      "1         1       10      187      1\n",
      "2         1        4      160      1\n",
      "3         1        9      174      0\n",
      "4         1        5      120      1\n",
      "5         1        2      114      0\n",
      "6         1        3      171      1\n",
      "7         1       13      102      0\n",
      "8         1       23      120      1\n",
      "9         1       11      199      1\n",
      "10        1        6      182      1\n",
      "11        1       16      101      1\n",
      "12        1        0      151      1\n",
      "13        1       21      163      1\n",
      "14        1       18      129      1\n",
      "15        1       19      137      0\n",
      "16        1        8      174      1\n",
      "17        1       22      159      0\n",
      "18        1       14      121      1\n",
      "19        1       17      187      0\n",
      "20        2       40      161      1\n",
      "21        2       28      188      1\n",
      "22        2       35      179      0\n",
      "23        2       43      163      1\n",
      "24        2       39      146      1\n",
      "25        2       37      161      1\n",
      "26        2       47      120      1\n",
      "27        2       30      190      1\n",
      "28        2       41      150      1\n",
      "29        2       27      121      1\n",
      "30        2       48      172      1\n",
      "31        2       42      154      1\n",
      "32        2       38      161      1\n",
      "33        2       44      102      0\n",
      "34        2       49      138      0\n",
      "35        2       26      157      1\n",
      "36        2       36      114      1\n",
      "37        2       32      141      1\n",
      "38        2       45      150      1\n",
      "39        2       46      106      0\n"
     ]
    }
   ],
   "source": [
    "import pandas as pd\n",
    "import numpy as np\n",
    "\n",
    "# 生成样例数据：2个用户，每个有25个交互\n",
    "np.random.seed(42)  # 设置种子确保可复现\n",
    "user_ids = [1] * 25 + [2] * 25\n",
    "item_ids = np.random.randint(100, 200, size=50)  # 随机item_id\n",
    "clicks = np.random.randint(0, 2, size=50)  # 随机click (0或1)\n",
    "df = pd.DataFrame({\n",
    "    'user_id': user_ids,\n",
    "    'item_id': item_ids,\n",
    "    'click': clicks\n",
    "})\n",
    "train_df = df.groupby('user_id').apply(lambda group: group.sample(n=20),include_groups=False)\n",
    "print(train_df)\n",
    "print(train_df.reset_index())"
   ]
  },
  {
   "cell_type": "markdown",
   "metadata": {},
   "source": [
    "#### 对groupby对象适用.transform函数\n",
    "- 用于执行特定类型的组内计算，并将结果广播（broadcast）回原始数据的形状。不会形成多重行索引"
   ]
  },
  {
   "cell_type": "code",
   "execution_count": 53,
   "metadata": {},
   "outputs": [
    {
     "name": "stdout",
     "output_type": "stream",
     "text": [
      "  department     name  salary  mean_salary\n",
      "0         HR    Alice    5000       5500.0\n",
      "1         HR      Bob    6000       5500.0\n",
      "2         IT  Charlie    7000       7500.0\n",
      "3         IT    David    8000       7500.0\n",
      "4      Sales      Eve    5500       5500.0\n"
     ]
    }
   ],
   "source": [
    "import pandas as pd\n",
    "\n",
    "df = pd.DataFrame({\n",
    "    'department': ['HR', 'HR', 'IT', 'IT', 'Sales'],\n",
    "    'name': ['Alice', 'Bob', 'Charlie', 'David', 'Eve'],\n",
    "    'salary': [5000, 6000, 7000, 8000, 5500]\n",
    "})\n",
    "\n",
    "\n",
    "df['mean_salary'] = df.groupby('department')['salary'].transform('mean')\n",
    "print(df)"
   ]
  },
  {
   "cell_type": "markdown",
   "metadata": {},
   "source": [
    "### 数据框拼接"
   ]
  },
  {
   "cell_type": "markdown",
   "metadata": {},
   "source": [
    "#### pd.concat([], axis=0, ignore_index)\n",
    " 如果不适用ignore_index index在拼接后会重复"
   ]
  },
  {
   "cell_type": "code",
   "execution_count": null,
   "metadata": {},
   "outputs": [
    {
     "name": "stdout",
     "output_type": "stream",
     "text": [
      "   A   B\n",
      "0  1   2\n",
      "1  3   3\n",
      "2  4   4\n",
      "0  7  10\n",
      "1  8  11\n",
      "2  9  12\n",
      "   A   B\n",
      "0  1   2\n",
      "1  3   3\n",
      "2  4   4\n",
      "3  7  10\n",
      "4  8  11\n",
      "5  9  12\n"
     ]
    }
   ],
   "source": [
    "# 如果不适用ignore_index index在拼接后会重复\n",
    "import pandas as pd\n",
    "DataFrame1 = pd.DataFrame({\"A\":[1,3,4],\"B\":[2,3,4]})\n",
    "DataFrame2 = pd.DataFrame({\"A\":[7,8,9],\"B\":[10,11,12]})\n",
    "print(pd.concat([DataFrame1, DataFrame2], axis=0))\n",
    "print(pd.concat([DataFrame1,DataFrame2],axis=0,ignore_index=True)) \n"
   ]
  },
  {
   "cell_type": "markdown",
   "metadata": {},
   "source": []
  },
  {
   "cell_type": "code",
   "execution_count": 11,
   "metadata": {},
   "outputs": [
    {
     "name": "stdout",
     "output_type": "stream",
     "text": [
      "   ID   Name  Age\n",
      "0   1  Alice   24\n",
      "1   2    Bob   27\n",
      "沿轴拼接结果：\n",
      "axis=0的结果\n",
      "   ID     Name   Age\n",
      "0   1    Alice   NaN\n",
      "1   2      Bob   NaN\n",
      "2   3  Charlie   NaN\n",
      "0   1      NaN  24.0\n",
      "1   2      NaN  27.0\n",
      "2   4      NaN  22.0\n",
      "axis为1的结果\n",
      "   ID     Name  ID  Age\n",
      "0   1    Alice   1   24\n",
      "1   2      Bob   2   27\n",
      "2   3  Charlie   4   22\n",
      "   index  ID     Name   Age\n",
      "0      0   1    Alice   NaN\n",
      "1      1   2      Bob   NaN\n",
      "2      2   3  Charlie   NaN\n",
      "3      0   1      NaN  24.0\n",
      "4      1   2      NaN  27.0\n",
      "5      2   4      NaN  22.0\n",
      "   ID     Name   Age\n",
      "0   1    Alice   NaN\n",
      "1   2      Bob   NaN\n",
      "2   3  Charlie   NaN\n",
      "3   1      NaN  24.0\n",
      "4   2      NaN  27.0\n",
      "5   4      NaN  22.0\n",
      "join的结果\n",
      "result的结果：\n",
      "    ID     Name  ID_right  Age\n",
      "0   1    Alice         1   24\n",
      "1   2      Bob         2   27\n",
      "2   3  Charlie         4   22\n",
      "result1的结果：\n",
      "    ID   Name  ID_right  Age\n",
      "0   1  Alice         2   27\n",
      "1   2    Bob         4   22\n",
      "   ID  ID\n",
      "0   1   1\n",
      "1   2   2\n",
      "2   3   4\n",
      "   ID  Age\n",
      "0  10   24\n",
      "1  20   27\n",
      "2  30   22\n"
     ]
    },
    {
     "data": {
      "text/plain": [
       "0    10\n",
       "1    20\n",
       "2    30\n",
       "Name: ID, dtype: int64"
      ]
     },
     "execution_count": 11,
     "metadata": {},
     "output_type": "execute_result"
    }
   ],
   "source": [
    "# 数据框的拼接：\n",
    "import pandas as pd\n",
    "# 1. 数据库方式的拼接\n",
    "left = pd.DataFrame({'ID': [1, 2, 3], 'Name': ['Alice', 'Bob', 'Charlie']})\n",
    "right = pd.DataFrame({'ID': [1, 2, 4], 'Age': [24, 27, 22]})\n",
    "\n",
    "\n",
    "result = pd.merge(left, right, on='ID', how='inner')\n",
    "print(result)\n",
    "\n",
    "# 2. 沿轴连接\n",
    "print(\"沿轴拼接结果：\")\n",
    "print(\"axis=0的结果\")\n",
    "print(pd.concat([left,right],axis=0))\n",
    "print(\"axis为1的结果\")\n",
    "print(pd.concat([left,right],axis=1))\n",
    "#重新设置索引\n",
    "print(pd.concat([left,right],axis=0).reset_index()) #索引会变成新列\n",
    "\n",
    "print(pd.concat([left,right],axis=0).reset_index(drop=True))\n",
    "\n",
    "# 3. 索引方式的拼接\n",
    "print(\"join的结果\")\n",
    "result = left.join(right.rename(columns={'ID': 'ID_right'}), how='inner') #不能有两个列同名，所以重命名了。\n",
    "result1 = left.join(right.rename(columns={'ID': 'ID_right'}), how='inner', on='ID') #左侧是id右侧是索引；\n",
    "# result2 = left.join(right, how='inner') #报错\n",
    "print(f\"result的结果：\\n {result}\")\n",
    "print(f\"result1的结果：\\n {result1}\")\n",
    "\n",
    "\n",
    "#关于是否能有列名重复的df的问题：\n",
    "conflict_columns_df = pd.concat([left,right],axis=1)\n",
    "print(conflict_columns_df[\"ID\"])\n",
    "df = pd.DataFrame({\n",
    "    'ID': [1, 2, 3],\n",
    "    'ID': [10, 20, 30],     # 重复列名\n",
    "    'Age': [24, 27, 22]\n",
    "})\n",
    "print(df)\n",
    "df[\"ID\"]"
   ]
  },
  {
   "cell_type": "markdown",
   "metadata": {},
   "source": [
    "### 自定义函数的应用"
   ]
  },
  {
   "cell_type": "markdown",
   "metadata": {},
   "source": [
    "#### DataFrame.apply(function, axis=0)函数\n",
    "apply函数用在DataFrame上就是对Series用，用在Series上就是对元素用。"
   ]
  },
  {
   "cell_type": "code",
   "execution_count": 22,
   "metadata": {},
   "outputs": [
    {
     "name": "stdout",
     "output_type": "stream",
     "text": [
      "   A  B\n",
      "0  1  4\n",
      "1  2  5\n",
      "2  3  6    A   B\n",
      "0  1  16\n",
      "1  4  25\n",
      "2  9  36\n"
     ]
    },
    {
     "name": "stderr",
     "output_type": "stream",
     "text": [
      "C:\\Users\\99238\\AppData\\Local\\Temp\\ipykernel_21576\\3994728373.py:10: FutureWarning: DataFrame.applymap has been deprecated. Use DataFrame.map instead.\n",
      "  df.applymap(custom_function)\n"
     ]
    },
    {
     "data": {
      "text/html": [
       "<div>\n",
       "<style scoped>\n",
       "    .dataframe tbody tr th:only-of-type {\n",
       "        vertical-align: middle;\n",
       "    }\n",
       "\n",
       "    .dataframe tbody tr th {\n",
       "        vertical-align: top;\n",
       "    }\n",
       "\n",
       "    .dataframe thead th {\n",
       "        text-align: right;\n",
       "    }\n",
       "</style>\n",
       "<table border=\"1\" class=\"dataframe\">\n",
       "  <thead>\n",
       "    <tr style=\"text-align: right;\">\n",
       "      <th></th>\n",
       "      <th>A</th>\n",
       "      <th>B</th>\n",
       "    </tr>\n",
       "  </thead>\n",
       "  <tbody>\n",
       "    <tr>\n",
       "      <th>0</th>\n",
       "      <td>1</td>\n",
       "      <td>16</td>\n",
       "    </tr>\n",
       "    <tr>\n",
       "      <th>1</th>\n",
       "      <td>4</td>\n",
       "      <td>25</td>\n",
       "    </tr>\n",
       "    <tr>\n",
       "      <th>2</th>\n",
       "      <td>9</td>\n",
       "      <td>36</td>\n",
       "    </tr>\n",
       "  </tbody>\n",
       "</table>\n",
       "</div>"
      ],
      "text/plain": [
       "   A   B\n",
       "0  1  16\n",
       "1  4  25\n",
       "2  9  36"
      ]
     },
     "execution_count": 22,
     "metadata": {},
     "output_type": "execute_result"
    }
   ],
   "source": [
    "#自定义函数的应用\n",
    "import pandas as pd \n",
    "df = pd.DataFrame({'A': [1, 2, 3], 'B': [4, 5, 6]})\n",
    "\n",
    "def custom_function(x):\n",
    "    return x ** 2\n",
    "\n",
    "df1 = df.apply(custom_function)\n",
    "print(df,df1)\n",
    "df.applymap(custom_function)\n"
   ]
  },
  {
   "cell_type": "code",
   "execution_count": 12,
   "metadata": {},
   "outputs": [
    {
     "data": {
      "text/plain": [
       "2"
      ]
     },
     "execution_count": 12,
     "metadata": {},
     "output_type": "execute_result"
    }
   ],
   "source": [
    "import pandas as pd \n",
    "df = pd.DataFrame({'A': [1, 2, 3], 'B': [4, 5, 6]})\n",
    "df.apply(lambda x: x.max()-x.min()).loc[\"A\"]"
   ]
  },
  {
   "cell_type": "markdown",
   "metadata": {},
   "source": [
    "#### Series.map(function)  或 DataFrame.map(function)\n",
    "- 可以接受一个函数，也可以接受一个字典\n",
    "- 可以接受一个字典\n",
    "- 可以接受一个Series:将第一个Series的值做为第二个Series的索引，然后返回第二个Series的值"
   ]
  },
  {
   "cell_type": "code",
   "execution_count": 11,
   "metadata": {},
   "outputs": [
    {
     "name": "stdout",
     "output_type": "stream",
     "text": [
      "w    10.0\n",
      "x    20.0\n",
      "y    30.0\n",
      "z     NaN\n",
      "dtype: float64\n"
     ]
    }
   ],
   "source": [
    "import pandas as pd\n",
    "\n",
    "s1 = pd.Series(['a', 'b', 'c', 'd'], index=['w', 'x', 'y', 'z'])\n",
    "s2 = pd.Series([10, 20, 30], index=['a', 'b', 'c'])\n",
    "result = s1.map(s2)\n",
    "print(result)\n"
   ]
  },
  {
   "cell_type": "code",
   "execution_count": null,
   "metadata": {},
   "outputs": [
    {
     "data": {
      "text/html": [
       "<div>\n",
       "<style scoped>\n",
       "    .dataframe tbody tr th:only-of-type {\n",
       "        vertical-align: middle;\n",
       "    }\n",
       "\n",
       "    .dataframe tbody tr th {\n",
       "        vertical-align: top;\n",
       "    }\n",
       "\n",
       "    .dataframe thead th {\n",
       "        text-align: right;\n",
       "    }\n",
       "</style>\n",
       "<table border=\"1\" class=\"dataframe\">\n",
       "  <thead>\n",
       "    <tr style=\"text-align: right;\">\n",
       "      <th></th>\n",
       "      <th>A</th>\n",
       "      <th>B</th>\n",
       "    </tr>\n",
       "  </thead>\n",
       "  <tbody>\n",
       "    <tr>\n",
       "      <th>0</th>\n",
       "      <td>10</td>\n",
       "      <td>40</td>\n",
       "    </tr>\n",
       "    <tr>\n",
       "      <th>1</th>\n",
       "      <td>20</td>\n",
       "      <td>50</td>\n",
       "    </tr>\n",
       "    <tr>\n",
       "      <th>2</th>\n",
       "      <td>30</td>\n",
       "      <td>60</td>\n",
       "    </tr>\n",
       "  </tbody>\n",
       "</table>\n",
       "</div>"
      ],
      "text/plain": [
       "    A   B\n",
       "0  10  40\n",
       "1  20  50\n",
       "2  30  60"
      ]
     },
     "execution_count": 1,
     "metadata": {},
     "output_type": "execute_result"
    }
   ],
   "source": [
    "import pandas as pd \n",
    "dataframe = pd.DataFrame({\"A\":[1,2,3],\"B\":[4,5,6]})\n",
    "dataframe.map(lambda x: x*10)"
   ]
  },
  {
   "cell_type": "markdown",
   "metadata": {},
   "source": [
    "### 多重索引"
   ]
  },
  {
   "cell_type": "code",
   "execution_count": 3,
   "metadata": {},
   "outputs": [
    {
     "name": "stdout",
     "output_type": "stream",
     "text": [
      "               Value\n",
      "Letter Number       \n",
      "A      1          10\n",
      "       2          20\n",
      "B      1          30\n",
      "       2          40\n"
     ]
    }
   ],
   "source": [
    "import pandas as pd\n",
    "\n",
    "# 创建元组\n",
    "index_tuples = [('A', 1), ('A', 2), ('B', 1), ('B', 2)]\n",
    "\n",
    "# 创建多重索引\n",
    "multi_index = pd.MultiIndex.from_tuples(index_tuples, names=['Letter', 'Number'])\n",
    "\n",
    "# 创建 DataFrame\n",
    "df = pd.DataFrame({'Value': [10, 20, 30, 40]}, index=multi_index)\n",
    "print(df)"
   ]
  },
  {
   "cell_type": "code",
   "execution_count": 34,
   "metadata": {},
   "outputs": [
    {
     "name": "stdout",
     "output_type": "stream",
     "text": [
      "Value    10\n",
      "Name: (A, 1), dtype: int64\n"
     ]
    }
   ],
   "source": [
    "import pandas as pd\n",
    "\n",
    "# 示例数据\n",
    "data = {\n",
    "    'Letter': ['A', 'A', 'B', 'B'],\n",
    "    'Number': [1, 2, 1, 2],\n",
    "    'Value': [10, 20, 30, 40]\n",
    "}\n",
    "\n",
    "df = pd.DataFrame(data)\n",
    "\n",
    "# 设置多重索引\n",
    "df.set_index(['Letter', 'Number'], inplace=True)\n",
    "\n",
    "# 选择 'A' 类别，所有 'Number' 为 1 的数据\n",
    "print(df.loc['A', 1])"
   ]
  },
  {
   "cell_type": "markdown",
   "metadata": {},
   "source": [
    "### 存储数据框的文件格式\n",
    "- excel\n",
    "- csv\n",
    "- feather"
   ]
  },
  {
   "cell_type": "markdown",
   "metadata": {},
   "source": [
    "### 基础应用:\n",
    "知道基础知识后最重要的点就是：\n",
    "- unique\n",
    "- 计数\n",
    "- 排序与筛选（sort, select)\n",
    "- 采样\n",
    "- 向量操作（对行列的整体操作）\n",
    "- 自定义函数的应用\n",
    "- 与其它数据类型转化"
   ]
  },
  {
   "cell_type": "markdown",
   "metadata": {},
   "source": [
    "####  Unique\n",
    "- Series.unique()和Series.nunique()的用法\n",
    "    - pandas的unique()不支持return_counts等参数；"
   ]
  },
  {
   "cell_type": "markdown",
   "metadata": {},
   "source": [
    "##### Series.unique()和Series.nunique()的用法"
   ]
  },
  {
   "cell_type": "code",
   "execution_count": null,
   "metadata": {},
   "outputs": [
    {
     "name": "stdout",
     "output_type": "stream",
     "text": [
      "<class 'numpy.ndarray'>\n",
      "[1 2 3]\n",
      "3\n"
     ]
    }
   ],
   "source": [
    "# Series.unique()和Series.nunique()的用法\n",
    "import pandas as pd\n",
    "import numpy as np\n",
    "\n",
    "# 创建示例数据框\n",
    "df = pd.DataFrame({\n",
    "    'A': [1, 2, 2, 3, 1],\n",
    "    'B': ['a', 'b', 'b', 'c', 'a']\n",
    "})\n",
    "\n",
    "# 使用unique()方法获取唯一值\n",
    "unique_values = df['A'].unique()\n",
    "print(type(unique_values))\n",
    "print(unique_values) #注意numpy数组输出时各元素之间没有逗号\n",
    "\n",
    "# 使用nunique()方法获取唯一值的计数\n",
    "unique_counts = df['A'].nunique()\n",
    "print(unique_counts)"
   ]
  },
  {
   "cell_type": "markdown",
   "metadata": {},
   "source": [
    "#### Series.value_counts()的用法: 统计Series中每个值出现的次数\n",
    "Series.value_counts(\n",
    "    normalize=False,\n",
    "    sort=True,\n",
    "    ascending=False,\n",
    "    bins=None,\n",
    "    dropna=True\n",
    ")\n",
    "返回的是Series，索引是值，值是出现的次数"
   ]
  },
  {
   "cell_type": "code",
   "execution_count": 1,
   "metadata": {},
   "outputs": [
    {
     "name": "stdout",
     "output_type": "stream",
     "text": [
      "apple     3\n",
      "banana    2\n",
      "orange    1\n",
      "Name: count, dtype: int64\n",
      "    value  count\n",
      "0   apple      3\n",
      "1  banana      2\n",
      "2  orange      1\n"
     ]
    }
   ],
   "source": [
    "import pandas as pd\n",
    "\n",
    "s = pd.Series(['apple', 'banana', 'apple', 'orange', 'banana', 'apple'])\n",
    "\n",
    "counts = s.value_counts()\n",
    "print(counts)\n",
    "print(counts.reset_index().rename(columns={'index':'value','value':'count'}))\n"
   ]
  },
  {
   "cell_type": "markdown",
   "metadata": {},
   "source": [
    "#### DataFrame.sort_values(by,ascending=True)与sorted(iterable,key=None, reverse=False)的用法\n",
    "- ascending=True 表示升序, reverse=False 表示升序"
   ]
  },
  {
   "cell_type": "code",
   "execution_count": null,
   "metadata": {},
   "outputs": [],
   "source": []
  },
  {
   "cell_type": "markdown",
   "metadata": {},
   "source": [
    "#### DataFrame.sample(n=None, frac=None, replace=False, weights=None, random_state=None, axis=None)  \n",
    "- n：要抽取的样本数量（整数）。\n",
    "- frac：要抽取的比例（0~1 之间的小数），和 n 不能同时指定。\n",
    "- replace：是否放回抽样，默认为 False（不放回）。\n",
    "- weights：权重，可以是列名或列表，用于按概率抽样。\n",
    "- random_state：随机种子，设置后可复现结果。\n",
    "- axis：默认是 axis=0（按行抽样），设为 1 可按列抽样。"
   ]
  },
  {
   "cell_type": "markdown",
   "metadata": {},
   "source": [
    "#### df.iterrows()的用法：返回一个迭代器，每次迭代返回行的索引和行的数据，用来将DataFrame的每一行转成series,series的index是每列的列名"
   ]
  },
  {
   "cell_type": "code",
   "execution_count": null,
   "metadata": {},
   "outputs": [],
   "source": [
    "import pandas as pd\n",
    "\n",
    "# 创建一个示例DataFrame\n",
    "data = {\n",
    "    '姓名': ['张三', '李四', '王五'],\n",
    "    '年龄': [25, 30, 35],\n",
    "    '城市': ['北京', '上海', '广州']\n",
    "}\n",
    "df = pd.DataFrame(data)\n",
    "\n",
    "print(\"原始DataFrame:\")\n",
    "print(df)\n",
    "print(\"\\n使用iterrows()遍历:\")\n",
    "# 使用iterrows()遍历DataFrame\n",
    "for index, row in df.iterrows():\n",
    "    print(f\"\\n索引: {index}\")\n",
    "    print(f\"姓名: {row['姓名']}\")\n",
    "    print(f\"年龄: {row['年龄']}\")\n",
    "    print(f\"城市: {row['城市']}\")"
   ]
  },
  {
   "cell_type": "markdown",
   "metadata": {},
   "source": []
  },
  {
   "cell_type": "markdown",
   "metadata": {},
   "source": [
    "#### DataFrame.items()和Series.items()的用法；\n",
    "- 对DataFrame用.items()返回的是列名和列的Series；\n",
    "- 对Series用.items()返回的是索引和值；"
   ]
  },
  {
   "cell_type": "code",
   "execution_count": 1,
   "metadata": {},
   "outputs": [
    {
     "name": "stdout",
     "output_type": "stream",
     "text": [
      "A\n",
      "B\n",
      "The name of the column is A\n",
      "The type of the column is <class 'pandas.core.series.Series'>\n",
      "The value of the column is \n",
      "0    1\n",
      "1    2\n",
      "2    3\n",
      "Name: A, dtype: int64\n",
      "\n",
      "The name of the column is B\n",
      "The type of the column is <class 'pandas.core.series.Series'>\n",
      "The value of the column is \n",
      "0    4\n",
      "1    5\n",
      "2    6\n",
      "Name: B, dtype: int64\n",
      "\n",
      "The name of the column is 0\n",
      "The type of the column is <class 'int'>\n",
      "The value of the column is \n",
      "1\n",
      "\n",
      "The name of the column is 1\n",
      "The type of the column is <class 'int'>\n",
      "The value of the column is \n",
      "2\n",
      "\n",
      "The name of the column is 2\n",
      "The type of the column is <class 'int'>\n",
      "The value of the column is \n",
      "3\n",
      "\n"
     ]
    }
   ],
   "source": [
    "import pandas as pd \n",
    "df = pd.DataFrame({'A': [1, 2, 3], 'B': [4, 5, 6]})\n",
    "for col in df.columns:\n",
    "    print(col)\n",
    "for name, value in df.items():\n",
    "    print(f\"The name of the column is {name}\")\n",
    "    print(f\"The type of the column is {type(value)}\")\n",
    "    print(f\"The value of the column is \\n{value}\\n\")\n",
    "for name, value in df[\"A\"].items():\n",
    "    print(f\"The name of the column is {name}\")\n",
    "    print(f\"The type of the column is {type(value)}\")\n",
    "    print(f\"The value of the column is \\n{value}\\n\")\n"
   ]
  },
  {
   "cell_type": "code",
   "execution_count": null,
   "metadata": {},
   "outputs": [
    {
     "name": "stdout",
     "output_type": "stream",
     "text": [
      "<class 'float'>\n",
      "1.0\n",
      "<class 'float'>\n",
      "2.0\n",
      "<class 'float'>\n",
      "3.0\n",
      "<class 'float'>\n",
      "4.0\n",
      "<class 'float'>\n",
      "5.0\n"
     ]
    }
   ],
   "source": [
    "import pandas as pd\n",
    "df = pd.Series([1,2,3,4,5],dtype='float64')\n",
    "for value in df:\n",
    "    print(type(value))\n",
    "    print(value)"
   ]
  },
  {
   "cell_type": "markdown",
   "metadata": {},
   "source": [
    "#### Series.isin(values)或DataFrame.isin(values)  \n",
    "values：要检查的值，可以是以下类型：\n",
    "- 列表：例如 [1, 2, 3]。\n",
    "- Series：\n",
    "- 字典：字典中的键为列名，值为要检查的列表或集合。\n",
    "- DataFrame：  \n",
    "\n",
    "返回一个布尔型的 Series 或 DataFrame，表示每个元素是否在给定的集合中。\n"
   ]
  },
  {
   "cell_type": "markdown",
   "metadata": {},
   "source": [
    "##### value是列表情况："
   ]
  },
  {
   "cell_type": "code",
   "execution_count": null,
   "metadata": {},
   "outputs": [
    {
     "name": "stdout",
     "output_type": "stream",
     "text": [
      "0     True\n",
      "1    False\n",
      "2    False\n",
      "3     True\n",
      "4     True\n",
      "dtype: bool\n"
     ]
    }
   ],
   "source": [
    "import pandas as pd\n",
    "series = pd.Series([1, 2, 3, 4, 5])\n",
    "result = series.isin([1, 4, 5])\n",
    "print(result)"
   ]
  },
  {
   "cell_type": "markdown",
   "metadata": {},
   "source": [
    "##### value是Series是情况："
   ]
  },
  {
   "cell_type": "code",
   "execution_count": null,
   "metadata": {},
   "outputs": [
    {
     "name": "stdout",
     "output_type": "stream",
     "text": [
      "0     True\n",
      "1    False\n",
      "2    False\n",
      "3     True\n",
      "4     True\n",
      "dtype: bool\n"
     ]
    }
   ],
   "source": [
    "import pandas as pd\n",
    "query_series = pd.Series([1, 2, 3, 4, 5])\n",
    "target_series = pd.Series([1, 4, 5])\n",
    "result = query_series.isin(target_series)\n",
    "print(result)"
   ]
  },
  {
   "cell_type": "markdown",
   "metadata": {},
   "source": [
    "##### value是字典情况：\n",
    "可以结合any和all方法，来对多列进行判断"
   ]
  },
  {
   "cell_type": "code",
   "execution_count": null,
   "metadata": {},
   "outputs": [
    {
     "name": "stdout",
     "output_type": "stream",
     "text": [
      "       A      B\n",
      "0   True  False\n",
      "1  False   True\n",
      "2   True  False\n",
      "3  False   True\n",
      "   A  B\n",
      "0  1  5\n",
      "1  2  6\n",
      "2  3  7\n",
      "3  4  8\n",
      "Empty DataFrame\n",
      "Columns: [A, B]\n",
      "Index: []\n"
     ]
    }
   ],
   "source": [
    "import pandas as pd\n",
    "\n",
    "df = pd.DataFrame({\n",
    "    'A': [1, 2, 3, 4],\n",
    "    'B': [5, 6, 7, 8]\n",
    "})\n",
    "\n",
    "check_dict = {'A': [1, 3], 'B': [6, 8]}\n",
    "result = df.isin(check_dict)\n",
    "print(result)\n",
    "\n",
    "# 取或者A在或者B在的行\n",
    "print(df[result.any(axis=1)])\n",
    "\n",
    "# 取A在且B也在的行\n",
    "print(df[result.all(axis=1)])\n"
   ]
  },
  {
   "cell_type": "markdown",
   "metadata": {},
   "source": [
    "##### value是DataFrame情况：\n",
    "- 没有匹配的列时只能返回False"
   ]
  },
  {
   "cell_type": "code",
   "execution_count": null,
   "metadata": {},
   "outputs": [
    {
     "name": "stdout",
     "output_type": "stream",
     "text": [
      "       A      B      C\n",
      "0   True  False  False\n",
      "1  False  False  False\n",
      "2  False  False  False\n",
      "3  False  False  False\n"
     ]
    }
   ],
   "source": [
    "import pandas as pd\n",
    "\n",
    "# 创建两个 DataFrame\n",
    "df1 = pd.DataFrame({\n",
    "    'A': [1, 2, 3, 4],\n",
    "    'B': [5, 6, 7, 8],\n",
    "    'C': [9, 10, 11, 12]\n",
    "})\n",
    "\n",
    "df2 = pd.DataFrame({\n",
    "    'A': [1, 3, 5],\n",
    "    'B': [6, 7, 9]\n",
    "})\n",
    "\n",
    "result = df1.isin(df2)\n",
    "print(result)"
   ]
  },
  {
   "cell_type": "markdown",
   "metadata": {},
   "source": [
    "#### 改变DataFrame列或Series的类型\n",
    "用.astype()方法,不能直接用int(Series)"
   ]
  },
  {
   "cell_type": "code",
   "execution_count": null,
   "metadata": {},
   "outputs": [
    {
     "name": "stdout",
     "output_type": "stream",
     "text": [
      "   A    B\n",
      "0  0  0.1\n",
      "1  0  0.3\n",
      "2  0  0.5\n",
      "3  1  0.7\n",
      "4  1  0.9\n"
     ]
    }
   ],
   "source": [
    "import pandas as pd\n",
    "import numpy as np\n",
    "a = np.arange(0,1,0.1).reshape(5,2)\n",
    "df =pd.DataFrame(a,columns = [\"A\",\"B\"])\n",
    "df[\"A\"] = (df[\"A\"]>0.5).astype(int)\n",
    "print(df)"
   ]
  },
  {
   "cell_type": "code",
   "execution_count": 6,
   "metadata": {},
   "outputs": [
    {
     "name": "stdout",
     "output_type": "stream",
     "text": [
      "2.2.2\n"
     ]
    }
   ],
   "source": [
    "import pandas as pd\n",
    "print(pd.__version__)"
   ]
  },
  {
   "cell_type": "markdown",
   "metadata": {},
   "source": [
    "#### groupby是迭代器\n",
    "下面的例子：\n",
    "1. 使用groupby对象返回某连锁店各分店销售数据\n",
    "2. 返回各分店不同产品销售数据\n",
    "\n",
    "注意for返回的已经是数据框了；"
   ]
  },
  {
   "cell_type": "code",
   "execution_count": 5,
   "metadata": {},
   "outputs": [
    {
     "name": "stdout",
     "output_type": "stream",
     "text": [
      "Store A, Product Gadget: Total Sales = $7450\n",
      "Store A, Product Widget: Total Sales = $7150\n",
      "  Peak sales date: 2023-04-06\n",
      "  Average sales: $357.50\n",
      "  Sales variance: 22538.16\n",
      "Store B, Product Gadget: Total Sales = $7230\n",
      "Store B, Product Widget: Total Sales = $7530\n",
      "Store C, Product Widget: Total Sales = $7370\n"
     ]
    },
    {
     "data": {
      "image/png": "[encoded data removed]",
      "text/plain": [
       "<Figure size 1200x800 with 1 Axes>"
      ]
     },
     "metadata": {},
     "output_type": "display_data"
    }
   ],
   "source": [
    "import pandas as pd\n",
    "import matplotlib.pyplot as plt\n",
    "\n",
    "# 创建一个包含销售数据的DataFrame\n",
    "sales_data = pd.DataFrame({\n",
    "    'date': pd.date_range(start='2023-01-01', periods=100),\n",
    "    'store': ['A', 'B', 'C', 'A', 'B'] * 20,\n",
    "    'product': ['Widget', 'Gadget', 'Widget', 'Gadget', 'Widget'] * 20,\n",
    "    'sales': [100 + i * 5 + (i % 3) * 20 for i in range(100)]\n",
    "})\n",
    "\n",
    "# 按store分组\n",
    "store_groups = sales_data.groupby('store')\n",
    "\n",
    "# 迭代每个组，为每个商店创建单独的销售时间序列图\n",
    "plt.figure(figsize=(12, 8))\n",
    "\n",
    "# 使用groupby对象作为迭代器\n",
    "for store_name, store_data in store_groups:\n",
    "    # 处理每个商店的数据\n",
    "    store_data = store_data.sort_values('date')\n",
    "    \n",
    "    # 为每个商店绘制销售趋势线\n",
    "    plt.plot(store_data['date'], store_data['sales'], \n",
    "             label=f'Store {store_name}', \n",
    "             marker='o' if store_name == 'A' else None)\n",
    "    \n",
    "    # 我们可以对每个组执行独特的操作\n",
    "    if store_name == 'A':\n",
    "        # 为商店A添加移动平均线\n",
    "        plt.plot(store_data['date'], \n",
    "                 store_data['sales'].rolling(window=5).mean(),\n",
    "                 linestyle='--', \n",
    "                 label=f'Store {store_name} (5-day MA)')\n",
    "\n",
    "plt.title('Sales by Store')\n",
    "plt.xlabel('Date')\n",
    "plt.ylabel('Sales Amount')\n",
    "plt.legend()\n",
    "plt.grid(True)\n",
    "# plt.show()  # 实际使用时取消注释\n",
    "\n",
    "# 迭代store和product的组合分组\n",
    "for (store, product), group_data in sales_data.groupby(['store', 'product']):\n",
    "    # 计算每个商店-产品组合的总销售额\n",
    "    total_sales = group_data['sales'].sum()\n",
    "    print(f\"Store {store}, Product {product}: Total Sales = ${total_sales}\")\n",
    "    \n",
    "    # 只对特定组合执行详细分析\n",
    "    if store == 'A' and product == 'Widget':\n",
    "        print(f\"  Peak sales date: {group_data.loc[group_data['sales'].idxmax()]['date'].strftime('%Y-%m-%d')}\")\n",
    "        print(f\"  Average sales: ${group_data['sales'].mean():.2f}\")\n",
    "        print(f\"  Sales variance: {group_data['sales'].var():.2f}\")"
   ]
  },
  {
   "cell_type": "markdown",
   "metadata": {},
   "source": [
    "#### 聚合之后再选择特定列\n",
    "注意groupby之后的数据类型是DataFrameGroupBy，不能直接使用列名选择列(df.groupby('group')['value1'])."
   ]
  },
  {
   "cell_type": "code",
   "execution_count": 1,
   "metadata": {},
   "outputs": [
    {
     "name": "stdout",
     "output_type": "stream",
     "text": [
      "group\n",
      "A    1.5\n",
      "B    3.5\n",
      "Name: value1, dtype: float64\n",
      "       value1  value2\n",
      "group                \n",
      "A         1.5    15.0\n",
      "B         3.5    35.0\n",
      "<pandas.core.groupby.generic.SeriesGroupBy object at 0x000001683F45CA90>\n"
     ]
    }
   ],
   "source": [
    "# 聚合之后再选择特定列\n",
    "import pandas as pd\n",
    "\n",
    "# 创建示例数据\n",
    "df = pd.DataFrame({\n",
    "    'group': ['A', 'A', 'B', 'B'],\n",
    "    'value1': [1, 2, 3, 4],\n",
    "    'value2': [10, 20, 30, 40]\n",
    "})\n",
    "\n",
    "# 对特定列进行聚合\n",
    "print(df.groupby('group')['value1'].mean())\n",
    "# 输出:\n",
    "# group\n",
    "# A    1.5\n",
    "# B    3.5\n",
    "# Name: value1, dtype: float64\n",
    "\n",
    "# 对多列进行聚合\n",
    "print(df.groupby('group')[['value1', 'value2']].mean())\n",
    "# 输出:\n",
    "#        value1  value2\n",
    "# group               \n",
    "# A        1.5    15.0\n",
    "# B        3.5    35.0\n",
    "\n",
    "# 只有列名\n",
    "print(df.groupby('group')['value1']) #只返回了.groupby对象。"
   ]
  },
  {
   "cell_type": "markdown",
   "metadata": {},
   "source": [
    "#### 求最大，最小，平均和众数 注意mode返回的是Series，max，min，mean返回的是整数或浮点数"
   ]
  },
  {
   "cell_type": "code",
   "execution_count": 5,
   "metadata": {},
   "outputs": [
    {
     "name": "stdout",
     "output_type": "stream",
     "text": [
      "0    2\n",
      "Name: A, dtype: int64\n",
      "   A\n",
      "0  2\n",
      "<class 'pandas.core.series.Series'>\n",
      "最大值：\n",
      "3\n",
      "<class 'int'>\n",
      "1\n",
      "<class 'int'>\n",
      "1.8333333333333333\n",
      "<class 'numpy.float64'>\n"
     ]
    }
   ],
   "source": [
    "# 求最大，最小，平均和众数 注意mode返回的是Series，max，min，mean返回的是整数或浮点数\n",
    "df = pd.DataFrame({\n",
    "    'A': [1, 1, 2, 2, 2, 3],\n",
    "    'B': ['a', 'a', 'b', 'b', 'c', 'c'],\n",
    "    'C': [1, 1, 1, 2, 2, 2],\n",
    "    'D': [1, 2, 3, 4, 5, 6]  # 没有众数\n",
    "})\n",
    "print(df[\"A\"].mode())\n",
    "print(df[\"A\"].mode().to_frame())\n",
    "print(type(df[\"A\"].mode()))\n",
    "print(\"最大值：\")\n",
    "print(df['A'].max())\n",
    "print(type(df['A'].max()))\n",
    "print(df['A'].min())\n",
    "print(type(df['A'].min()))\n",
    "print(df['A'].mean())\n",
    "print(type(df['A'].mean()))"
   ]
  },
  {
   "cell_type": "markdown",
   "metadata": {},
   "source": [
    "#### 找出重复行以及去除重复行精讲\n",
    "- 找出重复行\n",
    "DataFrame.duplicated(subset=None, keep='first')  \n",
    "\n",
    "| 参数 | 类型 | 默认值 | 说明 |\n",
    "|------|------|--------|------|\n",
    "| subset | label 或 list-like | None | 用于判断重复的列名，默认为 None，表示使用所有列来判断重复。 |\n",
    "| keep | 'first', 'last', False | 'first' | 指定哪个重复值不被标记为重复：'first'保留第一次出现的为非重复，'last'保留最后一次出现的，False所有重复值都标记为True |\n",
    "\n",
    "- 去除重复行：  \n",
    "DataFrame.drop_duplicates(subset=None, keep='first', inplace=False, ignore_index=False)  \n",
    "\n",
    "| 参数 | 类型 | 默认值 | 说明 |\n",
    "|------|------|--------|------|\n",
    "| subset | label 或 list-like | None | 指定用于判断重复的列。如果为 None，表示使用全部列。 |\n",
    "| keep | 'first', 'last', False | 'first' | 重复值保留策略：'first'保留第一次出现的记录，'last'保留最后一次出现的记录，False删除所有重复记录 |\n",
    "| inplace | bool | False | 是否在原地修改 DataFrame。为 True 时不会返回新的对象，而是直接修改原始数据。 |\n",
    "| ignore_index | bool | False | 是否重置索引。为 True 时，返回的 DataFrame 索引将被重置为默认递增整数索引。 |\n",
    "\n",
    "\n",
    "\n",
    "\n",
    "\n",
    "\n",
    "\n",
    "\n"
   ]
  },
  {
   "cell_type": "code",
   "execution_count": 1,
   "metadata": {},
   "outputs": [
    {
     "data": {
      "text/plain": [
       "0    False\n",
       "1    False\n",
       "2     True\n",
       "3     True\n",
       "4    False\n",
       "dtype: bool"
      ]
     },
     "execution_count": 1,
     "metadata": {},
     "output_type": "execute_result"
    }
   ],
   "source": [
    "import pandas as pd\n",
    "\n",
    "df = pd.DataFrame({\n",
    "    'name': ['Alice', 'Bob', 'Alice', 'Bob', 'Charlie'],\n",
    "    'age': [25, 30, 25, 30, 35]\n",
    "})\n",
    "df.duplicated(subset='name')"
   ]
  },
  {
   "cell_type": "markdown",
   "metadata": {},
   "source": [
    "#### Series.str.split"
   ]
  },
  {
   "cell_type": "code",
   "execution_count": 2,
   "metadata": {},
   "outputs": [
    {
     "name": "stdout",
     "output_type": "stream",
     "text": [
      "基本分割:\n",
      "<class 'pandas.core.series.Series'>\n",
      "0    [a, b, c]\n",
      "1    [x, y, z]\n",
      "2    [p, q, r]\n",
      "dtype: object\n",
      "\n",
      "分割并展开:\n",
      "   0  1  2\n",
      "0  a  b  c\n",
      "1  x  y  z\n",
      "2  p  q  r\n",
      "\n",
      "限制分割次数:\n",
      "   0    1\n",
      "0  a  b,c\n",
      "1  x  y,z\n",
      "2  p  q,r\n",
      "\n",
      "DataFrame列分割:\n",
      "      0      1\n",
      "0  john    doe\n",
      "1  jane    doe\n",
      "2   jim  smith\n",
      "\n",
      "正则表达式分割:\n",
      "0    [a, b, c]\n",
      "1    [x, y, z]\n",
      "2    [p, q, r]\n",
      "dtype: object\n"
     ]
    }
   ],
   "source": [
    "import pandas as pd\n",
    "\n",
    "# 创建示例数据\n",
    "s = pd.Series(['a,b,c', 'x,y,z', 'p,q,r'])\n",
    "df = pd.DataFrame({\n",
    "    'col1': ['a,b,c', 'x,y,z', 'p,q,r'],\n",
    "    'col2': ['john_doe', 'jane_doe', 'jim_smith']\n",
    "})\n",
    "\n",
    "# 1. 基本分割 - 返回Series of lists\n",
    "result1 = s.str.split(',')\n",
    "print(\"基本分割:\")\n",
    "print(type(result1))\n",
    "print(result1)\n",
    "# 0    [a, b, c]\n",
    "# 1    [x, y, z]\n",
    "# 2    [p, q, r]\n",
    "\n",
    "# 2. 分割并展开成DataFrame\n",
    "result2 = s.str.split(',', expand=True)\n",
    "print(\"\\n分割并展开:\")\n",
    "print(result2)\n",
    "#    0  1  2\n",
    "# 0  a  b  c\n",
    "# 1  x  y  z\n",
    "# 2  p  q  r\n",
    "\n",
    "# 3. 限制分割次数\n",
    "result3 = s.str.split(',', n=1, expand=True)\n",
    "print(\"\\n限制分割次数:\")\n",
    "print(result3)\n",
    "#    0    1\n",
    "# 0  a  b,c\n",
    "# 1  x  y,z\n",
    "# 2  p  q,r\n",
    "\n",
    "# 4. 在DataFrame中使用\n",
    "result4 = df['col2'].str.split('_', expand=True)\n",
    "print(\"\\nDataFrame列分割:\")\n",
    "print(result4)\n",
    "#       0     1\n",
    "# 0  john   doe\n",
    "# 1  jane   doe\n",
    "# 2   jim  smith\n",
    "\n",
    "# 5. 使用正则表达式分割\n",
    "text = pd.Series(['a,b;c', 'x;y,z', 'p,q;r'])\n",
    "result5 = text.str.split('[,;]')  # 用逗号或分号分割\n",
    "print(\"\\n正则表达式分割:\")\n",
    "print(result5)\n",
    "# 0    [a, b, c]\n",
    "# 1    [x, y, z]\n",
    "# 2    [p, q, r]"
   ]
  },
  {
   "cell_type": "markdown",
   "metadata": {},
   "source": [
    "#### 时间序列"
   ]
  },
  {
   "cell_type": "code",
   "execution_count": 2,
   "metadata": {},
   "outputs": [
    {
     "name": "stdout",
     "output_type": "stream",
     "text": [
      "            Value\n",
      "Date             \n",
      "2025-01-01    300\n",
      "2025-01-02     25\n"
     ]
    },
    {
     "name": "stderr",
     "output_type": "stream",
     "text": [
      "C:\\Users\\99238\\AppData\\Local\\Temp\\ipykernel_15172\\3287314937.py:5: FutureWarning: 'H' is deprecated and will be removed in a future version, please use 'h' instead.\n",
      "  'Date': pd.date_range('2025-01-01', periods=25, freq='H'),\n"
     ]
    }
   ],
   "source": [
    "import pandas as pd\n",
    "\n",
    "# 创建每小时的数据\n",
    "df = pd.DataFrame({\n",
    "    'Date': pd.date_range('2025-01-01', periods=25, freq='H'),\n",
    "    'Value': range(1, 26)  # 假设每小时的数值为 1 到 24\n",
    "})\n",
    "\n",
    "df.set_index('Date', inplace=True)\n",
    "\n",
    "# 按天重采样，计算每天的总和\n",
    "daily_data = df.resample('D').sum()\n",
    "\n",
    "print(daily_data)"
   ]
  },
  {
   "cell_type": "markdown",
   "metadata": {},
   "source": [
    "## 一些场景"
   ]
  },
  {
   "cell_type": "markdown",
   "metadata": {},
   "source": [
    "### 去除交互数量不足5次的用户\n",
    "- 法1： 增加一列指示用户的交互数\n",
    "- 法2： 使用isin方法"
   ]
  },
  {
   "cell_type": "markdown",
   "metadata": {},
   "source": [
    "### 找出一个数据框有另一个数据框没有的行数据\n",
    "diff = df1.merge(df2, how='left', indicator=True)  \n",
    "only_in_df1 = diff[diff['_merge'] == 'left_only'].drop(columns=['_merge'])\n"
   ]
  },
  {
   "cell_type": "markdown",
   "metadata": {},
   "source": [
    "## 写代码时出现的疑问"
   ]
  },
  {
   "cell_type": "markdown",
   "metadata": {},
   "source": [
    "### 怎样给数据框增加行数据？\n",
    "- 添加单行可以用.loc[]方法，参数可以是列表或字典；\n",
    "- 添加多行用pd.concat([old,new],ignore_index=True); 没有DataFrame.concat()方法"
   ]
  },
  {
   "cell_type": "code",
   "execution_count": 7,
   "metadata": {},
   "outputs": [
    {
     "name": "stdout",
     "output_type": "stream",
     "text": [
      "    A   B\n",
      "0   1   3\n",
      "1   2   4\n",
      "2   5   7\n",
      "3   6   8\n",
      "4   9  10\n",
      "5  11  12\n"
     ]
    }
   ],
   "source": [
    "import pandas as pd\n",
    "a = pd.DataFrame({\"A\":[1,2],\"B\":[3,4]})\n",
    "\n",
    "new_dataframe = pd.DataFrame({\"A\":[5,6],\"B\":[7,8]})\n",
    "a = pd.concat([a,new_dataframe],ignore_index=True)\n",
    "\n",
    "new_list = [9,10]\n",
    "a.loc[len(a)] = new_list\n",
    "\n",
    "new_dict = {\"A\":11,\"B\":12}\n",
    "a.loc[len(a)] = new_dict\n",
    "\n",
    "print(a)"
   ]
  },
  {
   "cell_type": "markdown",
   "metadata": {},
   "source": [
    "### 怎样基于已有的列创建新列?\n",
    "- 使用.assign()方法，参数是字典，key是新列名，value是新列的值；"
   ]
  },
  {
   "cell_type": "code",
   "execution_count": 9,
   "metadata": {},
   "outputs": [
    {
     "name": "stdout",
     "output_type": "stream",
     "text": [
      "   A  B  C  D\n",
      "0  1  3  5  7\n",
      "1  2  4  6  8\n",
      "   A  B\n",
      "0  1  3\n",
      "1  2  4\n"
     ]
    },
    {
     "data": {
      "text/html": [
       "<div>\n",
       "<style scoped>\n",
       "    .dataframe tbody tr th:only-of-type {\n",
       "        vertical-align: middle;\n",
       "    }\n",
       "\n",
       "    .dataframe tbody tr th {\n",
       "        vertical-align: top;\n",
       "    }\n",
       "\n",
       "    .dataframe thead th {\n",
       "        text-align: right;\n",
       "    }\n",
       "</style>\n",
       "<table border=\"1\" class=\"dataframe\">\n",
       "  <thead>\n",
       "    <tr style=\"text-align: right;\">\n",
       "      <th></th>\n",
       "      <th>A</th>\n",
       "      <th>B</th>\n",
       "      <th>C</th>\n",
       "      <th>D</th>\n",
       "    </tr>\n",
       "  </thead>\n",
       "  <tbody>\n",
       "    <tr>\n",
       "      <th>0</th>\n",
       "      <td>1</td>\n",
       "      <td>3</td>\n",
       "      <td>4</td>\n",
       "      <td>7</td>\n",
       "    </tr>\n",
       "    <tr>\n",
       "      <th>1</th>\n",
       "      <td>2</td>\n",
       "      <td>4</td>\n",
       "      <td>6</td>\n",
       "      <td>10</td>\n",
       "    </tr>\n",
       "  </tbody>\n",
       "</table>\n",
       "</div>"
      ],
      "text/plain": [
       "   A  B  C   D\n",
       "0  1  3  4   7\n",
       "1  2  4  6  10"
      ]
     },
     "execution_count": 9,
     "metadata": {},
     "output_type": "execute_result"
    }
   ],
   "source": [
    "import pandas as pd \n",
    "a = pd.DataFrame({\"A\":[1,2],\"B\":[3,4]})\n",
    "# 使用数值\n",
    "new_column = {\"C\":[5,6], \"D\":[7,8]}\n",
    "print(a.assign(**new_column))\n",
    "print(a)\n",
    "\n",
    "\n",
    "# 链式增加新列\n",
    "a.assign(C=a[\"A\"]+a[\"B\"], #可以基于现有列，也可以使用lambda表达式\n",
    "        D=lambda x: x[\"C\"]+x[\"B\"] #可以使用之前创建的列\n",
    ")\n"
   ]
  },
  {
   "cell_type": "markdown",
   "metadata": {},
   "source": [
    "### Series的unique()方法返回的是numpy还是Series？\n",
    "- numpy"
   ]
  },
  {
   "cell_type": "code",
   "execution_count": 1,
   "metadata": {},
   "outputs": [
    {
     "name": "stdout",
     "output_type": "stream",
     "text": [
      "<class 'numpy.ndarray'>\n"
     ]
    }
   ],
   "source": [
    "import pandas as pd\n",
    "Series = pd.Series([1,2,3,4,5])\n",
    "print(type(Series.unique()))"
   ]
  },
  {
   "cell_type": "markdown",
   "metadata": {},
   "source": [
    "### 用字典创建pandas DataFrame时值可以是numpy数组吗\n",
    "- 可以"
   ]
  },
  {
   "cell_type": "markdown",
   "metadata": {},
   "source": [
    "### Pandas数据框可以转化为字典吗？ DataFrame.to_dict()和Series.to_dict()用法\n",
    "- DataFram时有三种用法：\n",
    "    - 不带参数：返回一个字典，键是列名，值也是字典，值的键是行索引，值是该列的值\n",
    "    - orient='records': 每一行一个字典，转化为json;\n",
    "    - orient='list\": 字典的键是列名，值是列表\n",
    "- Series时：\n",
    "    - 不带参数：返回一个字典，键是索引，值是该索引的值"
   ]
  },
  {
   "cell_type": "code",
   "execution_count": 6,
   "metadata": {},
   "outputs": [
    {
     "data": {
      "text/plain": [
       "{101: [1, 1],\n",
       " 102: [1, 2],\n",
       " 106: [2],\n",
       " 114: [1, 2],\n",
       " 120: [1, 1, 2],\n",
       " 121: [1, 2],\n",
       " 123: [1],\n",
       " 129: [1],\n",
       " 132: [1],\n",
       " 137: [1],\n",
       " 138: [2],\n",
       " 141: [2],\n",
       " 146: [2],\n",
       " 148: [2],\n",
       " 150: [2, 2],\n",
       " 151: [1],\n",
       " 152: [1],\n",
       " 154: [2],\n",
       " 157: [2],\n",
       " 158: [2],\n",
       " 159: [1, 2],\n",
       " 160: [1],\n",
       " 161: [2, 2, 2],\n",
       " 163: [1, 2],\n",
       " 171: [1],\n",
       " 172: [2],\n",
       " 174: [1, 1],\n",
       " 175: [2],\n",
       " 179: [2],\n",
       " 182: [1],\n",
       " 186: [1],\n",
       " 187: [1, 1],\n",
       " 188: [2],\n",
       " 190: [2],\n",
       " 191: [2],\n",
       " 192: [1],\n",
       " 199: [1]}"
      ]
     },
     "execution_count": 6,
     "metadata": {},
     "output_type": "execute_result"
    }
   ],
   "source": [
    "import pandas as pd\n",
    "import numpy as np\n",
    "\n",
    "# 生成样例数据：2个用户，每个有25个交互\n",
    "np.random.seed(42)  # 设置种子确保可复现\n",
    "user_ids = [1] * 25 + [2] * 25\n",
    "item_ids = np.random.randint(100, 200, size=50)  # 随机item_id\n",
    "clicks = np.random.randint(0, 2, size=50)  # 随机click (0或1)\n",
    "df = pd.DataFrame({\n",
    "    'user_id': user_ids,\n",
    "    'item_id': item_ids,\n",
    "    'click': clicks\n",
    "})\n",
    "a = df.groupby('item_id')[\"user_id\"].agg(list)\n",
    "a.to_dict()# 用在series上"
   ]
  },
  {
   "cell_type": "markdown",
   "metadata": {},
   "source": [
    "### 用字典构建数据框时，字典的键是列名，值不一定是列表"
   ]
  },
  {
   "cell_type": "code",
   "execution_count": 4,
   "metadata": {},
   "outputs": [
    {
     "name": "stdout",
     "output_type": "stream",
     "text": [
      "  alphabet  number\n",
      "0        A       1\n",
      "1        B       2\n",
      "2        C       3\n"
     ]
    }
   ],
   "source": [
    "import pandas as pd\n",
    "dict = {\"A\":1, \"B\":2, \"C\":3}\n",
    "df = pd.DataFrame({\"alphabet\":dict.keys(), \"number\":dict.values()})\n",
    "print(df)"
   ]
  },
  {
   "cell_type": "markdown",
   "metadata": {},
   "source": [
    "### 可以用numpy定义数据框列吗？\n",
    "可以"
   ]
  },
  {
   "cell_type": "code",
   "execution_count": null,
   "metadata": {},
   "outputs": [
    {
     "name": "stdout",
     "output_type": "stream",
     "text": [
      "   A   B  a\n",
      "0  1   6  1\n",
      "1  2   7  2\n",
      "2  3   8  3\n",
      "3  4   9  4\n",
      "4  5  10  5\n"
     ]
    }
   ],
   "source": [
    "import pandas as pd\n",
    "import numpy as np\n",
    "df = pd.DataFrame({'A':[1,2,3,4,5], 'B':[6,7,8,9,10]})\n",
    "a = np.array([1,2,3,4,5])\n",
    "df['a'] = a\n",
    "print(df)"
   ]
  },
  {
   "cell_type": "markdown",
   "metadata": {},
   "source": [
    "### 可以对pandas的series使用list吗？"
   ]
  },
  {
   "cell_type": "code",
   "execution_count": 1,
   "metadata": {},
   "outputs": [
    {
     "data": {
      "text/plain": [
       "[1, 2, 3]"
      ]
     },
     "execution_count": 1,
     "metadata": {},
     "output_type": "execute_result"
    }
   ],
   "source": [
    "import pandas as pd\n",
    "a = pd.Series([1,2,3])\n",
    "list(a)"
   ]
  },
  {
   "cell_type": "markdown",
   "metadata": {},
   "source": [
    "### 不会重置index的操作"
   ]
  }
 ],
 "metadata": {
  "kernelspec": {
   "display_name": "pytorch",
   "language": "python",
   "name": "python3"
  },
  "language_info": {
   "codemirror_mode": {
    "name": "ipython",
    "version": 3
   },
   "file_extension": ".py",
   "mimetype": "text/x-python",
   "name": "python",
   "nbconvert_exporter": "python",
   "pygments_lexer": "ipython3",
   "version": "3.9.18"
  }
 },
 "nbformat": 4,
 "nbformat_minor": 2
}
